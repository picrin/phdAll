{
 "cells": [
  {
   "cell_type": "markdown",
   "metadata": {},
   "source": [
    "# Loading `cleaned` into memory using R's magic"
   ]
  },
  {
   "cell_type": "code",
   "execution_count": 1,
   "metadata": {
    "collapsed": false
   },
   "outputs": [],
   "source": [
    "cleaned <- read.csv(\"cleaned\", header=0, row.names=1,sep=\"\\t\", skip=0)"
   ]
  },
  {
   "cell_type": "markdown",
   "metadata": {},
   "source": [
    "## Renaming column and row descriptions appropriately"
   ]
  },
  {
   "cell_type": "code",
   "execution_count": 2,
   "metadata": {
    "collapsed": false
   },
   "outputs": [],
   "source": [
    "cleaned[,ncol(cleaned)] <- NULL\n",
    "\n",
    "renameNumCols <- function(table, rowName) {\n",
    "    result <- c()\n",
    "\n",
    "    for (val in table[rowName,]) {\n",
    "        result <- c(result, paste(\"X\", val, sep=\"\"))\n",
    "    }\n",
    "    \n",
    "    colnames(table) <- result\n",
    "    return(table)\n",
    "}\n",
    "\n",
    "renameNumRowsSelf <- function(table) {\n",
    "    result <- c()\n",
    "    for (rowName in rownames(table)) {\n",
    "        result <- c(result, paste(\"X\", rowName, sep=\"\")) \n",
    "    }\n",
    "    rownames(table) <- result\n",
    "    return(table)\n",
    "}\n",
    "\n",
    "cleaned <- renameNumCols(cleaned, \"IDs\")\n",
    "\n",
    "counter <- 0\n",
    "for (val in rownames(cleaned)) {\n",
    "    counter <- counter + 1\n",
    "    if (val == \"Affymetrix\") {\n",
    "        break\n",
    "    }\n",
    "}\n",
    "\n",
    "metadata <- cleaned[c(1:counter-1),]\n",
    "data <- cleaned[c((counter+1):nrow(cleaned)),]\n",
    "\n",
    "data <- renameNumRowsSelf(data)\n",
    "\n",
    "metadata <- t(metadata)\n",
    "data <- data"
   ]
  },
  {
   "cell_type": "code",
   "execution_count": 3,
   "metadata": {
    "collapsed": false,
    "scrolled": true
   },
   "outputs": [
    {
     "data": {
      "text/html": [
       "<table>\n",
       "<thead><tr><th></th><th scope=col>ModalAllele</th></tr></thead>\n",
       "<tbody>\n",
       "\t<tr><th scope=row>X189676HUEX1A11</th><td> 872</td></tr>\n",
       "\t<tr><th scope=row>X189694HUEX1A11</th><td> 297</td></tr>\n",
       "\t<tr><th scope=row>X189682HUEX1A11</th><td> 593</td></tr>\n",
       "\t<tr><th scope=row>X189598HUEX1A11</th><td> 408</td></tr>\n",
       "\t<tr><th scope=row>X189688HUEX1A11</th><td> 717</td></tr>\n",
       "\t<tr><th scope=row>X189604HUEX1A11</th><td>1035</td></tr>\n",
       "\t<tr><th scope=row>X190217HUEX1A11</th><td> 373</td></tr>\n",
       "\t<tr><th scope=row>X189700HUEX1A11</th><td> 118</td></tr>\n",
       "\t<tr><th scope=row>X189706HUEX1A11</th><td> 280</td></tr>\n",
       "\t<tr><th scope=row>X190223HUEX1A11</th><td> 993</td></tr>\n",
       "\t<tr><th scope=row>X189610HUEX1A11</th><td> 740</td></tr>\n",
       "\t<tr><th scope=row>X189616HUEX1A11</th><td>1111</td></tr>\n",
       "\t<tr><th scope=row>X189622HUEX1A11</th><td> 290</td></tr>\n",
       "\t<tr><th scope=row>X189628HUEX1A11</th><td> 654</td></tr>\n",
       "\t<tr><th scope=row>X189670HUEX1A11</th><td>  11</td></tr>\n",
       "\t<tr><th scope=row>X189664HUEX1A11</th><td> 261</td></tr>\n",
       "\t<tr><th scope=row>X189730HUEX1A11</th><td>  12</td></tr>\n",
       "\t<tr><th scope=row>X189634HUEX1A11</th><td> 571</td></tr>\n",
       "\t<tr><th scope=row>X190229HUEX1A11</th><td> 186</td></tr>\n",
       "\t<tr><th scope=row>X190235HUEX1A11</th><td>1261</td></tr>\n",
       "\t<tr><th scope=row>X189640HUEX1A11</th><td>1000</td></tr>\n",
       "\t<tr><th scope=row>X190241HUEX1A11</th><td> 345</td></tr>\n",
       "\t<tr><th scope=row>X189712HUEX1A11</th><td> 465</td></tr>\n",
       "\t<tr><th scope=row>X190247HUEX1A11</th><td> 604</td></tr>\n",
       "\t<tr><th scope=row>X189718HUEX1A11</th><td> 223</td></tr>\n",
       "\t<tr><th scope=row>X189646HUEX1A11</th><td>  12</td></tr>\n",
       "\t<tr><th scope=row>X190253HUEX1A11</th><td>  83</td></tr>\n",
       "\t<tr><th scope=row>X189652HUEX1A11</th><td>  12</td></tr>\n",
       "\t<tr><th scope=row>X190259HUEX1A11</th><td> 999</td></tr>\n",
       "\t<tr><th scope=row>X189724HUEX1A11</th><td>  13</td></tr>\n",
       "\t<tr><th scope=row>X190265HUEX1A11</th><td> 561</td></tr>\n",
       "\t<tr><th scope=row>X189592HUEX1A11</th><td>  77</td></tr>\n",
       "\t<tr><th scope=row>X189586HUEX1A11</th><td> 240</td></tr>\n",
       "\t<tr><th scope=row>X189658HUEX1A11</th><td> 866</td></tr>\n",
       "\t<tr><th scope=row>X190271HUEX1A11</th><td> 697</td></tr>\n",
       "</tbody>\n",
       "</table>\n"
      ],
      "text/latex": [
       "\\begin{tabular}{r|l}\n",
       "  & ModalAllele\\\\\n",
       "\\hline\n",
       "\tX189676HUEX1A11 &  872\\\\\n",
       "\tX189694HUEX1A11 &  297\\\\\n",
       "\tX189682HUEX1A11 &  593\\\\\n",
       "\tX189598HUEX1A11 &  408\\\\\n",
       "\tX189688HUEX1A11 &  717\\\\\n",
       "\tX189604HUEX1A11 & 1035\\\\\n",
       "\tX190217HUEX1A11 &  373\\\\\n",
       "\tX189700HUEX1A11 &  118\\\\\n",
       "\tX189706HUEX1A11 &  280\\\\\n",
       "\tX190223HUEX1A11 &  993\\\\\n",
       "\tX189610HUEX1A11 &  740\\\\\n",
       "\tX189616HUEX1A11 & 1111\\\\\n",
       "\tX189622HUEX1A11 &  290\\\\\n",
       "\tX189628HUEX1A11 &  654\\\\\n",
       "\tX189670HUEX1A11 &   11\\\\\n",
       "\tX189664HUEX1A11 &  261\\\\\n",
       "\tX189730HUEX1A11 &   12\\\\\n",
       "\tX189634HUEX1A11 &  571\\\\\n",
       "\tX190229HUEX1A11 &  186\\\\\n",
       "\tX190235HUEX1A11 & 1261\\\\\n",
       "\tX189640HUEX1A11 & 1000\\\\\n",
       "\tX190241HUEX1A11 &  345\\\\\n",
       "\tX189712HUEX1A11 &  465\\\\\n",
       "\tX190247HUEX1A11 &  604\\\\\n",
       "\tX189718HUEX1A11 &  223\\\\\n",
       "\tX189646HUEX1A11 &   12\\\\\n",
       "\tX190253HUEX1A11 &   83\\\\\n",
       "\tX189652HUEX1A11 &   12\\\\\n",
       "\tX190259HUEX1A11 &  999\\\\\n",
       "\tX189724HUEX1A11 &   13\\\\\n",
       "\tX190265HUEX1A11 &  561\\\\\n",
       "\tX189592HUEX1A11 &   77\\\\\n",
       "\tX189586HUEX1A11 &  240\\\\\n",
       "\tX189658HUEX1A11 &  866\\\\\n",
       "\tX190271HUEX1A11 &  697\\\\\n",
       "\\end{tabular}\n"
      ],
      "text/plain": [
       "                ModalAllele\n",
       "X189676HUEX1A11  872       \n",
       "X189694HUEX1A11  297       \n",
       "X189682HUEX1A11  593       \n",
       "X189598HUEX1A11  408       \n",
       "X189688HUEX1A11  717       \n",
       "X189604HUEX1A11 1035       \n",
       "X190217HUEX1A11  373       \n",
       "X189700HUEX1A11  118       \n",
       "X189706HUEX1A11  280       \n",
       "X190223HUEX1A11  993       \n",
       "X189610HUEX1A11  740       \n",
       "X189616HUEX1A11 1111       \n",
       "X189622HUEX1A11  290       \n",
       "X189628HUEX1A11  654       \n",
       "X189670HUEX1A11   11       \n",
       "X189664HUEX1A11  261       \n",
       "X189730HUEX1A11   12       \n",
       "X189634HUEX1A11  571       \n",
       "X190229HUEX1A11  186       \n",
       "X190235HUEX1A11 1261       \n",
       "X189640HUEX1A11 1000       \n",
       "X190241HUEX1A11  345       \n",
       "X189712HUEX1A11  465       \n",
       "X190247HUEX1A11  604       \n",
       "X189718HUEX1A11  223       \n",
       "X189646HUEX1A11   12       \n",
       "X190253HUEX1A11   83       \n",
       "X189652HUEX1A11   12       \n",
       "X190259HUEX1A11  999       \n",
       "X189724HUEX1A11   13       \n",
       "X190265HUEX1A11  561       \n",
       "X189592HUEX1A11   77       \n",
       "X189586HUEX1A11  240       \n",
       "X189658HUEX1A11  866       \n",
       "X190271HUEX1A11  697       "
      ]
     },
     "metadata": {},
     "output_type": "display_data"
    }
   ],
   "source": [
    "design <- data.frame(\"ModalAllele\" = as.numeric(metadata[,\"ModalAllele\"]))\n",
    "rownames(design) <- rownames(metadata)\n",
    "design"
   ]
  },
  {
   "cell_type": "markdown",
   "metadata": {},
   "source": [
    "### Example of fitting a single linear regression using built-in lm. I'm surprised at the amount of hackery involved to get this working -- clearly I'm doing something wrong."
   ]
  },
  {
   "cell_type": "code",
   "execution_count": 4,
   "metadata": {
    "collapsed": false
   },
   "outputs": [
    {
     "data": {
      "image/png": "[encoded data removed]",
      "text/plain": [
       "plot without title"
      ]
     },
     "metadata": {},
     "output_type": "display_data"
    }
   ],
   "source": [
    "exampleData <- cleaned[c(\"ModalAllele\", \"2315554\"), ]\n",
    "\n",
    "rownames(exampleData) <- c(\"ModalAllele\", \"X2315554\")\n",
    "exampleData <- t(exampleData)\n",
    "actualFrame <- data.frame(\"ModalAllele\" = as.numeric(exampleData[,\"ModalAllele\"]), \"X2315554\" = as.numeric(exampleData[,\"X2315554\"]))\n",
    "fit <- lm(X2315554 ~ ModalAllele, data=actualFrame)\n",
    "plot(actualFrame)\n",
    "abline(fit)"
   ]
  },
  {
   "cell_type": "markdown",
   "metadata": {},
   "source": [
    "## The real deal -- fitting model with limma"
   ]
  },
  {
   "cell_type": "code",
   "execution_count": 5,
   "metadata": {
    "collapsed": false
   },
   "outputs": [
    {
     "data": {
      "text/html": [
       "'integer'"
      ],
      "text/latex": [
       "'integer'"
      ],
      "text/markdown": [
       "'integer'"
      ],
      "text/plain": [
       "[1] \"integer\""
      ]
     },
     "metadata": {},
     "output_type": "display_data"
    }
   ],
   "source": [
    "typeof(data[1, 1])\n",
    "data2 <- as.matrix(data)"
   ]
  },
  {
   "cell_type": "code",
   "execution_count": 6,
   "metadata": {
    "collapsed": false
   },
   "outputs": [],
   "source": [
    "data3 <- as.numeric(data2)"
   ]
  },
  {
   "cell_type": "code",
   "execution_count": 7,
   "metadata": {
    "collapsed": false
   },
   "outputs": [],
   "source": [
    "data4 <- matrix(data3, ncol=ncol(data), nrow=nrow(data))"
   ]
  },
  {
   "cell_type": "code",
   "execution_count": 8,
   "metadata": {
    "collapsed": false
   },
   "outputs": [],
   "source": [
    "rownames(data4) <- rownames(data2)\n",
    "colnames(data4) <- colnames(data2)"
   ]
  },
  {
   "cell_type": "code",
   "execution_count": 9,
   "metadata": {
    "collapsed": false
   },
   "outputs": [
    {
     "name": "stderr",
     "output_type": "stream",
     "text": [
      "Loading required package: Biobase\n",
      "Loading required package: BiocGenerics\n",
      "Loading required package: parallel\n",
      "\n",
      "Attaching package: ‘BiocGenerics’\n",
      "\n",
      "The following objects are masked from ‘package:parallel’:\n",
      "\n",
      "    clusterApply, clusterApplyLB, clusterCall, clusterEvalQ,\n",
      "    clusterExport, clusterMap, parApply, parCapply, parLapply,\n",
      "    parLapplyLB, parRapply, parSapply, parSapplyLB\n",
      "\n",
      "The following object is masked from ‘package:limma’:\n",
      "\n",
      "    plotMA\n",
      "\n",
      "The following objects are masked from ‘package:stats’:\n",
      "\n",
      "    IQR, mad, xtabs\n",
      "\n",
      "The following objects are masked from ‘package:base’:\n",
      "\n",
      "    anyDuplicated, append, as.data.frame, cbind, colnames, do.call,\n",
      "    duplicated, eval, evalq, Filter, Find, get, grep, grepl, intersect,\n",
      "    is.unsorted, lapply, lengths, Map, mapply, match, mget, order,\n",
      "    paste, pmax, pmax.int, pmin, pmin.int, Position, rank, rbind,\n",
      "    Reduce, rownames, sapply, setdiff, sort, table, tapply, union,\n",
      "    unique, unsplit\n",
      "\n",
      "Welcome to Bioconductor\n",
      "\n",
      "    Vignettes contain introductory material; view with\n",
      "    'browseVignettes()'. To cite Bioconductor, see\n",
      "    'citation(\"Biobase\")', and for packages 'citation(\"pkgname\")'.\n",
      "\n"
     ]
    }
   ],
   "source": [
    "library(limma)\n",
    "require(Biobase)\n",
    "\n",
    "#eset <- new(\"ExpressionSet\", exprs=data)\n",
    "\n",
    "# no idea how to fix this...\n",
    "result <- lmFit(data4, design)"
   ]
  },
  {
   "cell_type": "code",
   "execution_count": 10,
   "metadata": {
    "collapsed": false
   },
   "outputs": [
    {
     "data": {
      "text/html": [
       "<table>\n",
       "<thead><tr><th></th><th scope=col>logFC</th><th scope=col>AveExpr</th><th scope=col>t</th><th scope=col>P.Value</th><th scope=col>adj.P.Val</th><th scope=col>B</th></tr></thead>\n",
       "<tbody>\n",
       "\t<tr><th scope=row>X2383894</th><td>0.01280524  </td><td> 9.345057   </td><td>9.036496    </td><td>1.750250e-11</td><td>1.281278e-09</td><td>14.27286    </td></tr>\n",
       "\t<tr><th scope=row>X2787958</th><td>0.01450216  </td><td>10.686969   </td><td>8.914528    </td><td>2.571264e-11</td><td>1.281278e-09</td><td>13.88390    </td></tr>\n",
       "\t<tr><th scope=row>X3657253</th><td>0.01506176  </td><td>11.113207   </td><td>8.903674    </td><td>2.661016e-11</td><td>1.281278e-09</td><td>13.84921    </td></tr>\n",
       "\t<tr><th scope=row>X2896545</th><td>0.01487191  </td><td>10.996924   </td><td>8.889329    </td><td>2.784526e-11</td><td>1.281278e-09</td><td>13.80334    </td></tr>\n",
       "\t<tr><th scope=row>X2435005</th><td>0.01504998  </td><td>11.140480   </td><td>8.860423    </td><td>3.051300e-11</td><td>1.281278e-09</td><td>13.71084    </td></tr>\n",
       "\t<tr><th scope=row>X3759006</th><td>0.01491451  </td><td>11.040790   </td><td>8.859556    </td><td>3.059696e-11</td><td>1.281278e-09</td><td>13.70806    </td></tr>\n",
       "\t<tr><th scope=row>X2383884</th><td>0.01429626  </td><td>10.574257   </td><td>8.857355    </td><td>3.081091e-11</td><td>1.281278e-09</td><td>13.70102    </td></tr>\n",
       "\t<tr><th scope=row>X2778856</th><td>0.01288273  </td><td> 9.483632   </td><td>8.849761    </td><td>3.156107e-11</td><td>1.281278e-09</td><td>13.67670    </td></tr>\n",
       "\t<tr><th scope=row>X3621029</th><td>0.01276155  </td><td> 9.392670   </td><td>8.836839    </td><td>3.288019e-11</td><td>1.281278e-09</td><td>13.63531    </td></tr>\n",
       "\t<tr><th scope=row>X2411173</th><td>0.01448626  </td><td>10.727900   </td><td>8.831224    </td><td>3.347069e-11</td><td>1.281278e-09</td><td>13.61732    </td></tr>\n",
       "</tbody>\n",
       "</table>\n"
      ],
      "text/latex": [
       "\\begin{tabular}{r|llllll}\n",
       "  & logFC & AveExpr & t & P.Value & adj.P.Val & B\\\\\n",
       "\\hline\n",
       "\tX2383894 & 0.01280524   &  9.345057    & 9.036496     & 1.750250e-11 & 1.281278e-09 & 14.27286    \\\\\n",
       "\tX2787958 & 0.01450216   & 10.686969    & 8.914528     & 2.571264e-11 & 1.281278e-09 & 13.88390    \\\\\n",
       "\tX3657253 & 0.01506176   & 11.113207    & 8.903674     & 2.661016e-11 & 1.281278e-09 & 13.84921    \\\\\n",
       "\tX2896545 & 0.01487191   & 10.996924    & 8.889329     & 2.784526e-11 & 1.281278e-09 & 13.80334    \\\\\n",
       "\tX2435005 & 0.01504998   & 11.140480    & 8.860423     & 3.051300e-11 & 1.281278e-09 & 13.71084    \\\\\n",
       "\tX3759006 & 0.01491451   & 11.040790    & 8.859556     & 3.059696e-11 & 1.281278e-09 & 13.70806    \\\\\n",
       "\tX2383884 & 0.01429626   & 10.574257    & 8.857355     & 3.081091e-11 & 1.281278e-09 & 13.70102    \\\\\n",
       "\tX2778856 & 0.01288273   &  9.483632    & 8.849761     & 3.156107e-11 & 1.281278e-09 & 13.67670    \\\\\n",
       "\tX3621029 & 0.01276155   &  9.392670    & 8.836839     & 3.288019e-11 & 1.281278e-09 & 13.63531    \\\\\n",
       "\tX2411173 & 0.01448626   & 10.727900    & 8.831224     & 3.347069e-11 & 1.281278e-09 & 13.61732    \\\\\n",
       "\\end{tabular}\n"
      ],
      "text/plain": [
       "         logFC      AveExpr   t        P.Value      adj.P.Val    B       \n",
       "X2383894 0.01280524  9.345057 9.036496 1.750250e-11 1.281278e-09 14.27286\n",
       "X2787958 0.01450216 10.686969 8.914528 2.571264e-11 1.281278e-09 13.88390\n",
       "X3657253 0.01506176 11.113207 8.903674 2.661016e-11 1.281278e-09 13.84921\n",
       "X2896545 0.01487191 10.996924 8.889329 2.784526e-11 1.281278e-09 13.80334\n",
       "X2435005 0.01504998 11.140480 8.860423 3.051300e-11 1.281278e-09 13.71084\n",
       "X3759006 0.01491451 11.040790 8.859556 3.059696e-11 1.281278e-09 13.70806\n",
       "X2383884 0.01429626 10.574257 8.857355 3.081091e-11 1.281278e-09 13.70102\n",
       "X2778856 0.01288273  9.483632 8.849761 3.156107e-11 1.281278e-09 13.67670\n",
       "X3621029 0.01276155  9.392670 8.836839 3.288019e-11 1.281278e-09 13.63531\n",
       "X2411173 0.01448626 10.727900 8.831224 3.347069e-11 1.281278e-09 13.61732"
      ]
     },
     "metadata": {},
     "output_type": "display_data"
    }
   ],
   "source": [
    "resultEbayes <- eBayes(result)\n",
    "all <- topTable(resultEbayes, n=Inf)\n",
    "topTable(resultEbayes, n=10)"
   ]
  },
  {
   "cell_type": "markdown",
   "metadata": {},
   "source": [
    "## Write genes sorted by relevance for further work in python."
   ]
  },
  {
   "cell_type": "code",
   "execution_count": 11,
   "metadata": {
    "collapsed": true
   },
   "outputs": [],
   "source": [
    "write.table(all, file = \"cleanedLimma\")"
   ]
  }
 ],
 "metadata": {
  "anaconda-cloud": {},
  "kernelspec": {
   "display_name": "R",
   "language": "R",
   "name": "ir"
  },
  "language_info": {
   "codemirror_mode": "r",
   "file_extension": ".r",
   "mimetype": "text/x-r-source",
   "name": "R",
   "pygments_lexer": "r",
   "version": "3.3.1"
  }
 },
 "nbformat": 4,
 "nbformat_minor": 0
}
