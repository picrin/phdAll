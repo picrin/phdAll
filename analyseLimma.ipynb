{
 "cells": [
  {
   "cell_type": "markdown",
   "metadata": {},
   "source": [
    "# Loading `cleaned` into memory using R's magic"
   ]
  },
  {
   "cell_type": "code",
   "execution_count": 1,
   "metadata": {
    "collapsed": false
   },
   "outputs": [],
   "source": [
    "cleaned <- read.csv(\"cleaned\", header=0, row.names=1,sep=\"\\t\", skip=0)"
   ]
  },
  {
   "cell_type": "markdown",
   "metadata": {},
   "source": [
    "## Renaming column and row descriptions appropriately"
   ]
  },
  {
   "cell_type": "code",
   "execution_count": 2,
   "metadata": {
    "collapsed": false
   },
   "outputs": [],
   "source": [
    "cleaned[,ncol(cleaned)] <- NULL\n",
    "\n",
    "renameNumCols <- function(table, rowName) {\n",
    "    result <- c()\n",
    "\n",
    "    for (val in table[rowName,]) {\n",
    "        result <- c(result, paste(\"X\", val, sep=\"\"))\n",
    "    }\n",
    "    \n",
    "    colnames(table) <- result\n",
    "    return(table)\n",
    "}\n",
    "\n",
    "renameNumRowsSelf <- function(table) {\n",
    "    result <- c()\n",
    "    for (rowName in rownames(table)) {\n",
    "        result <- c(result, paste(\"X\", rowName, sep=\"\")) \n",
    "    }\n",
    "    rownames(table) <- result\n",
    "    return(table)\n",
    "}\n",
    "\n",
    "cleaned <- renameNumCols(cleaned, \"IDs\")\n",
    "\n",
    "counter <- 0\n",
    "for (val in rownames(cleaned)) {\n",
    "    counter <- counter + 1\n",
    "    if (val == \"Affymetrix\") {\n",
    "        break\n",
    "    }\n",
    "}\n",
    "\n",
    "metadata <- cleaned[c(1:counter-1),]\n",
    "data <- cleaned[c((counter+1):nrow(cleaned)),]\n",
    "\n",
    "data <- renameNumRowsSelf(data)\n",
    "\n",
    "metadata <- t(metadata)\n",
    "data <- data"
   ]
  },
  {
   "cell_type": "code",
   "execution_count": 3,
   "metadata": {
    "collapsed": false,
    "scrolled": true
   },
   "outputs": [],
   "source": [
    "design <- data.frame(\"ModalAllele\" = as.numeric(metadata[,\"ModalAllele\"]))\n",
    "rownames(design) <- rownames(metadata)\n"
   ]
  },
  {
   "cell_type": "code",
   "execution_count": 4,
   "metadata": {
    "collapsed": false
   },
   "outputs": [
    {
     "data": {
      "image/png": "[encoded data removed]",
      "text/plain": [
       "plot without title"
      ]
     },
     "metadata": {},
     "output_type": "display_data"
    }
   ],
   "source": [
    "exampleData <- cleaned[c(\"ModalAllele\", \"2315554\"), ]\n",
    "\n",
    "rownames(exampleData) <- c(\"ModalAllele\", \"X2315554\")\n",
    "exampleData <- t(exampleData)\n",
    "actualFrame <- data.frame(\"ModalAllele\" = as.numeric(exampleData[,\"ModalAllele\"]), \"X2315554\" = as.numeric(exampleData[,\"X2315554\"]))\n",
    "fit <- lm(X2315554 ~ ModalAllele, data=actualFrame)\n",
    "plot(actualFrame)\n",
    "abline(fit)"
   ]
  },
  {
   "cell_type": "markdown",
   "metadata": {},
   "source": [
    "### Example of fitting a single linear regression using built-in lm. I'm surprised at the amount of hackery involved to get this working -- clearly I'm doing something wrong."
   ]
  },
  {
   "cell_type": "markdown",
   "metadata": {},
   "source": [
    "## The real thing -- fitting model with limma (can't get it to work)"
   ]
  },
  {
   "cell_type": "code",
   "execution_count": 5,
   "metadata": {
    "collapsed": false
   },
   "outputs": [
    {
     "name": "stderr",
     "output_type": "stream",
     "text": [
      "Loading required package: Biobase\n",
      "Loading required package: BiocGenerics\n",
      "Loading required package: parallel\n",
      "\n",
      "Attaching package: ‘BiocGenerics’\n",
      "\n",
      "The following objects are masked from ‘package:parallel’:\n",
      "\n",
      "    clusterApply, clusterApplyLB, clusterCall, clusterEvalQ,\n",
      "    clusterExport, clusterMap, parApply, parCapply, parLapply,\n",
      "    parLapplyLB, parRapply, parSapply, parSapplyLB\n",
      "\n",
      "The following object is masked from ‘package:limma’:\n",
      "\n",
      "    plotMA\n",
      "\n",
      "The following objects are masked from ‘package:stats’:\n",
      "\n",
      "    IQR, mad, xtabs\n",
      "\n",
      "The following objects are masked from ‘package:base’:\n",
      "\n",
      "    anyDuplicated, append, as.data.frame, cbind, colnames, do.call,\n",
      "    duplicated, eval, evalq, Filter, Find, get, grep, grepl, intersect,\n",
      "    is.unsorted, lapply, lengths, Map, mapply, match, mget, order,\n",
      "    paste, pmax, pmax.int, pmin, pmin.int, Position, rank, rbind,\n",
      "    Reduce, rownames, sapply, setdiff, sort, table, tapply, union,\n",
      "    unique, unsplit\n",
      "\n",
      "Welcome to Bioconductor\n",
      "\n",
      "    Vignettes contain introductory material; view with\n",
      "    'browseVignettes()'. To cite Bioconductor, see\n",
      "    'citation(\"Biobase\")', and for packages 'citation(\"pkgname\")'.\n",
      "\n"
     ]
    },
    {
     "ename": "ERROR",
     "evalue": "Error in (function (classes, fdef, mtable) : unable to find an inherited method for function ‘annotatedDataFrameFrom’ for signature ‘\"factor\"’\n",
     "output_type": "error",
     "traceback": [
      "Error in (function (classes, fdef, mtable) : unable to find an inherited method for function ‘annotatedDataFrameFrom’ for signature ‘\"factor\"’\nTraceback:\n",
      "1. new(\"ExpressionSet\", exprs = data)",
      "2. initialize(value, ...)",
      "3. initialize(value, ...)",
      "4. .local(.Object, ...)",
      "5. annotatedDataFrameFrom(exprs, byrow = FALSE)",
      "6. annotatedDataFrameFrom(exprs, byrow = FALSE)",
      "7. annotatedDataFrameFrom(object[[eltNames[1]]], byrow = byrow, \n .     ...)",
      "8. (function (classes, fdef, mtable) \n . {\n .     methods <- .findInheritedMethods(classes, fdef, mtable)\n .     if (length(methods) == 1L) \n .         return(methods[[1L]])\n .     else if (length(methods) == 0L) {\n .         cnames <- paste0(\"\\\"\", vapply(classes, as.character, \n .             \"\"), \"\\\"\", collapse = \", \")\n .         stop(gettextf(\"unable to find an inherited method for function %s for signature %s\", \n .             sQuote(fdef@generic), sQuote(cnames)), domain = NA)\n .     }\n .     else stop(\"Internal error in finding inherited methods; didn't return a unique method\", \n .         domain = NA)\n . })(list(\"factor\"), structure(function (object, byrow, ...) \n . standardGeneric(\"annotatedDataFrameFrom\"), generic = structure(\"annotatedDataFrameFrom\", package = \"Biobase\"), package = \"Biobase\", group = list(), valueClass = character(0), signature = c(\"object\", \n . \"byrow\"), default = `\\001NULL\\001`, skeleton = (function (object, \n .     byrow, ...) \n . stop(\"invalid call in method dispatch to 'annotatedDataFrameFrom' (no default method)\", \n .     domain = NA))(object, byrow, ...), class = structure(\"standardGeneric\", package = \"methods\")), \n .     <environment>)",
      "9. stop(gettextf(\"unable to find an inherited method for function %s for signature %s\", \n .     sQuote(fdef@generic), sQuote(cnames)), domain = NA)"
     ]
    }
   ],
   "source": [
    "library(limma)\n",
    "require(Biobase)\n",
    "\n",
    "eset <- new(\"ExpressionSet\", exprs=data)\n",
    "\n",
    "# no idea how to fix this...\n",
    "lmFit(as.matrix(eset), design)"
   ]
  },
  {
   "cell_type": "code",
   "execution_count": null,
   "metadata": {
    "collapsed": true
   },
   "outputs": [],
   "source": []
  }
 ],
 "metadata": {
  "anaconda-cloud": {},
  "kernelspec": {
   "display_name": "R",
   "language": "R",
   "name": "ir"
  },
  "language_info": {
   "codemirror_mode": "r",
   "file_extension": ".r",
   "mimetype": "text/x-r-source",
   "name": "R",
   "pygments_lexer": "r",
   "version": "3.3.1"
  }
 },
 "nbformat": 4,
 "nbformat_minor": 0
}
