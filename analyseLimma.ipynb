{
 "cells": [
  {
   "cell_type": "markdown",
   "metadata": {},
   "source": [
    "# Loading `cleaned` into memory using R's magic"
   ]
  },
  {
   "cell_type": "code",
   "execution_count": 1,
   "metadata": {
    "collapsed": false
   },
   "outputs": [],
   "source": [
    "cleaned <- read.csv(\"cleaned\", header=0, row.names=1,sep=\"\\t\", skip=0)"
   ]
  },
  {
   "cell_type": "markdown",
   "metadata": {},
   "source": [
    "## Renaming column and row descriptions appropriately"
   ]
  },
  {
   "cell_type": "code",
   "execution_count": null,
   "metadata": {
    "collapsed": false
   },
   "outputs": [],
   "source": [
    "cleaned[,ncol(cleaned)] <- NULL\n",
    "\n",
    "renameNumCols <- function(table, rowName) {\n",
    "    result <- c()\n",
    "\n",
    "    for (val in table[rowName,]) {\n",
    "        result <- c(result, paste(\"X\", val, sep=\"\"))\n",
    "    }\n",
    "    \n",
    "    colnames(table) <- result\n",
    "    return(table)\n",
    "}\n",
    "\n",
    "renameNumRowsSelf <- function(table) {\n",
    "    result <- c()\n",
    "    for (rowName in rownames(table)) {\n",
    "        result <- c(result, paste(\"X\", rowName, sep=\"\")) \n",
    "    }\n",
    "    rownames(table) <- result\n",
    "    return(table)\n",
    "}\n",
    "\n",
    "cleaned <- renameNumCols(cleaned, \"IDs\")\n",
    "\n",
    "counter <- 0\n",
    "for (val in rownames(cleaned)) {\n",
    "    counter <- counter + 1\n",
    "    if (val == \"Affymetrix\") {\n",
    "        break\n",
    "    }\n",
    "}\n",
    "\n",
    "metadata <- cleaned[c(1:counter-1),]\n",
    "data <- cleaned[c((counter+1):nrow(cleaned)),]\n",
    "\n",
    "data <- renameNumRowsSelf(data)\n",
    "\n",
    "metadata <- t(metadata)\n",
    "data <- data"
   ]
  },
  {
   "cell_type": "code",
   "execution_count": null,
   "metadata": {
    "collapsed": false,
    "scrolled": true
   },
   "outputs": [],
   "source": [
    "design <- data.frame(\"ModalAllele\" = as.numeric(metadata[,\"ModalAllele\"]))\n",
    "rownames(design) <- rownames(metadata)\n"
   ]
  },
  {
   "cell_type": "code",
   "execution_count": null,
   "metadata": {
    "collapsed": false
   },
   "outputs": [],
   "source": [
    "exampleData <- cleaned[c(\"ModalAllele\", \"2315554\"), ]\n",
    "\n",
    "rownames(exampleData) <- c(\"ModalAllele\", \"X2315554\")\n",
    "exampleData <- t(exampleData)\n",
    "actualFrame <- data.frame(\"ModalAllele\" = as.numeric(exampleData[,\"ModalAllele\"]), \"X2315554\" = as.numeric(exampleData[,\"X2315554\"]))\n",
    "fit <- lm(X2315554 ~ ModalAllele, data=actualFrame)\n",
    "plot(actualFrame)\n",
    "abline(fit)"
   ]
  },
  {
   "cell_type": "markdown",
   "metadata": {},
   "source": [
    "### Example of fitting a single linear regression using built-in lm. I'm surprised at the amount of hackery involved to get this working -- clearly I'm doing something wrong."
   ]
  },
  {
   "cell_type": "markdown",
   "metadata": {},
   "source": [
    "## The real thing -- fitting model with limma (can't get it to work)"
   ]
  },
  {
   "cell_type": "code",
   "execution_count": null,
   "metadata": {
    "collapsed": false
   },
   "outputs": [],
   "source": [
    "typeof(data[1, 1])\n",
    "data2 <- as.matrix(data)\n",
    "#data[1, 1][1]\n",
    "#as.double(data[4, 4])\n",
    "#typeof(as.integer(1))"
   ]
  },
  {
   "cell_type": "code",
   "execution_count": null,
   "metadata": {
    "collapsed": false
   },
   "outputs": [],
   "source": [
    "data3 <- as.numeric(data2)"
   ]
  },
  {
   "cell_type": "code",
   "execution_count": null,
   "metadata": {
    "collapsed": false
   },
   "outputs": [],
   "source": [
    "data4 <- matrix(data3, ncol=ncol(data), nrow=nrow(data))"
   ]
  },
  {
   "cell_type": "code",
   "execution_count": null,
   "metadata": {
    "collapsed": false
   },
   "outputs": [],
   "source": [
    "data4"
   ]
  },
  {
   "cell_type": "code",
   "execution_count": null,
   "metadata": {
    "collapsed": false
   },
   "outputs": [],
   "source": [
    "library(limma)\n",
    "require(Biobase)\n",
    "\n",
    "#eset <- new(\"ExpressionSet\", exprs=data)\n",
    "\n",
    "# no idea how to fix this...\n",
    "result <- lmFit(data4, design)"
   ]
  },
  {
   "cell_type": "code",
   "execution_count": null,
   "metadata": {
    "collapsed": true
   },
   "outputs": [],
   "source": []
  }
 ],
 "metadata": {
  "anaconda-cloud": {},
  "kernelspec": {
   "display_name": "R",
   "language": "R",
   "name": "ir"
  },
  "language_info": {
   "codemirror_mode": "r",
   "file_extension": ".r",
   "mimetype": "text/x-r-source",
   "name": "R",
   "pygments_lexer": "r",
   "version": "3.3.1"
  }
 },
 "nbformat": 4,
 "nbformat_minor": 0
}
