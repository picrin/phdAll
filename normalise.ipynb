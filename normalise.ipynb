{
 "cells": [
  {
   "cell_type": "code",
   "execution_count": 2,
   "metadata": {
    "collapsed": false
   },
   "outputs": [
    {
     "name": "stderr",
     "output_type": "stream",
     "text": [
      "All the CEL files must be of the same type.\n"
     ]
    },
    {
     "ename": "ERROR",
     "evalue": "Error: checkChipTypes(filenames, verbose, \"affymetrix\", TRUE) is not TRUE\n",
     "output_type": "error",
     "traceback": [
      "Error: checkChipTypes(filenames, verbose, \"affymetrix\", TRUE) is not TRUE\nTraceback:\n",
      "1. read.celfiles(celFiles)",
      "2. stopifnot(checkChipTypes(filenames, verbose, \"affymetrix\", TRUE))",
      "3. stop(sprintf(ngettext(length(r), \"%s is not TRUE\", \"%s are not all TRUE\"), \n .     ch), call. = FALSE, domain = NA)"
     ]
    }
   ],
   "source": [
    "# load the oligo library\n",
    "library(oligo)\n",
    "\n",
    "# Read in the CEL files in the directory\n",
    "celFiles <- list.celfiles()\n",
    "affyRaw <- read.celfiles(celFiles)\n",
    "\n",
    "# You might need to install and load a package for the specific array you are using (this example is mouse gene 2.0 ST)\n",
    "# It may try to load it automatically, but may fail.  Install & load the library manually if this happens.\n",
    "library(pd.huex.1.0.st.v2)\n",
    "\n",
    "core <- rma(affyRaw, target=\"core\")\n",
    "#probeset <- rma(affyRaw, target=\"probeset\")\n",
    "#full <- rma(affyRaw, target=\"full\")\n",
    "#extended <- rma(affyRaw, target=\"extended\")\n",
    "\n",
    "# Finally, save the data to an output file to be used by other programs, etc (Data will be log2 transformed and normalized)\n",
    "write.exprs(core,file=\"core\")\n",
    "#write.exprs(probeset,file=\"probeset\")\n",
    "#write.exprs(full, file=\"full\")\n",
    "#write.exprs(extended, file=\"extended\")"
   ]
  },
  {
   "cell_type": "code",
   "execution_count": null,
   "metadata": {
    "collapsed": true
   },
   "outputs": [],
   "source": []
  }
 ],
 "metadata": {
  "anaconda-cloud": {},
  "kernelspec": {
   "display_name": "R",
   "language": "R",
   "name": "ir"
  },
  "language_info": {
   "codemirror_mode": "r",
   "file_extension": ".r",
   "mimetype": "text/x-r-source",
   "name": "R",
   "pygments_lexer": "r",
   "version": "3.3.1"
  }
 },
 "nbformat": 4,
 "nbformat_minor": 0
}
