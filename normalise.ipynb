{
 "cells": [
  {
   "cell_type": "code",
   "execution_count": null,
   "metadata": {
    "collapsed": false
   },
   "outputs": [],
   "source": [
    "# load the oligo library\n",
    "library(oligo)\n",
    "\n",
    "# Read in the CEL files in the directory\n",
    "celFiles <- list.celfiles()\n",
    "affyRaw <- read.celfiles(celFiles)\n",
    "\n",
    "# Load up-to-date annotations for human exon gene microarray.\n",
    "library(pd.huex.1.0.st.v2)\n",
    "\n",
    "# RMA-normalise into `transcription clusters` using the loaded annotations.\n",
    "core <- rma(affyRaw, target=\"core\")\n",
    "#probeset <- rma(affyRaw, target=\"probeset\")\n",
    "#full <- rma(affyRaw, target=\"full\")\n",
    "#extended <- rma(affyRaw, target=\"extended\")\n",
    "\n",
    "# Finally, save the data to an output file to be used by other programs, etc (Data will be log2 transformed and normalized)\n",
    "write.exprs(core,file=\"core\")\n",
    "\n",
    "# In case we decide it's desirable to do so\n",
    "#write.exprs(probeset,file=\"probeset\")\n",
    "#write.exprs(full, file=\"full\")\n",
    "#write.exprs(extended, file=\"extended\")"
   ]
  },
  {
   "cell_type": "code",
   "execution_count": null,
   "metadata": {
    "collapsed": true
   },
   "outputs": [],
   "source": []
  }
 ],
 "metadata": {
  "anaconda-cloud": {},
  "kernelspec": {
   "display_name": "R",
   "language": "R",
   "name": "ir"
  },
  "language_info": {
   "codemirror_mode": "r",
   "file_extension": ".r",
   "mimetype": "text/x-r-source",
   "name": "R",
   "pygments_lexer": "r",
   "version": "3.3.1"
  }
 },
 "nbformat": 4,
 "nbformat_minor": 0
}
