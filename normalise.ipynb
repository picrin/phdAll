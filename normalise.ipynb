{
 "cells": [
  {
   "cell_type": "code",
   "execution_count": 4,
   "metadata": {
    "collapsed": false
   },
   "outputs": [
    {
     "name": "stderr",
     "output_type": "stream",
     "text": [
      "All the CEL files must be of the same type.\n"
     ]
    },
    {
     "ename": "ERROR",
     "evalue": "Error: checkChipTypes(filenames, verbose, \"affymetrix\", TRUE) is not TRUE\n",
     "output_type": "error",
     "traceback": [
      "Error: checkChipTypes(filenames, verbose, \"affymetrix\", TRUE) is not TRUE\nTraceback:\n",
      "1. read.celfiles(celFiles)",
      "2. stopifnot(checkChipTypes(filenames, verbose, \"affymetrix\", TRUE))",
      "3. stop(sprintf(ngettext(length(r), \"%s is not TRUE\", \"%s are not all TRUE\"), \n .     ch), call. = FALSE, domain = NA)"
     ]
    }
   ],
   "source": [
    "# load the oligo library\n",
    "library(oligo)\n",
    "\n",
    "# Read in the CEL files in the directory\n",
    "celFiles <- list.celfiles()\n",
    "affyRaw <- read.celfiles(celFiles)\n",
    "\n",
    "# Load up-to-date annotations for human exon gene microarray.\n",
    "library(pd.huex.1.0.st.v2)\n",
    "\n",
    "# RMA-normalise into `transcription clusters` using the loaded annotations.\n",
    "core <- rma(affyRaw, target=\"core\")\n",
    "#probeset <- rma(affyRaw, target=\"probeset\")\n",
    "#full <- rma(affyRaw, target=\"full\")\n",
    "#extended <- rma(affyRaw, target=\"extended\")\n",
    "\n",
    "# Finally, save the data to an output file to be used by other programs, etc (Data will be log2 transformed and normalized)\n",
    "write.exprs(core,file=\"core\")\n",
    "\n",
    "# In case we decide it's desirable to do so\n",
    "#write.exprs(probeset,file=\"probeset\")\n",
    "#write.exprs(full, file=\"full\")\n",
    "#write.exprs(extended, file=\"extended\")"
   ]
  },
  {
   "cell_type": "code",
   "execution_count": 2,
   "metadata": {
    "collapsed": false
   },
   "outputs": [
    {
     "name": "stderr",
     "output_type": "stream",
     "text": [
      "Bioconductor version 3.2 (BiocInstaller 1.20.3), ?biocLite for help\n",
      "A new version of Bioconductor is available after installing the most recent\n",
      "  version of R; see http://bioconductor.org/install\n",
      "BioC_mirror: https://bioconductor.org\n",
      "Using Bioconductor 3.2 (BiocInstaller 1.20.3), R 3.2.3 (2015-12-10).\n",
      "Installing package(s) ‘oligo’\n",
      "also installing the dependencies ‘rlang’, ‘GenomeInfoDb’, ‘tibble’, ‘IRanges’, ‘GenomicRanges’, ‘SummarizedExperiment’, ‘S4Vectors’, ‘XVector’, ‘bit’, ‘bit64’, ‘blob’, ‘Rcpp’, ‘oligoClasses’, ‘Biobase’, ‘Biostrings’, ‘affyio’, ‘affxparser’, ‘ff’, ‘preprocessCore’, ‘RSQLite’, ‘zlibbioc’\n",
      "\n"
     ]
    },
    {
     "name": "stdout",
     "output_type": "stream",
     "text": [
      "\n",
      "The downloaded source packages are in\n",
      "\t‘/tmp/RtmpSQHUGo/downloaded_packages’\n"
     ]
    }
   ],
   "source": [
    "source(\"https://bioconductor.org/biocLite.R\")\n",
    "biocLite(\"oligo\")"
   ]
  },
  {
   "cell_type": "code",
   "execution_count": 12,
   "metadata": {
    "collapsed": false
   },
   "outputs": [
    {
     "name": "stderr",
     "output_type": "stream",
     "text": [
      "BioC_mirror: https://bioconductor.org\n",
      "Using Bioconductor 3.4 (BiocInstaller 1.24.0), R 3.3.2 (2016-10-31).\n",
      "Installing package(s) ‘oligo’\n",
      "also installing the dependencies ‘RCurl’, ‘GenomeInfoDb’, ‘GenomicRanges’, ‘SummarizedExperiment’, ‘XVector’, ‘oligoClasses’, ‘Biostrings’, ‘affyio’, ‘affxparser’, ‘ff’, ‘preprocessCore’, ‘RSQLite’, ‘zlibbioc’\n",
      "\n",
      "Warning message in install.packages(pkgs = doing, lib = lib, ...):\n",
      "“installation of package ‘affxparser’ had non-zero exit status”Warning message in install.packages(pkgs = doing, lib = lib, ...):\n",
      "“installation of package ‘RSQLite’ had non-zero exit status”Warning message in install.packages(pkgs = doing, lib = lib, ...):\n",
      "“installation of package ‘oligoClasses’ had non-zero exit status”Warning message in install.packages(pkgs = doing, lib = lib, ...):\n",
      "“installation of package ‘oligo’ had non-zero exit status”Updating HTML index of packages in '.Library'\n",
      "Making 'packages.html' ... done\n",
      "Old packages: 'assertthat', 'backports', 'boot', 'broom', 'caret', 'cluster',\n",
      "  'colorspace', 'curl', 'data.table', 'DBI', 'digest', 'dplyr', 'evaluate',\n",
      "  'forcats', 'foreign', 'formatR', 'ggplot2', 'gistr', 'glmnet', 'htmltools',\n",
      "  'jsonlite', 'knitr', 'lattice', 'lme4', 'maps', 'markdown', 'MASS', 'Matrix',\n",
      "  'mgcv', 'nlme', 'openssl', 'pbdZMQ', 'pbkrtest', 'psych', 'purrr',\n",
      "  'quantmod', 'quantreg', 'R6', 'Rcpp', 'RcppEigen', 'readr', 'readxl',\n",
      "  'rmarkdown', 'rpart', 'rprojroot', 'selectr', 'shiny', 'sourcetools',\n",
      "  'SparseM', 'stringi', 'stringr', 'survival', 'tibble', 'tidyr', 'tidyverse',\n",
      "  'xml2', 'zoo'\n"
     ]
    }
   ],
   "source": [
    "library(\"oligo\")"
   ]
  },
  {
   "cell_type": "code",
   "execution_count": 3,
   "metadata": {
    "collapsed": false
   },
   "outputs": [
    {
     "name": "stderr",
     "output_type": "stream",
     "text": [
      "Loading required package: BiocGenerics\n",
      "Loading required package: parallel\n",
      "\n",
      "Attaching package: ‘BiocGenerics’\n",
      "\n",
      "The following objects are masked from ‘package:parallel’:\n",
      "\n",
      "    clusterApply, clusterApplyLB, clusterCall, clusterEvalQ,\n",
      "    clusterExport, clusterMap, parApply, parCapply, parLapply,\n",
      "    parLapplyLB, parRapply, parSapply, parSapplyLB\n",
      "\n",
      "The following objects are masked from ‘package:stats’:\n",
      "\n",
      "    IQR, mad, xtabs\n",
      "\n",
      "The following objects are masked from ‘package:base’:\n",
      "\n",
      "    anyDuplicated, append, as.data.frame, as.vector, cbind, colnames,\n",
      "    do.call, duplicated, eval, evalq, Filter, Find, get, grep, grepl,\n",
      "    intersect, is.unsorted, lapply, lengths, Map, mapply, match, mget,\n",
      "    order, paste, pmax, pmax.int, pmin, pmin.int, Position, rank,\n",
      "    rbind, Reduce, rownames, sapply, setdiff, sort, table, tapply,\n",
      "    union, unique, unlist, unsplit\n",
      "\n",
      "Loading required package: oligoClasses\n",
      "No methods found in \"RSQLite\" for requests: dbGetQuery\n",
      "Welcome to oligoClasses version 1.32.0\n",
      "Loading required package: Biobase\n",
      "Welcome to Bioconductor\n",
      "\n",
      "    Vignettes contain introductory material; view with\n",
      "    'browseVignettes()'. To cite Bioconductor, see\n",
      "    'citation(\"Biobase\")', and for packages 'citation(\"pkgname\")'.\n",
      "\n",
      "Loading required package: Biostrings\n",
      "Loading required package: S4Vectors\n",
      "Loading required package: stats4\n",
      "Loading required package: IRanges\n",
      "Loading required package: XVector\n",
      "================================================================================\n",
      "Welcome to oligo version 1.34.2\n",
      "================================================================================\n"
     ]
    }
   ],
   "source": [
    "library(\"oligo\")"
   ]
  },
  {
   "cell_type": "markdown",
   "metadata": {
    "collapsed": true
   },
   "source": [
    "# "
   ]
  },
  {
   "cell_type": "code",
   "execution_count": null,
   "metadata": {
    "collapsed": true
   },
   "outputs": [],
   "source": []
  }
 ],
 "metadata": {
  "anaconda-cloud": {},
  "kernelspec": {
   "display_name": "R",
   "language": "R",
   "name": "ir"
  },
  "language_info": {
   "codemirror_mode": "r",
   "file_extension": ".r",
   "mimetype": "text/x-r-source",
   "name": "R",
   "pygments_lexer": "r",
   "version": "3.2.3"
  }
 },
 "nbformat": 4,
 "nbformat_minor": 0
}
