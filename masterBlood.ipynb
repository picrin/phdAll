{
 "cells": [
  {
   "cell_type": "markdown",
   "metadata": {},
   "source": [
    "# Weekly Report 21/11/2016\n",
    "\n",
    "## Jupyter\n",
    "\n",
    "This report looks very different from the reports in the previous weeks.\n",
    "\n",
    "Following Simon's and John's suggestion I stopped running analyses as a bunch of python & bash scripts (although one bash script still remains) and refactored most of the code into jupyter notebooks. Because jupyter supports markdown, the report itself is also a part of the notebook.\n",
    "\n",
    "This proved to be more challenging than I thought, but I believe it was a worthwhile effort.\n",
    "\n",
    "The main difficulty is that various bits of analysis are written in python and R (and a few remaining lines of bash) and I needed a solution, which could run the right bit of analysis in the right time. While jupyter supports both R and python, it doesn't support mixing them within one notebook. A workaround I eventually managed to figure out is to split the analysis into multiple notbooks and execute all \"auxiliary\" notebooks from a \"master\" notebook using some internal functionality of jupyter. This may not be ideal, but it's the best I could do.\n",
    "\n",
    "Other difficulties remain: \n",
    "\n",
    "1. The report may be hard to read, because the computation of the results, their description & their presentation are interleaved. \n",
    "2. The report will become longer every week. The most relevant bits will live at the end of the notebook.\n",
    "3. Many small things are not working: installing R packages is awkward, some R functions are not supported, spellcheck doesn't work, R kernel sometimes dies for no reason, code boxes overflow in the pdf version, double quotation marks are broken in the pdf version, etc.\n",
    "\n",
    "As to the benefits of this approach:\n",
    "\n",
    "1. Jupyter is interactive, which means I don't have to wait 10 seconds on each execution of each script. This really has big impact on productivity, as each script is executed hundreds of times, i.e. on every small modification of the codebase. Using my workaround we do not lose the batch-processing capability.\n",
    "2. Jupyter supports markdown cells, which means I can document what I'm doing as I go.\n",
    "3. Jupyter supports inline plots. This is another productivity gain, as writing pngs to disk (and correctly naming them!) and then manually attaching them to latex files was slow & error-prone.\n",
    "4. It becomes easier to achieve the solution reached by Simon's former student: each compilation of dissertation leads to a full re-run of all notebooks, which in turn leads to fully reproducible research (how did this student deal with software dependencies though? A docker container could be a way...).\n",
    "\n",
    "## Are ISEs a failure of normalisation?\n",
    "\n",
    "I'm trying to validate Darren's concern raised last week (more details at the end of this notebook).\n",
    "\n",
    "## Ordering genes by their significance\n",
    "\n",
    "I order genes by their significance using ordinary linear regression and Benjamini–Hochberg procedure in python. I try the same using limma's regression in R, but there are still some problems remaining (more details in notebook analyseLimma.ipynb).\n",
    "\n",
    "## Disease-Specific effects in python\n",
    "\n",
    "I compute Disease Specific Effects (DSEs) in python and try to reproduce Wilf's results (more details at the end of this notebook).\n"
   ]
  },
  {
   "cell_type": "markdown",
   "metadata": {},
   "source": [
    "# Analysis of microarry data from patients with myotonic dystrophy."
   ]
  },
  {
   "cell_type": "markdown",
   "metadata": {},
   "source": [
    "# Pre-process & Normalise data"
   ]
  },
  {
   "cell_type": "code",
   "execution_count": 1,
   "metadata": {
    "collapsed": false
   },
   "outputs": [],
   "source": [
    "# First check if all CEL files are present. We expect data from 35 patients\n",
    "\n",
    "import os, os.path\n",
    "\n",
    "CEL_LOCATION = os.path.join(\"CELfiles\", \"blood\")\n",
    "CEL_MAPPING  = os.path.join(\"CELfiles\", \"u133mapping.xls\")\n",
    "\n",
    "CELFILES = os.listdir(CEL_LOCATION)\n",
    "CELFILES = [file for file in CELFILES if file[-4:] == \".CEL\"]\n",
    "\n",
    "assert(len(CELFILES) == 35)"
   ]
  },
  {
   "cell_type": "code",
   "execution_count": 2,
   "metadata": {
    "collapsed": false
   },
   "outputs": [
    {
     "name": "stdout",
     "output_type": "stream",
     "text": [
      "corefile exists\n"
     ]
    }
   ],
   "source": [
    "# Carry out RMA normalisation on all CEL files. Write output to corefile. This step takes a few minutes (unless corefile already exists).\n",
    "\n",
    "import utils\n",
    "corefile =  os.path.join(CEL_LOCATION, \"core\")\n",
    "try:\n",
    "    with open(corefile, \"rb\") as f:\n",
    "        print(\"corefile exists\")\n",
    "except FileNotFoundError:\n",
    "    utils.executeNotebook(\"normalise.ipynb\", CEL_LOCATION)\n",
    "    print(\"corefile created\")"
   ]
  },
  {
   "cell_type": "code",
   "execution_count": 3,
   "metadata": {
    "collapsed": false
   },
   "outputs": [],
   "source": [
    "# Retrieve HUAX IDs from CEL files\n",
    "\n",
    "import sys\n",
    "import re\n",
    "import json\n",
    "\n",
    "def processCELFile(basePath, lastPath):\n",
    "    relPath = os.path.join(basePath, lastPath)\n",
    "    result = \"\"\n",
    "    with open(relPath, \"rb\") as f:\n",
    "        lines = f.readlines()\n",
    "        for i, line in enumerate(lines[0:20]):\n",
    "            try:\n",
    "                result = re.search(b\"(\\d)*HUEX1A11\", line).group()\n",
    "                \n",
    "            except AttributeError:\n",
    "                pass\n",
    "    return result.decode(\"utf-8\")\n",
    "CELTOHUAX = {}\n",
    "for celfile in CELFILES:\n",
    "    CELTOHUAX[celfile] = str(processCELFile(CEL_LOCATION, celfile))"
   ]
  },
  {
   "cell_type": "code",
   "execution_count": 4,
   "metadata": {
    "collapsed": false
   },
   "outputs": [],
   "source": [
    "# Swap IDs from CEL to HUEX\n",
    "filename = os.path.join(CEL_LOCATION, \"core\")\n",
    "with open(filename, \"r\") as f:\n",
    "    lines = f.readlines()\n",
    "    swapped = [CELTOHUAX[line] for line in lines[0].rstrip().split(\"\\t\")[1:]]\n",
    "\n",
    "swappedLine = \"IDs\\t\" + \"\\t\".join(swapped)\n",
    "with open(\"normalisedFirstLine\", \"w\") as f:\n",
    "    f.write(swappedLine)\n",
    "    f.write(\"\\n\")"
   ]
  },
  {
   "cell_type": "code",
   "execution_count": 5,
   "metadata": {
    "collapsed": false,
    "scrolled": true
   },
   "outputs": [],
   "source": [
    "# Finish off the job using a bash script and a complicated python script, which pulls data from all over the place.\n",
    "\n",
    "import subprocess\n",
    "completed = subprocess.run(\"./analyseBlood.sh\", stdout=subprocess.PIPE, stderr=subprocess.PIPE)\n",
    "\n",
    "completed.check_returncode()\n",
    "\n",
    "#print(\"stdout\")\n",
    "#print(completed.stdout.decode(\"utf-8\"))\n",
    "#print(\"stderr\")\n",
    "#print(completed.stderr.decode(\"utf-8\"))"
   ]
  },
  {
   "cell_type": "markdown",
   "metadata": {},
   "source": [
    "## pre-processing & normalisation finished. File `cleaned` written to hard drive in current working directory."
   ]
  },
  {
   "cell_type": "markdown",
   "metadata": {},
   "source": [
    "# Analyse the data using Numpy\n",
    "\n",
    "1. Fit Modal allele length to each gene using ordinary linear regression.\n",
    "2. Expose the primary dataset as `CLEANED` residuals as `RESIDUALS`, Existence of Individuals Specific Effects as `RESIDUALS_PVALUES`, and Individual Specific Effects as `ISEs` and Modal Allele length as `MODAL_ALLELE`."
   ]
  },
  {
   "cell_type": "code",
   "execution_count": 6,
   "metadata": {
    "collapsed": false
   },
   "outputs": [],
   "source": [
    "# Load file `cleaned` back into python\n",
    "\n",
    "import numpy as np\n",
    "import scipy.stats\n",
    "\n",
    "filename = \"cleaned\"\n",
    "with open(filename) as f:\n",
    "    rowID = None\n",
    "    skipCount = 0\n",
    "    while rowID != \"Affymetrix\":\n",
    "        line = f.readline().rstrip().split()\n",
    "        skipCount += 1\n",
    "        rowID = line[0]\n",
    "        if rowID == \"IDs\":\n",
    "            columns = range(len(line))[1:]\n",
    "            ids = line[1:]\n",
    "        if rowID == \"ModalAllele\":\n",
    "            MODAL_ALLELE = [int(i) for i in line[1:]]\n",
    "\n",
    "with open(filename) as f:\n",
    "    CLEANED =  np.loadtxt(f, delimiter=\"\\t\", skiprows=skipCount, usecols=columns)\n",
    "\n",
    "def numpyAnalysis(CLEANED):\n",
    "    RESIDUALS = np.zeros_like(CLEANED)\n",
    "\n",
    "    rowNo, columnNo = CLEANED.shape\n",
    "\n",
    "    GENE_PVALUES = []\n",
    "\n",
    "    for i in range(rowNo):\n",
    "        slope, intercept, r_value, p_value, _ = scipy.stats.linregress(MODAL_ALLELE, list(CLEANED[i]))\n",
    "        GENE_PVALUES.append(p_value)\n",
    "        expected = [slope * value + intercept for value in MODAL_ALLELE]\n",
    "        residuals = [actual - expected for actual, expected in zip(CLEANED[i], expected)]\n",
    "        for j, residual in enumerate(residuals):\n",
    "            RESIDUALS[i][j] = residual\n",
    "\n",
    "    RESIDUALS_PVALUES = []\n",
    "    ISEs = []\n",
    "    for i in range(columnNo):\n",
    "        p_value = scipy.stats.ttest_1samp(RESIDUALS[..., i], 0)[1]\n",
    "        ISEs.append(sum(RESIDUALS[..., i])/rowNo)\n",
    "        RESIDUALS_PVALUES.append(p_value)\n",
    "    return (CLEANED, RESIDUALS, RESIDUALS_PVALUES, MODAL_ALLELE, ISEs, GENE_PVALUES)\n",
    "\n",
    "CLEANED, RESIDUALS, RESIDUALS_PVALUES, MODAL_ALLELE, ISEs, GENE_PVALUES = numpyAnalysis(CLEANED)\n",
    "\n",
    "_ = CLEANED # RMA normalised Affymetrix data\n",
    "_ = RESIDUALS # Residuals computed from MODAL_ALLELE\n",
    "_ = RESIDUALS_PVALUES # Existence of Individual Specific Effects (ISEs).\n",
    "_ = MODAL_ALLELE # Modal allele length\n",
    "_ = ISEs # Individual Specific Effects.\n",
    "_ = GENE_PVALUES # P-value for each gene"
   ]
  },
  {
   "cell_type": "markdown",
   "metadata": {},
   "source": [
    "## Analysing primary dataset with `numpy` finished. Appropriate variables exposed."
   ]
  },
  {
   "cell_type": "markdown",
   "metadata": {},
   "source": [
    "## Boxplot of residuals"
   ]
  },
  {
   "cell_type": "code",
   "execution_count": 7,
   "metadata": {
    "collapsed": false
   },
   "outputs": [
    {
     "data": {
      "image/png": "[encoded data removed]",
      "text/plain": [
       "<matplotlib.figure.Figure at 0x7f37c3415e80>"
      ]
     },
     "metadata": {},
     "output_type": "display_data"
    }
   ],
   "source": [
    "import matplotlib as mpl\n",
    "import matplotlib.pyplot as plt\n",
    "%matplotlib inline\n",
    "plt.rcParams['figure.figsize'] = (12, 8)\n",
    "\n",
    "data_to_plot = [[RESIDUALS[:, i]] for i in range(CLEANED.shape[1])]\n",
    "fig = plt.figure()\n",
    "plt.boxplot(data_to_plot, showfliers=False)\n",
    "plt.show()"
   ]
  },
  {
   "cell_type": "markdown",
   "metadata": {
    "collapsed": true
   },
   "source": [
    "## y-logged graph of p-values"
   ]
  },
  {
   "cell_type": "code",
   "execution_count": 8,
   "metadata": {
    "collapsed": false
   },
   "outputs": [
    {
     "data": {
      "image/png": "[encoded data removed]",
      "text/plain": [
       "<matplotlib.figure.Figure at 0x7f37cff745c0>"
      ]
     },
     "metadata": {},
     "output_type": "display_data"
    }
   ],
   "source": [
    "import math\n",
    "fig = plt.figure()\n",
    "plt.semilogy(range(len(RESIDUALS_PVALUES)), RESIDUALS_PVALUES, marker=\"o\", lineWidth=0)\n",
    "plt.show()"
   ]
  },
  {
   "cell_type": "markdown",
   "metadata": {},
   "source": [
    "# Are ISEs a failure of normalisation?\n",
    "\n",
    "By failure of normalisation, we mean that either:\n",
    "\n",
    "1. ISEs are an artifact of slight differences in individual's mean gene expression.\n",
    "2. ISEs are an artifact of slight differences in variance of individual's gene expression.\n",
    "\n",
    "There are a few ways to check possibility 1:\n",
    "\n",
    "1. Are p-values testing for ISEs positively correlated with mean gene expression?\n",
    "2. Do ISEs disappear when we mean-adjust all the genes?"
   ]
  },
  {
   "cell_type": "markdown",
   "metadata": {},
   "source": [
    "## First compute mean Gene Expression Level (GEL) for each individual."
   ]
  },
  {
   "cell_type": "code",
   "execution_count": 9,
   "metadata": {
    "collapsed": false
   },
   "outputs": [],
   "source": [
    "CLEANED.shape[1] # this is the number of individuals in the study.\n",
    "CLEANED.shape[0] # this is the number of genes.\n",
    "\n",
    "MEAN_GEL = [] # mean gene expression levels, per individual.\n",
    "\n",
    "for i in range(CLEANED.shape[1]):\n",
    "    MEAN_GEL.append(sum(CLEANED[...,i])/CLEANED.shape[0])\n",
    "MEAN_MEAN_GEL = sum(MEAN_GEL)/len(MEAN_GEL)"
   ]
  },
  {
   "cell_type": "markdown",
   "metadata": {},
   "source": [
    "## Then plot mean expression levels against logged ISEs p-values\n",
    "1. green line is y=0.05\n",
    "2. red line is x=`MEAN_MEAN_GEL`, where `MEAN_MEAN_GEL` is a mean expression level of all genes from all individuals."
   ]
  },
  {
   "cell_type": "code",
   "execution_count": 10,
   "metadata": {
    "collapsed": false
   },
   "outputs": [
    {
     "data": {
      "image/png": "[encoded data removed]",
      "text/plain": [
       "<matplotlib.figure.Figure at 0x7f37b6c23a90>"
      ]
     },
     "metadata": {},
     "output_type": "display_data"
    }
   ],
   "source": [
    "fig = plt.figure()\n",
    "plt.semilogy(MEAN_GEL, RESIDUALS_PVALUES, marker=\"o\", lineWidth=0)\n",
    "plt.semilogy([6.94, 6.99], [0.05, 0.05])\n",
    "plt.semilogy([MEAN_MEAN_GEL]*2, [pow(10, -97), 1])\n",
    "plt.show()"
   ]
  },
  {
   "cell_type": "markdown",
   "metadata": {
    "collapsed": false
   },
   "source": [
    "## And plot mean expression levels against ISEs."
   ]
  },
  {
   "cell_type": "code",
   "execution_count": 11,
   "metadata": {
    "collapsed": false
   },
   "outputs": [
    {
     "data": {
      "image/png": "[encoded data removed]",
      "text/plain": [
       "<matplotlib.figure.Figure at 0x7f37b6b5b198>"
      ]
     },
     "metadata": {},
     "output_type": "display_data"
    }
   ],
   "source": [
    "fig = plt.figure()\n",
    "plt.scatter(MEAN_GEL, ISEs, marker=\"o\")#, lineWidth=0, label=\"hello\"\n",
    "plt.show()"
   ]
  },
  {
   "cell_type": "markdown",
   "metadata": {},
   "source": [
    "### These plots suggest that both existence and value of ISEs depends on the mean GEL in each individual. However, a closer look at the p-values plot suggests that this may not be the entire story -- we still end up with some really small p-values (1/300) -- even very close around the mean.\n",
    "\n",
    "1. green line is y=0.05\n",
    "2. red line is x=`MEAN_MEAN_GEL`, where `MEAN_MEAN_GEL` is a mean expression level of all genes from all individuals."
   ]
  },
  {
   "cell_type": "code",
   "execution_count": 12,
   "metadata": {
    "collapsed": false
   },
   "outputs": [
    {
     "data": {
      "image/png": "[encoded data removed]",
      "text/plain": [
       "<matplotlib.figure.Figure at 0x7f37b6c7d1d0>"
      ]
     },
     "metadata": {},
     "output_type": "display_data"
    }
   ],
   "source": [
    "fig = plt.figure()\n",
    "xrange = [MEAN_MEAN_GEL - 0.02, MEAN_MEAN_GEL + 0.02]\n",
    "yrange = [10**(-20), 1]\n",
    "plt.semilogy(MEAN_GEL, RESIDUALS_PVALUES, marker=\"o\", lineWidth=0)\n",
    "plt.semilogy(xrange, [0.05, 0.05])\n",
    "plt.semilogy([MEAN_MEAN_GEL]*2, yrange)\n",
    "plt.xlim(xrange)\n",
    "plt.ylim(yrange)\n",
    "plt.show()"
   ]
  },
  {
   "cell_type": "markdown",
   "metadata": {},
   "source": [
    "# Gene significance using Benjamini-Hochberg\n",
    "\n",
    "## first, load transcription cluster ids from `cleaned`"
   ]
  },
  {
   "cell_type": "code",
   "execution_count": 13,
   "metadata": {
    "collapsed": false
   },
   "outputs": [],
   "source": [
    "filename = \"cleaned\"\n",
    "\n",
    "T_CLUSTER_IDS = []\n",
    "\n",
    "MAP_T_CLUSTER_INDEX = {}\n",
    "\n",
    "read = False\n",
    "with open(\"cleaned\") as f:\n",
    "    lines = f.readlines()\n",
    "    i = 0\n",
    "    for line in lines:\n",
    "        line = line.rstrip().split(\"\\t\")\n",
    "        if read:\n",
    "            T_CLUSTER_IDS.append(line[0])\n",
    "            MAP_T_CLUSTER_INDEX[line[0]] = i\n",
    "            i += 1\n",
    "        if line:\n",
    "            if line[0] == \"Affymetrix\":\n",
    "                read = True\n",
    "\n",
    "assert(len(T_CLUSTER_IDS) == len(GENE_PVALUES))"
   ]
  },
  {
   "cell_type": "markdown",
   "metadata": {},
   "source": [
    "## Then sort genes in ascending order of GENE_PVALUES"
   ]
  },
  {
   "cell_type": "code",
   "execution_count": 14,
   "metadata": {
    "collapsed": false
   },
   "outputs": [],
   "source": [
    "benjhoch = list(zip(GENE_PVALUES, T_CLUSTER_IDS))\n",
    "benjhoch.sort()"
   ]
  },
  {
   "cell_type": "markdown",
   "metadata": {},
   "source": [
    "## Then multiply each gene by m/k, where m is the number of hypotheses tested and k = 1, ...,  m"
   ]
  },
  {
   "cell_type": "code",
   "execution_count": 15,
   "metadata": {
    "collapsed": false
   },
   "outputs": [],
   "source": [
    "m = len(benjhoch)\n",
    "k = range(1, len(benjhoch) + 1)\n",
    "sortedGenes = [((a[0] * m)/(b), a[1]) for a, b in zip(benjhoch, k)]\n",
    "\n",
    "# unit test for least significat gene\n",
    "test1 = min(GENE_PVALUES) * m\n",
    "test2 = sortedGenes[0][0]\n",
    "assert(abs(test1 - test2) < pow(10, -10))\n",
    "\n",
    "# unit test for most significat gene\n",
    "test1 = max(GENE_PVALUES)\n",
    "test2 = sortedGenes[-1][0]\n",
    "assert(abs(test1 - test2) < pow(10, -10))\n",
    "\n",
    "# unit test for least significant gene in a different way\n",
    "\n",
    "geneID = sortedGenes[0][1]\n",
    "uncorrected = GENE_PVALUES[MAP_T_CLUSTER_INDEX[geneID]]\n",
    "assert(uncorrected * m == min(GENE_PVALUES) * m)"
   ]
  },
  {
   "cell_type": "markdown",
   "metadata": {},
   "source": [
    "# Then answer the question: for any given $\\alpha$, where $\\alpha$ is the cutoff between $[0, 1]$, how many genes can we detect as significant?"
   ]
  },
  {
   "cell_type": "code",
   "execution_count": 16,
   "metadata": {
    "collapsed": false
   },
   "outputs": [
    {
     "data": {
      "image/png": "[encoded data removed]",
      "text/plain": [
       "<matplotlib.figure.Figure at 0x7f37b6dc4f98>"
      ]
     },
     "metadata": {},
     "output_type": "display_data"
    }
   ],
   "source": [
    "movingMin = sortedGenes[0][0]\n",
    "\n",
    "alphas = [0.001 * i for i in range(1001)]\n",
    "\n",
    "def genesForAlpha(sortedGenes, alpha):\n",
    "    lastGene = -1\n",
    "    for i, geneTuple in enumerate(sortedGenes):\n",
    "        significance, geneID = geneTuple\n",
    "        if significance < alpha:\n",
    "            lastGene = i\n",
    "    if lastGene >= 0:\n",
    "        return sortedGenes[0:lastGene + 1]\n",
    "    else:\n",
    "        return []\n",
    "\n",
    "geneCount = [len(genesForAlpha(sortedGenes, alpha)) for alpha in alphas]\n",
    "\n",
    "plt.plot(alphas, geneCount)\n",
    "plt.xlabel(\"alpha\")\n",
    "plt.ylabel(\"genes\")\n",
    "plt.show()"
   ]
  },
  {
   "cell_type": "markdown",
   "metadata": {},
   "source": [
    "## zoom into into the \"few genes\" region"
   ]
  },
  {
   "cell_type": "code",
   "execution_count": 17,
   "metadata": {
    "collapsed": false
   },
   "outputs": [
    {
     "data": {
      "image/png": "[encoded data removed]",
      "text/plain": [
       "<matplotlib.figure.Figure at 0x7f37b6def7f0>"
      ]
     },
     "metadata": {},
     "output_type": "display_data"
    }
   ],
   "source": [
    "plt.rcParams['figure.figsize'] = (12, 8)\n",
    "plt.plot(alphas, geneCount)\n",
    "plt.ylim(0, 10)\n",
    "plt.xlabel(\"alpha\")\n",
    "plt.ylabel(\"genes\")\n",
    "plt.show()"
   ]
  },
  {
   "cell_type": "markdown",
   "metadata": {},
   "source": [
    "## Or give a list of transcription clusters with FDR of 40%"
   ]
  },
  {
   "cell_type": "code",
   "execution_count": 18,
   "metadata": {
    "collapsed": false
   },
   "outputs": [
    {
     "data": {
      "text/plain": [
       "[(0.20767253459146329, '3139557'), (0.25361044891295487, '2968452')]"
      ]
     },
     "execution_count": 18,
     "metadata": {},
     "output_type": "execute_result"
    }
   ],
   "source": [
    "genesForAlpha(sortedGenes, 0.40)"
   ]
  },
  {
   "cell_type": "markdown",
   "metadata": {},
   "source": [
    "## Or give a list of transcription clusters with FDR of 50%"
   ]
  },
  {
   "cell_type": "code",
   "execution_count": 19,
   "metadata": {
    "collapsed": false
   },
   "outputs": [
    {
     "name": "stdout",
     "output_type": "stream",
     "text": [
      "number of genes at alpha 0.5 is 803\n",
      "the 2 genes around the boundary have significance 0.499681381299 0.502117215837\n",
      "the first 5 genes are\n"
     ]
    },
    {
     "data": {
      "text/plain": [
       "[(0.20767253459146329, '3139557'),\n",
       " (0.25361044891295487, '2968452'),\n",
       " (0.4670672574672507, '2358393'),\n",
       " (0.54626219382433827, '2620894'),\n",
       " (0.6875488140324012, '2968373')]"
      ]
     },
     "execution_count": 19,
     "metadata": {},
     "output_type": "execute_result"
    }
   ],
   "source": [
    "alpha = 0.50\n",
    "sigGenes = genesForAlpha(sortedGenes, alpha)\n",
    "noSigGenes = len(sigGenes)\n",
    "print(\"number of genes at alpha\", alpha, \"is\", noSigGenes)\n",
    "print(\"the 2 genes around the boundary have significance\", sortedGenes[noSigGenes - 1][0], sortedGenes[noSigGenes][0])\n",
    "print(\"the first 5 genes are\")\n",
    "sigGenes[:5]"
   ]
  },
  {
   "cell_type": "markdown",
   "metadata": {},
   "source": [
    "This is strange. Such a sudden raise in detected genes is quite surprising (2 genes vs 803, FDR of 40% vs FDR of 50%). I hope that reviewing the proof of Benjamini-Hochberg for my literature review is going to help me understand why this is allowed to happen (Unless this is a bug in my program, probability is playing around with my intuition)."
   ]
  },
  {
   "cell_type": "markdown",
   "metadata": {},
   "source": [
    "# Disease Specific Effects\n",
    "\n",
    "## Let us partition the genes at FDR of 50% into 2 groups randomly. Let us compute the DSE of one group, apply it to the other group and check if it helps improve significance.\n"
   ]
  },
  {
   "cell_type": "code",
   "execution_count": 20,
   "metadata": {
    "collapsed": false
   },
   "outputs": [],
   "source": [
    "import random\n",
    "random.shuffle(sigGenes)\n",
    "genesA = sigGenes[:noSigGenes//2]\n",
    "genesB = sigGenes[noSigGenes//2:]\n",
    "\n",
    "# unit test our map\n",
    "test1 = CLEANED[MAP_T_CLUSTER_INDEX[\"2315554\"]][0]\n",
    "test2 = 7.54562452199732\n",
    "assert(abs(test1 - test2) <= pow(10, -10))\n",
    "\n",
    "# compute Disease Specific effects\n",
    "DSE = [0] * CLEANED.shape[1]\n",
    "relevantGenesAIndex = [MAP_T_CLUSTER_INDEX[t_cluster_id] for _, t_cluster_id in genesA]\n",
    "relevantGenesBIndex = [MAP_T_CLUSTER_INDEX[t_cluster_id] for _, t_cluster_id in genesB]\n",
    "\n",
    "for i in range(CLEANED.shape[1]):\n",
    "    relevantResiduals = [RESIDUALS[j,i] for j in relevantGenesAIndex]\n",
    "    DSE[i] = sum(relevantResiduals)/len(relevantResiduals)\n",
    "\n",
    "# copy CLEANED into another array\n",
    "DSE_ADJUSTED = np.copy(CLEANED)\n",
    "\n",
    "# adjust genes in set B with DSEs computed from genes in set A\n",
    "for i in relevantGenesBIndex:\n",
    "    for j in range(CLEANED.shape[1]):\n",
    "        DSE_ADJUSTED[i][j] -= DSE[j]\n"
   ]
  },
  {
   "cell_type": "markdown",
   "metadata": {},
   "source": [
    "## Now, let's repeat the numpy analysis using `DSE_ADJUSTED`"
   ]
  },
  {
   "cell_type": "code",
   "execution_count": 21,
   "metadata": {
    "collapsed": false
   },
   "outputs": [],
   "source": [
    "CLEANED_B, RESIDUALS_B, RESIDUALS_PVALUES_B, MODAL_ALLELE_B, ISEs_B, GENE_PVALUES_B = numpyAnalysis(DSE_ADJUSTED)"
   ]
  },
  {
   "cell_type": "markdown",
   "metadata": {},
   "source": [
    "## Now, let's count in how many cases the p-values have improved"
   ]
  },
  {
   "cell_type": "code",
   "execution_count": 22,
   "metadata": {
    "collapsed": false
   },
   "outputs": [
    {
     "name": "stdout",
     "output_type": "stream",
     "text": [
      "P-values have improved in 0.472636815920398 fraction of cases\n",
      "P-values have worsened in 0.527363184079602 fraction of cases\n"
     ]
    }
   ],
   "source": [
    "#print(relevantGenesBIndex)\n",
    "\n",
    "previousPValues = [GENE_PVALUES[i] for i in relevantGenesBIndex]\n",
    "currentPValues = [GENE_PVALUES_B[i] for i in relevantGenesBIndex]\n",
    "countSmaller = 0\n",
    "for i, _ in enumerate(relevantGenesBIndex):\n",
    "    if (currentPValues[i] < previousPValues[i]):\n",
    "        #print(currentPValues[i], previousPValues[i])\n",
    "        countSmaller += 1\n",
    "print(\"P-values have improved in\", countSmaller/len(currentPValues), \"fraction of cases\")\n",
    "print(\"P-values have worsened in\", 1 - countSmaller/len(currentPValues), \"fraction of cases\")"
   ]
  },
  {
   "cell_type": "markdown",
   "metadata": {},
   "source": [
    "The values printed in the previous cells are random and determined by a particular random seed, but from running it a couple of times I've seen both fractions to be rather similar."
   ]
  },
  {
   "cell_type": "markdown",
   "metadata": {
    "collapsed": true
   },
   "source": [
    "# Progress Report 08/12/2016\n",
    "\n",
    "## Biopython\n",
    "\n",
    "I have written a parser, which allows one to access raw probe data from the Affymetrix CEL files version 4 (which is what we're working with). My work gained interest of a large open-source bioinformatics package called Biopython. I discussed contributing this parser to Biopython with the maintainer of this package, Peter Cock.\n",
    "\n",
    "After very scrupulous code review, writing a lot of unit testing, clearing out all of Peter's doubts about the code, and fixing multiple issues in the code, primarly to do with error handling, my contribution has been accepted into the project, and will be available as of the next release (whenever that happens). This is the link to the contribution:\n",
    "\n",
    "https://github.com/biopython/biopython/commit/6c14a26dda32ad6d3147036a01f3d0c4d306c647\n",
    "\n",
    "And the dicussion, which I and Peter Cock had about it:\n",
    "\n",
    "issue tracker:\n",
    "\n",
    "https://github.com/biopython/biopython/issues/1008\n",
    "\n",
    "pull request:\n",
    "\n",
    "https://github.com/biopython/biopython/pull/1011\n",
    "\n",
    "There are a number benefits to this contribution of both political and scientific value.\n",
    "\n",
    "Political:\n",
    "\n",
    "- If we discover any new interesting pipeline we will find it much easier to distribute it as part of biopython (as opposed to distributing it ourselves).\n",
    "- We're doing a good service to the community.\n",
    "\n",
    "Scientific:\n",
    "\n",
    "1. We can now easily detect/fix some of the issue with our data:\n",
    "\n",
    " - Aren't all of our probes oversaturated/ undersaturated?\n",
    " - How do we know if a probe is broken (or there is a scratch on the microarray)?\n",
    " - RMA doesn't normalise means, can we write our own better-RMA?\n",
    "\n",
    "2. We get an extra pair of eyeballs on the code, which should make it less buggy.\n",
    "\n",
    "What the parser gives us is ~5.5 million of triplets of\n",
    "the form:\n",
    "\n",
    "(double, double, integer)\n",
    "\n",
    "The last number is the number of pixels per probe from which an\n",
    "intensity measurement was taken. This is always 9.\n",
    "\n",
    "The first number is the average intensity of these pixels.\n",
    "\n",
    "The middle number is the standard deviation.\n",
    "\n",
    "The following are the first few triplets:\n",
    "\n",
    "    (7326.0, 875.0999755859375,  9)\n",
    "    (162.0,  34.099998474121094, 9)\n",
    "    (6933.0, 1001.0,             9)\n",
    "    (224.0,  36.400001525878906, 9)\n",
    "    (54.0,   6.0,                9)\n",
    "    (247.0,  23.5,               9)\n",
    "    (210.0,  18.299999237060547, 9)\n",
    "\n",
    "## Literature Review\n",
    "\n",
    "I've started writing the literature review (the deadline is 16th of January). That's also attached. \n",
    "\n",
    "## Comparing my list of genes with John's.\n",
    "\n",
    "There are 3 approaches to this analysis:\n",
    "\n",
    "Mine:\n",
    "1. Use RMA + standard linear regression (Adam1)\n",
    "2. Use RMA + Limma (Adam2)\n",
    "\n",
    "John's:\n",
    "1. Use DChip + Limma (John1)\n",
    "\n",
    "I make a pair-wise comparison of them looking at top 10 results:\n",
    "1. (Adam1 vs John1)\n",
    "2. (Adam1 vs Adam2)\n",
    "3. (Adam2 vs John1)\n",
    "\n",
    "## Wilf's results\n",
    "\n",
    "I've re-read Wilf's report and tried to compare his analysis to mine, and which bits are missing.\n",
    "\n",
    "As Darren pointed out, Wilf considered a few measures of DSEs, in both blood and muscle:\n",
    "\n",
    "- Bl-GSE -- Genome-Wide Specific effect.\n",
    "- Bl-DSE-100 -- Disease Specific effect for the top 100 genes.\n",
    "- Bl-DSE-800 -- Disease Specific effect for the top 800 genes.\n",
    "- Bl-DSE-101-800 -- Disease Specific effect for the top 800 genes excluding top 100 genes.\n",
    "- Bl-GSE-DSE-800 -- I don't get that one. maybe average of the two?\n",
    "\n",
    "For muscle, replace \"Bl\" with \"M\".\n",
    "\n",
    "He then produced a graph like this:\n",
    "\n",
    "![Wilf DSEs](WilfISEs.png)\n",
    "\n",
    "I'm trying to reproduce this result using my approach."
   ]
  },
  {
   "cell_type": "markdown",
   "metadata": {},
   "source": [
    "# Comparing my list of genes with John's."
   ]
  },
  {
   "cell_type": "markdown",
   "metadata": {
    "collapsed": true
   },
   "source": [
    "## (Adam1, John1)"
   ]
  },
  {
   "cell_type": "code",
   "execution_count": 23,
   "metadata": {
    "collapsed": false,
    "scrolled": true
   },
   "outputs": [
    {
     "data": {
      "text/plain": [
       "[(0.20767253459146329, '3139557'),\n",
       " (0.25361044891295487, '2968452'),\n",
       " (0.4670672574672507, '2358393'),\n",
       " (0.54626219382433827, '2620894'),\n",
       " (0.6875488140324012, '2968373'),\n",
       " (0.62769767801537857, '2383894'),\n",
       " (0.57010122263290253, '2411799'),\n",
       " (0.68013891197448162, '2677624'),\n",
       " (0.66214293943853408, '3470372'),\n",
       " (0.62056857803421772, '3966000')]"
      ]
     },
     "execution_count": 23,
     "metadata": {},
     "output_type": "execute_result"
    }
   ],
   "source": [
    "# The following genes are the 10 most significant genes in blood I have identified using regular regression:\n",
    "sortedGenes[:10]"
   ]
  },
  {
   "cell_type": "code",
   "execution_count": 24,
   "metadata": {
    "collapsed": false,
    "scrolled": false
   },
   "outputs": [
    {
     "data": {
      "text/plain": [
       "[('1559735_at', 0.0549157815120137),\n",
       " ('239362_at', 0.0629671616442373),\n",
       " ('234406_at', 0.222582913167388),\n",
       " ('216018_at', 0.222582913167388),\n",
       " ('212826_s_at', 0.231350259419169),\n",
       " ('226071_at', 0.231350259419169),\n",
       " ('216256_at', 0.231350259419169),\n",
       " ('216255_s_at', 0.231350259419169),\n",
       " ('212876_at', 0.231350259419169),\n",
       " ('218706_s_at', 0.231350259419169)]"
      ]
     },
     "execution_count": 24,
     "metadata": {},
     "output_type": "execute_result"
    }
   ],
   "source": [
    "# Let us load in the genes, which John identified as significant in his\n",
    "# analysis using Limma.\n",
    "def loadLimma(filename):\n",
    "    JohnsGenes = []\n",
    "    with open(filename) as f:\n",
    "        lines = f.readlines()\n",
    "        for lineI, line in enumerate(lines):\n",
    "            line = line.rstrip().split(\" \")\n",
    "            line = [i.strip('\"') for i in line]\n",
    "            if lineI == 0:\n",
    "                if \"ID\" not in line:\n",
    "                    line = [\"ID\"] + line\n",
    "                IDIndex = line.index(\"ID\")\n",
    "                PValue = line.index(\"adj.P.Val\")\n",
    "            else:\n",
    "                gene = (line[IDIndex], float(line[PValue]))\n",
    "                JohnsGenes.append(gene)\n",
    "    return JohnsGenes\n",
    "\n",
    "# Interestingly, Limma reports John's genes to be more significant than mine\n",
    "# (although arguably the comparison isn't apples-to-apples, because John is\n",
    "# choosing his genes from ~40k as opposed to from ~20k, so values should be\n",
    "# adjusted using a different, ~2 times larger constant).\n",
    "JohnsGenes = loadLimma(\"JohnsGenes.csv\")\n",
    "JohnsGenes"
   ]
  },
  {
   "cell_type": "markdown",
   "metadata": {},
   "source": [
    "### Let us load into memory a (1:many) mapping from u133 IDs to HuEx transcription cluster IDs (I took the file from Ralf Krahe)."
   ]
  },
  {
   "cell_type": "code",
   "execution_count": 25,
   "metadata": {
    "collapsed": false
   },
   "outputs": [],
   "source": [
    "with open(CEL_MAPPING) as f:\n",
    "    result = 10\n",
    "    lines = f.readlines()\n",
    "    u133Map = {}\n",
    "    for line in lines:\n",
    "        line = line.strip().split(\"\\t\")\n",
    "        u133Map[line[0]] = line[1].split()"
   ]
  },
  {
   "cell_type": "code",
   "execution_count": 26,
   "metadata": {
    "collapsed": false
   },
   "outputs": [],
   "source": [
    "# Check to how many HuEx IDs John's IDs actually map\n",
    "\n",
    "from itertools import chain\n",
    "\n",
    "JohnsGenesIDs = [geneTuple[0] for geneTuple in JohnsGenes]\n",
    "\n",
    "#for geneID in JohnsGenesIDs:\n",
    "#    print(geneID)\n",
    "\n",
    "unflattenedIDs = [u133Map[geneID] for geneID in JohnsGenesIDs]\n",
    "IDs = chain.from_iterable(unflattenedIDs)\n",
    "IDs = [i for i in IDs]"
   ]
  },
  {
   "cell_type": "code",
   "execution_count": 27,
   "metadata": {
    "collapsed": false
   },
   "outputs": [
    {
     "name": "stdout",
     "output_type": "stream",
     "text": [
      "This is how many John's IDs we have:\n",
      "10\n",
      "This is how many HuEx IDs we get from John's IDs:\n",
      "55\n"
     ]
    }
   ],
   "source": [
    "print(\"This is how many John's IDs we have:\")\n",
    "print(len(JohnsGenesIDs))\n",
    "print(\"This is how many HuEx IDs we get from John's IDs:\")\n",
    "print(len(IDs))"
   ]
  },
  {
   "cell_type": "markdown",
   "metadata": {},
   "source": [
    "### As can be seen in the previous cell, we have 55 HuEx IDs from 10 U133 IDs."
   ]
  },
  {
   "cell_type": "code",
   "execution_count": 28,
   "metadata": {
    "collapsed": false
   },
   "outputs": [
    {
     "name": "stdout",
     "output_type": "stream",
     "text": [
      "{'3470372', '2358393', '2620894', '2411799', '3966000', '2677624', '2968452', '2383894', '2968373', '3139557'}\n",
      "{'530482', '46287', '529255', '69873', '1206820', '867868', '894974', '1280817', '1342298', '36953', '763493', '185872', '1261220', '28334', '534354', '290659', '915881', '418215', '1141866', '45027', '833732', '1167340', '649736', '1018667', '378441', '864057', '580511', '486626', '782227', '1063265', '125039', '435375', '73419', '343953', '910072', '677792', '337539', '213075', '445811', '651452', '963886', '1154697', '157605', '873115', '81537', '619391', '954374', '1244871', '387321', '698420', '1328643', '1402282', '292318'}\n"
     ]
    }
   ],
   "source": [
    "myGenes = set(i[1] for i in sortedGenes[:10])\n",
    "johnsGenes = set(IDs)\n",
    "print(myGenes)\n",
    "print(johnsGenes)\n",
    "\n",
    "# unit test semantics\n",
    "setA = set([\"123\"])\n",
    "setB = set([\"234\", \"123\"])\n",
    "assert([i for i in setA.intersection(setB)][0] == \"123\")"
   ]
  },
  {
   "cell_type": "code",
   "execution_count": 29,
   "metadata": {
    "collapsed": false
   },
   "outputs": [
    {
     "data": {
      "text/plain": [
       "set()"
      ]
     },
     "execution_count": 29,
     "metadata": {},
     "output_type": "execute_result"
    }
   ],
   "source": [
    "myGenes.intersection(johnsGenes)"
   ]
  },
  {
   "cell_type": "markdown",
   "metadata": {},
   "source": [
    "### Unfortunately, my analysis and John's analysis entirely disagree on the top 10 genes (transcription clusters).\n",
    "\n",
    "There are various possibilities as to why that is:\n",
    "1. We normalised in a different way.\n",
    "2. The mapping from U133 probesets to HuEx transcription clusters is inaccurate.\n",
    "2. Limma is significantly different from standard linear regression. We can check that by keeping normalisation the same and changing the linear model, i.e. (Adam1, Adam2)."
   ]
  },
  {
   "cell_type": "markdown",
   "metadata": {},
   "source": [
    "## (Adam1, Adam2)"
   ]
  },
  {
   "cell_type": "code",
   "execution_count": 30,
   "metadata": {
    "collapsed": true
   },
   "outputs": [],
   "source": [
    "# let us first run Limma on RMA-normalised `cleaned`.\n",
    "utils.executeNotebook(\"analyseLimma.ipynb\", \".\")"
   ]
  },
  {
   "cell_type": "code",
   "execution_count": 31,
   "metadata": {
    "collapsed": false
   },
   "outputs": [],
   "source": [
    "Adam2Genes = loadLimma(\"cleanedLimma\")"
   ]
  },
  {
   "cell_type": "code",
   "execution_count": 32,
   "metadata": {
    "collapsed": false
   },
   "outputs": [
    {
     "name": "stdout",
     "output_type": "stream",
     "text": [
      "The most significant 10 genes\n"
     ]
    },
    {
     "data": {
      "text/plain": [
       "[('X2383894', 1.28127750883152e-09),\n",
       " ('X2787958', 1.28127750883152e-09),\n",
       " ('X3657253', 1.28127750883152e-09),\n",
       " ('X2896545', 1.28127750883152e-09),\n",
       " ('X2435005', 1.28127750883152e-09),\n",
       " ('X3759006', 1.28127750883152e-09),\n",
       " ('X2383884', 1.28127750883152e-09),\n",
       " ('X2778856', 1.28127750883152e-09),\n",
       " ('X3621029', 1.28127750883152e-09),\n",
       " ('X2411173', 1.28127750883152e-09)]"
      ]
     },
     "execution_count": 32,
     "metadata": {},
     "output_type": "execute_result"
    }
   ],
   "source": [
    "print(\"The most significant 10 genes\")\n",
    "Adam2Genes[:10]"
   ]
  },
  {
   "cell_type": "code",
   "execution_count": 33,
   "metadata": {
    "collapsed": false
   },
   "outputs": [
    {
     "name": "stdout",
     "output_type": "stream",
     "text": [
      "The least significant 10 genes\n"
     ]
    },
    {
     "data": {
      "text/plain": [
       "[('X3470392', 9.56868491860228e-07),\n",
       " ('X2328605', 9.66307299197125e-07),\n",
       " ('X3394087', 1.07822271640238e-06),\n",
       " ('X3556690', 1.0843728020425e-06),\n",
       " ('X3475084', 1.09170242524422e-06),\n",
       " ('X2831977', 1.12132979286928e-06),\n",
       " ('X2674469', 1.26642753078819e-06),\n",
       " ('X2901712', 1.29262817183238e-06),\n",
       " ('X2844387', 1.66540702200047e-06),\n",
       " ('X4048241', 2.27512351040111e-06)]"
      ]
     },
     "execution_count": 33,
     "metadata": {},
     "output_type": "execute_result"
    }
   ],
   "source": [
    "print(\"The least significant 10 genes\")\n",
    "Adam2Genes[-10:]"
   ]
  },
  {
   "cell_type": "markdown",
   "metadata": {},
   "source": [
    "### This is very suspicious. Adjusted p-values (second column) should not be, under any circumstances, that low!\n",
    "\n",
    "In particular, the least significant genes should not be *that* significant\n",
    "\n",
    "I'm not sure what to suspect here, but likely it is something to do with the way I use limma (perhaps design matrix?). Another suspect is the way I compute linear regression (but I wrote this code twice, and got the same result each time). Another suspect is the *meaning* of these p-values. Maybe they aren't exactly what I make of them. Yet another suspect is the way RMA doesn't fully normalise means.\n",
    "\n",
    "On a separate note, the author of limma, Gordon Smyth, argues that p-values are not suitable measure of significance in genomic analysis. He prefers \"fold changes\", but I haven't yet understood his argumentation:\n",
    "http://www.slideshare.net/AustralianBioinformatics/the-value-of-p-values-gordon-smyth"
   ]
  },
  {
   "cell_type": "code",
   "execution_count": 34,
   "metadata": {
    "collapsed": true
   },
   "outputs": [],
   "source": [
    "# Let us now check how many of these genes actually agree.\n",
    "\n",
    "removeX = [geneID[1:] for geneID, pValue in Adam2Genes[:10]]"
   ]
  },
  {
   "cell_type": "code",
   "execution_count": 35,
   "metadata": {
    "collapsed": false
   },
   "outputs": [
    {
     "data": {
      "text/plain": [
       "{'2383894'}"
      ]
     },
     "execution_count": 35,
     "metadata": {},
     "output_type": "execute_result"
    }
   ],
   "source": [
    "myGenes2 = set(removeX)\n",
    "myGenes2.intersection(myGenes)"
   ]
  },
  {
   "cell_type": "markdown",
   "metadata": {},
   "source": [
    "### Surprisingly, we agree precisely on 1 gene.\n",
    "\n",
    "Now, that's weird. If we agreed on 5-10 genes, I would think that \"limma and linear regression behave similarly for this experiment\". If we agreed on 0 genes, I would conclude that I'm doing something wrong either with linear regression or with limma. If each draw of 10 genes was random from a uniform distribution over or 10-tuples of genes, the random chance of getting more than 0 matches is just above 1/200, wheras the random chance of getting precisely 1 match is also just below 1/200, both too low to be a coincidence (but maybe not too low to be a miracle). So it's hard to tell if this indicates a mistake or is actually expected."
   ]
  },
  {
   "cell_type": "markdown",
   "metadata": {},
   "source": [
    "### This is a sage program to compute the chance quoted above (can't include it in the notebook, because it's pretty unusual to have sage installed locally):\n",
    "    def checkChances(genes, agreeOn, outOf):\n",
    "    possibleChoices = binomial(genes, outOf)\n",
    "    goodChoices = binomial(genes - outOf, outOf - agreeOn)\n",
    "    badChoices = binomial(outOf, agreeOn)\n",
    "    result = ((goodChoices * badChoices)/possibleChoices)\n",
    "    return result.n()\n",
    "\n",
    "    print(\"chance to agree on precisely 1 gene: \", checkChances(20000, 1, 10))\n",
    "\n",
    "    print(\"chance to agree on more than 0 genes: \", 1 - checkChances(20000, 0, 10))\n",
    "    \n",
    "    >>> ('chance to agree on precisely 1 gene: ', 0.00497978136585391)\n",
    "    >>> ('chance to agree on more than 0 genes: ', 0.00498988528873023)"
   ]
  },
  {
   "cell_type": "markdown",
   "metadata": {},
   "source": [
    "## Finally, we can compute (Adam2, John1)"
   ]
  },
  {
   "cell_type": "code",
   "execution_count": 36,
   "metadata": {
    "collapsed": false
   },
   "outputs": [
    {
     "name": "stdout",
     "output_type": "stream",
     "text": [
      "{'3621029', '2896545', '3657253', '2435005', '2383884', '2787958', '2383894', '3759006', '2778856', '2411173'}\n"
     ]
    }
   ],
   "source": [
    "print(myGenes2)"
   ]
  },
  {
   "cell_type": "code",
   "execution_count": 37,
   "metadata": {
    "collapsed": false
   },
   "outputs": [
    {
     "name": "stdout",
     "output_type": "stream",
     "text": [
      "{'530482', '46287', '529255', '69873', '1206820', '867868', '894974', '1280817', '1342298', '36953', '763493', '185872', '1261220', '28334', '534354', '290659', '915881', '418215', '1141866', '45027', '833732', '1167340', '649736', '1018667', '378441', '864057', '580511', '486626', '782227', '1063265', '125039', '435375', '73419', '343953', '910072', '677792', '337539', '213075', '445811', '651452', '963886', '1154697', '157605', '873115', '81537', '619391', '954374', '1244871', '387321', '698420', '1328643', '1402282', '292318'}\n"
     ]
    }
   ],
   "source": [
    "print(johnsGenes)"
   ]
  },
  {
   "cell_type": "code",
   "execution_count": 38,
   "metadata": {
    "collapsed": false
   },
   "outputs": [
    {
     "data": {
      "text/plain": [
       "set()"
      ]
     },
     "execution_count": 38,
     "metadata": {},
     "output_type": "execute_result"
    }
   ],
   "source": [
    "myGenes2.intersection(johnsGenes)"
   ]
  },
  {
   "cell_type": "markdown",
   "metadata": {},
   "source": [
    "## To sum up, pair-wise intersection of the sets of top 10 genes in the analyses, is of the following sizes:\n",
    "- (Adam1, John1) - 0\n",
    "- (Adam1, Adam2) - 1\n",
    "- (Adam2, John1) - 0"
   ]
  },
  {
   "cell_type": "markdown",
   "metadata": {},
   "source": [
    "# Reproducing Wilf's results"
   ]
  },
  {
   "cell_type": "code",
   "execution_count": 39,
   "metadata": {
    "collapsed": false
   },
   "outputs": [],
   "source": [
    "# We need to compute the following results\n",
    "\n",
    "# Bl_GSE\n",
    "# Bl_DSE_100\n",
    "# Bl_DSE_800\n",
    "# Bl_DSE_101_800\n",
    "\n",
    "import random\n",
    "random.shuffle(sigGenes)\n",
    "allGenes = [gene for pValue, gene in sortedGenes]\n",
    "\n",
    "top100Genes = allGenes[:100]\n",
    "top800Genes = allGenes[:800]\n",
    "top101to800Genes = allGenes[100:800]\n",
    "\n",
    "test1 = CLEANED[MAP_T_CLUSTER_INDEX[\"2315554\"]][0]\n",
    "test2 = 7.54562452199732\n",
    "assert(abs(test1 - test2) <= pow(10, -10))\n",
    "\n",
    "def dataForWilfsGraph(DSEGenes):\n",
    "    \n",
    "    # compute Disease Specific effects\n",
    "    DSE = [0] * CLEANED.shape[1]\n",
    "    relevantGenes = [MAP_T_CLUSTER_INDEX[t_cluster_id] for t_cluster_id in DSEGenes]\n",
    "    otherGenes = [MAP_T_CLUSTER_INDEX[t_cluster_id] for t_cluster_id in allGenes]\n",
    "    \n",
    "    for i in range(CLEANED.shape[1]):\n",
    "        relevantResiduals = [RESIDUALS[j,i] for j in relevantGenes]\n",
    "        DSE[i] = sum(relevantResiduals) / len(relevantResiduals)\n",
    "    \n",
    "    # copy CLEANED into another array\n",
    "    DSE_ADJUSTED = np.copy(CLEANED)\n",
    "    \n",
    "    # adjust *all* genes\n",
    "    for i in otherGenes:\n",
    "        for j in range(CLEANED.shape[1]):\n",
    "            DSE_ADJUSTED[i][j] -= DSE[j]\n",
    "    \n",
    "    # now, let's repeat the previous analysis\n",
    "    CLEANED_B, RESIDUALS_B, RESIDUALS_PVALUES_B, MODAL_ALLELE_B, ISEs_B, GENE_PVALUES_B = numpyAnalysis(DSE_ADJUSTED)\n",
    "    return sorted(GENE_PVALUES_B)\n",
    "\n",
    "#judge = [0.2, 0.3,  0.5,  0.6, 0.65, 0.68]\n",
    "#victim = [0.1, 0.15, 0.25, 0.5, 0.55, 0.7]\n",
    "\n",
    "def nplot(judgeStream, victimStream):\n",
    "    judgeIter = 0\n",
    "    victimIter = 0\n",
    "    \n",
    "    assert(len(judgeStream) == len(victimStream))\n",
    "    \n",
    "    end = len(judgeStream)\n",
    "    nextJudge  = judgeStream[judgeIter]\n",
    "    nextVictim = victimStream[victimIter]\n",
    "    \n",
    "    output = []\n",
    "    while True:\n",
    "        currentJudge = nextJudge\n",
    "        currentVictim = nextVictim\n",
    "        if currentVictim <= currentJudge:\n",
    "            victimIter += 1\n",
    "        else:\n",
    "            output.append(victimIter)\n",
    "            judgeIter += 1\n",
    "        try:\n",
    "            nextJudge = judgeStream[judgeIter]\n",
    "            nextVictim = victimStream[victimIter]\n",
    "        except IndexError:\n",
    "            break\n",
    "    return output\n",
    "\n",
    "sortedPValues = sorted(GENE_PVALUES)\n",
    "def showResult(genesForDSE):\n",
    "    return nplot(sortedPValues, dataForWilfsGraph(genesForDSE))"
   ]
  },
  {
   "cell_type": "code",
   "execution_count": 40,
   "metadata": {
    "collapsed": false
   },
   "outputs": [],
   "source": [
    "Bl_DSE_100 = showResult(top100Genes)"
   ]
  },
  {
   "cell_type": "code",
   "execution_count": 41,
   "metadata": {
    "collapsed": true
   },
   "outputs": [],
   "source": [
    "Bl_DSE_800 = showResult(top800Genes)"
   ]
  },
  {
   "cell_type": "code",
   "execution_count": 42,
   "metadata": {
    "collapsed": true
   },
   "outputs": [],
   "source": [
    "Bl_DSE_101_800 = showResult(top101to800Genes)"
   ]
  },
  {
   "cell_type": "code",
   "execution_count": 43,
   "metadata": {
    "collapsed": false
   },
   "outputs": [],
   "source": [
    "NEW_PVALUES = dataForWilfsGraph(top100Genes)"
   ]
  },
  {
   "cell_type": "markdown",
   "metadata": {},
   "source": [
    "## Finally, we can simulate Wilf's plots -- we zoom into the region of 25000, 100 and 100 genes."
   ]
  },
  {
   "cell_type": "code",
   "execution_count": 44,
   "metadata": {
    "collapsed": false
   },
   "outputs": [],
   "source": [
    "%matplotlib inline\n",
    "plt.rcParams['figure.figsize'] = (12, 8)\n",
    "\n",
    "def makeWilfsPlot(ran):\n",
    "    plt.plot(Bl_DSE_100, label=\"Bl_DSE_100\")\n",
    "    plt.plot(Bl_DSE_800, label=\"Bl_DSE_800\")\n",
    "    plt.plot(Bl_DSE_101_800, label=\"Bl_DSE_101_800\")\n",
    "    plt.plot(range(len(Bl_DSE_100)), label=\"unchanged\")\n",
    "    plt.legend(bbox_to_anchor=(1.05, 1), loc=2, borderaxespad=0)\n",
    "    plt.xlim(0, ran)\n",
    "    plt.ylim(0, ran)\n",
    "    plt.show()\n"
   ]
  },
  {
   "cell_type": "markdown",
   "metadata": {},
   "source": [
    "## First, let's have a look at a whole"
   ]
  },
  {
   "cell_type": "code",
   "execution_count": 45,
   "metadata": {
    "collapsed": false
   },
   "outputs": [
    {
     "data": {
      "image/png": "[encoded data removed]",
      "text/plain": [
       "<matplotlib.figure.Figure at 0x7f37aeaa27b8>"
      ]
     },
     "metadata": {},
     "output_type": "display_data"
    }
   ],
   "source": [
    "makeWilfsPlot(25000)"
   ]
  },
  {
   "cell_type": "markdown",
   "metadata": {},
   "source": [
    "## Then, let's zoom in really close"
   ]
  },
  {
   "cell_type": "code",
   "execution_count": 46,
   "metadata": {
    "collapsed": false
   },
   "outputs": [
    {
     "data": {
      "image/png": "[encoded data removed]",
      "text/plain": [
       "<matplotlib.figure.Figure at 0x7f37b6664860>"
      ]
     },
     "metadata": {},
     "output_type": "display_data"
    }
   ],
   "source": [
    "makeWilfsPlot(200)"
   ]
  },
  {
   "cell_type": "markdown",
   "metadata": {},
   "source": [
    "## Then, let's zoom in at the level Wilf zoomed in"
   ]
  },
  {
   "cell_type": "code",
   "execution_count": 47,
   "metadata": {
    "collapsed": false
   },
   "outputs": [
    {
     "data": {
      "image/png": "[encoded data removed]",
      "text/plain": [
       "<matplotlib.figure.Figure at 0x7f37af99cba8>"
      ]
     },
     "metadata": {},
     "output_type": "display_data"
    }
   ],
   "source": [
    "makeWilfsPlot(3000)"
   ]
  },
  {
   "cell_type": "markdown",
   "metadata": {},
   "source": [
    "## For easy reference, here's Wilf's plot repeated:\n",
    "\n",
    "![Wilf DSEs](WilfISEs.png)"
   ]
  },
  {
   "cell_type": "code",
   "execution_count": null,
   "metadata": {
    "collapsed": true
   },
   "outputs": [],
   "source": []
  },
  {
   "cell_type": "code",
   "execution_count": null,
   "metadata": {
    "collapsed": true
   },
   "outputs": [],
   "source": []
  }
 ],
 "metadata": {
  "anaconda-cloud": {},
  "kernelspec": {
   "display_name": "Python [Root]",
   "language": "python",
   "name": "Python [Root]"
  },
  "language_info": {
   "codemirror_mode": {
    "name": "ipython",
    "version": 3
   },
   "file_extension": ".py",
   "mimetype": "text/x-python",
   "name": "python",
   "nbconvert_exporter": "python",
   "pygments_lexer": "ipython3",
   "version": "3.5.2"
  }
 },
 "nbformat": 4,
 "nbformat_minor": 0
}
