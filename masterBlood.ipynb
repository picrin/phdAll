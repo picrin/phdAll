{
 "cells": [
  {
   "cell_type": "markdown",
   "metadata": {},
   "source": [
    "# Weekly Report 21/11/2016\n",
    "\n",
    "## Jupyter\n",
    "\n",
    "This report looks very different from the reports in the previous weeks.\n",
    "\n",
    "Following Simon's and John's suggestion I stopped running analyses as a bunch of python & bash scripts (although one bash script still remains) and refactored most of the code into jupyter notebooks. Because jupyter supports markdown, the report itself is also a part of the notebook.\n",
    "\n",
    "This proved to be more challenging than I thought, but I believe it was a worthwhile effort.\n",
    "\n",
    "The main difficulty is that various bits of analysis are written in python and R (and a few remaining lines of bash) and I needed a solution, which could run the right bit of analysis in the right time. While jupyter supports both R and python, it doesn't support mixing them within one notebook. A workaround I eventually managed to figure out is to split the analysis into multiple notbooks and execute all \"auxiliary\" notebooks from a \"master\" notebook using some internal functionality of jupyter. This may not be ideal, but it's the best I could do.\n",
    "\n",
    "Other difficulties remain: \n",
    "\n",
    "1. The report may be hard to read, because the computation of the results, their description & their presentation are interleaved. \n",
    "2. The report will become longer every week. The most relevant bits will live at the end of the notebook.\n",
    "3. Many small things are not working: installing R packages is awkward, some R functions are not supported, spellcheck doesn't work, R kernel sometimes dies for no reason, code boxes overflow in the pdf version, double quotation marks are broken in the pdf version, etc.\n",
    "\n",
    "As to the benefits of this approach:\n",
    "\n",
    "1. Jupyter is interactive, which means I don't have to wait 10 seconds on each execution of each script. This really has big impact on productivity, as each script is executed hundreds of times, i.e. on every small modification of the codebase. Using my workaround we do not lose the batch-processing capability.\n",
    "2. Jupyter supports markdown cells, which means I can document what I'm doing as I go.\n",
    "3. Jupyter supports inline plots. This is another productivity gain, as writing pngs to disk (and correctly naming them!) and then manually attaching them to latex files was slow & error-prone.\n",
    "4. It becomes easier to achieve the solution reached by Simon's former student: each compilation of dissertation leads to a full re-run of all notebooks, which in turn leads to fully reproducible research (how did this student deal with software dependencies though? A docker container could be a way...).\n",
    "\n",
    "## Are ISEs a failure of normalisation?\n",
    "\n",
    "I'm trying to validate Darren's concern raised last week (more details at the end of this notebook).\n",
    "\n",
    "## Ordering genes by their significance\n",
    "\n",
    "I order genes by their significance using ordinary linear regression and Benjamini–Hochberg procedure in python. I try the same using limma's regression in R, but there are still some problems remaining (more details in notebook analyseLimma.ipynb).\n",
    "\n",
    "## Disease-Specific effects in python\n",
    "\n",
    "I compute Disease Specific Effects (DSEs) in python and try to reproduce Wilf's results (more details at the end of this notebook).\n"
   ]
  },
  {
   "cell_type": "markdown",
   "metadata": {},
   "source": [
    "# Analysis of microarry data from patients with myotonic dystrophy."
   ]
  },
  {
   "cell_type": "markdown",
   "metadata": {},
   "source": [
    "# Pre-process & Normalise data"
   ]
  },
  {
   "cell_type": "code",
   "execution_count": 1,
   "metadata": {
    "collapsed": false
   },
   "outputs": [],
   "source": [
    "# First check if all CEL files are present. We expect data from 35 patients\n",
    "\n",
    "import os, os.path\n",
    "\n",
    "CEL_LOCATION = os.path.join(\"CELfiles\", \"blood\")\n",
    "\n",
    "CELFILES = os.listdir(CEL_LOCATION)\n",
    "CELFILES = [file for file in CELFILES if file[-4:] == \".CEL\"]\n",
    "\n",
    "assert(len(CELFILES) == 35)"
   ]
  },
  {
   "cell_type": "code",
   "execution_count": 2,
   "metadata": {
    "collapsed": false
   },
   "outputs": [
    {
     "name": "stdout",
     "output_type": "stream",
     "text": [
      "corefile created\n"
     ]
    }
   ],
   "source": [
    "# Carry out RMA normalisation on all CEL files. Write output to corefile. This step takes a few minutes (unless corefile already exists).\n",
    "\n",
    "import utils\n",
    "corefile =  os.path.join(CEL_LOCATION, \"core\")\n",
    "try:\n",
    "    with open(corefile, \"rb\") as f:\n",
    "        print(\"corefile exists\")\n",
    "except FileNotFoundError:\n",
    "    utils.executeNotebook(\"normalise.ipynb\", CEL_LOCATION)\n",
    "    print(\"corefile created\")"
   ]
  },
  {
   "cell_type": "code",
   "execution_count": 3,
   "metadata": {
    "collapsed": false
   },
   "outputs": [],
   "source": [
    "# Retrieve HUAX IDs from CEL files\n",
    "\n",
    "import sys\n",
    "import re\n",
    "import json\n",
    "\n",
    "def processCELFile(basePath, lastPath):\n",
    "    relPath = os.path.join(basePath, lastPath)\n",
    "    result = \"\"\n",
    "    with open(relPath, \"rb\") as f:\n",
    "        lines = f.readlines()\n",
    "        for i, line in enumerate(lines[0:20]):\n",
    "            try:\n",
    "                result = re.search(b\"(\\d)*HUEX1A11\", line).group()\n",
    "                \n",
    "            except AttributeError:\n",
    "                pass\n",
    "    return result.decode(\"utf-8\")\n",
    "CELTOHUAX = {}\n",
    "for celfile in CELFILES:\n",
    "    CELTOHUAX[celfile] = str(processCELFile(CEL_LOCATION, celfile))"
   ]
  },
  {
   "cell_type": "code",
   "execution_count": 4,
   "metadata": {
    "collapsed": false
   },
   "outputs": [],
   "source": [
    "# Swap IDs from CEL to HUEX\n",
    "filename = os.path.join(CEL_LOCATION, \"core\")\n",
    "with open(filename, \"r\") as f:\n",
    "    lines = f.readlines()\n",
    "    swapped = [CELTOHUAX[line] for line in lines[0].rstrip().split(\"\\t\")[1:]]\n",
    "\n",
    "swappedLine = \"IDs\\t\" + \"\\t\".join(swapped)\n",
    "with open(\"normalisedFirstLine\", \"w\") as f:\n",
    "    f.write(swappedLine)\n",
    "    f.write(\"\\n\")"
   ]
  },
  {
   "cell_type": "code",
   "execution_count": 5,
   "metadata": {
    "collapsed": false,
    "scrolled": true
   },
   "outputs": [],
   "source": [
    "# Finish off the job using a bash script and a complicated python script, which pulls data from all over the place.\n",
    "\n",
    "import subprocess\n",
    "completed = subprocess.run(\"./analyseBlood.sh\", stdout=subprocess.PIPE, stderr=subprocess.PIPE)\n",
    "\n",
    "completed.check_returncode()\n",
    "\n",
    "#print(\"stdout\")\n",
    "#print(completed.stdout.decode(\"utf-8\"))\n",
    "#print(\"stderr\")\n",
    "#print(completed.stderr.decode(\"utf-8\"))"
   ]
  },
  {
   "cell_type": "markdown",
   "metadata": {},
   "source": [
    "## pre-processing & normalisation finished. File `cleaned` written to hard drive in current working directory."
   ]
  },
  {
   "cell_type": "markdown",
   "metadata": {},
   "source": [
    "# Analyse the data using Numpy\n",
    "\n",
    "1. Fit Modal allele length to each gene using ordinary linear regression.\n",
    "2. Expose the primary dataset as `CLEANED` residuals as `RESIDUALS`, Existence of Individuals Specific Effects as `RESIDUALS_PVALUES`, and Individual Specific Effects as `ISEs` and Modal Allele length as `MODAL_ALLELE`."
   ]
  },
  {
   "cell_type": "code",
   "execution_count": 6,
   "metadata": {
    "collapsed": false
   },
   "outputs": [],
   "source": [
    "# Load file `cleaned` back into python\n",
    "\n",
    "import numpy as np\n",
    "import scipy.stats\n",
    "\n",
    "filename = \"cleaned\"\n",
    "with open(filename) as f:\n",
    "    rowID = None\n",
    "    skipCount = 0\n",
    "    while rowID != \"Affymetrix\":\n",
    "        line = f.readline().rstrip().split()\n",
    "        skipCount += 1\n",
    "        rowID = line[0]\n",
    "        if rowID == \"IDs\":\n",
    "            columns = range(len(line))[1:]\n",
    "            ids = line[1:]\n",
    "        if rowID == \"ModalAllele\":\n",
    "            MODAL_ALLELE = [int(i) for i in line[1:]]\n",
    "\n",
    "with open(filename) as f:\n",
    "    CLEANED =  np.loadtxt(f, delimiter=\"\\t\", skiprows=skipCount, usecols=columns)\n",
    "\n",
    "def numpyAnalysis(CLEANED):\n",
    "    RESIDUALS = np.zeros_like(CLEANED)\n",
    "\n",
    "    rowNo, columnNo = CLEANED.shape\n",
    "\n",
    "    GENE_PVALUES = []\n",
    "\n",
    "    for i in range(rowNo):\n",
    "        slope, intercept, r_value, p_value, _ = scipy.stats.linregress(MODAL_ALLELE, list(CLEANED[i]))\n",
    "        GENE_PVALUES.append(p_value)\n",
    "        expected = [slope * value + intercept for value in MODAL_ALLELE]\n",
    "        residuals = [actual - expected for actual, expected in zip(CLEANED[i], expected)]\n",
    "        for j, residual in enumerate(residuals):\n",
    "            RESIDUALS[i][j] = residual\n",
    "\n",
    "    RESIDUALS_PVALUES = []\n",
    "    ISEs = []\n",
    "    for i in range(columnNo):\n",
    "        p_value = scipy.stats.ttest_1samp(RESIDUALS[..., i], 0)[1]\n",
    "        ISEs.append(sum(RESIDUALS[..., i])/rowNo)\n",
    "        RESIDUALS_PVALUES.append(p_value)\n",
    "    return (CLEANED, RESIDUALS, RESIDUALS_PVALUES, MODAL_ALLELE, ISEs, GENE_PVALUES)\n",
    "\n",
    "CLEANED, RESIDUALS, RESIDUALS_PVALUES, MODAL_ALLELE, ISEs, GENE_PVALUES = numpyAnalysis(CLEANED)\n",
    "\n",
    "_ = CLEANED # RMA normalised Affymetrix data\n",
    "_ = RESIDUALS # Residuals computed from MODAL_ALLELE\n",
    "_ = RESIDUALS_PVALUES # Existence of Individual Specific Effects (ISEs).\n",
    "_ = MODAL_ALLELE # Modal allele length\n",
    "_ = ISEs # Individual Specific Effects.\n",
    "_ = GENE_PVALUES # P-value for each gene"
   ]
  },
  {
   "cell_type": "markdown",
   "metadata": {},
   "source": [
    "## Analysing primary dataset with `numpy` finished. Appropriate variables exposed."
   ]
  },
  {
   "cell_type": "markdown",
   "metadata": {},
   "source": [
    "## Boxplot of residuals"
   ]
  },
  {
   "cell_type": "code",
   "execution_count": 7,
   "metadata": {
    "collapsed": false
   },
   "outputs": [
    {
     "data": {
      "image/png": "[encoded data removed]",
      "text/plain": [
       "<matplotlib.figure.Figure at 0x7f1be017d3c8>"
      ]
     },
     "metadata": {},
     "output_type": "display_data"
    }
   ],
   "source": [
    "import matplotlib as mpl\n",
    "import matplotlib.pyplot as plt\n",
    "%matplotlib inline\n",
    "plt.rcParams['figure.figsize'] = (12, 8)\n",
    "\n",
    "data_to_plot = [[RESIDUALS[:, i]] for i in range(CLEANED.shape[1])]\n",
    "fig = plt.figure()\n",
    "plt.boxplot(data_to_plot, showfliers=False)\n",
    "plt.show()"
   ]
  },
  {
   "cell_type": "markdown",
   "metadata": {
    "collapsed": true
   },
   "source": [
    "## y-logged graph of p-values"
   ]
  },
  {
   "cell_type": "code",
   "execution_count": 8,
   "metadata": {
    "collapsed": false
   },
   "outputs": [
    {
     "data": {
      "image/png": "[encoded data removed]",
      "text/plain": [
       "<matplotlib.figure.Figure at 0x7f1bc3a8f8d0>"
      ]
     },
     "metadata": {},
     "output_type": "display_data"
    }
   ],
   "source": [
    "import math\n",
    "fig = plt.figure()\n",
    "plt.semilogy(range(len(RESIDUALS_PVALUES)), RESIDUALS_PVALUES, marker=\"o\", lineWidth=0)\n",
    "plt.show()"
   ]
  },
  {
   "cell_type": "markdown",
   "metadata": {},
   "source": [
    "# Are ISEs a failure of normalisation?\n",
    "\n",
    "By failure of normalisation, we mean that either:\n",
    "\n",
    "1. ISEs are an artifact of slight differences in individual's mean gene expression.\n",
    "2. ISEs are an artifact of slight differences in variance of individual's gene expression.\n",
    "\n",
    "There are a few ways to check possibility 1:\n",
    "\n",
    "1. Are p-values testing for ISEs positively correlated with mean gene expression?\n",
    "2. Do ISEs disappear when we mean-adjust all the genes?"
   ]
  },
  {
   "cell_type": "markdown",
   "metadata": {},
   "source": [
    "## First compute mean Gene Expression Level (GEL) for each individual."
   ]
  },
  {
   "cell_type": "code",
   "execution_count": 9,
   "metadata": {
    "collapsed": false
   },
   "outputs": [],
   "source": [
    "CLEANED.shape[1] # this is the number of individuals in the study.\n",
    "CLEANED.shape[0] # this is the number of genes.\n",
    "\n",
    "MEAN_GEL = [] # mean gene expression levels, per individual.\n",
    "\n",
    "for i in range(CLEANED.shape[1]):\n",
    "    MEAN_GEL.append(sum(CLEANED[...,i])/CLEANED.shape[0])\n",
    "MEAN_MEAN_GEL = sum(MEAN_GEL)/len(MEAN_GEL)"
   ]
  },
  {
   "cell_type": "markdown",
   "metadata": {},
   "source": [
    "## Then plot mean expression levels against logged ISEs p-values\n",
    "1. green line is y=0.05\n",
    "2. red line is x=`MEAN_MEAN_GEL`, where `MEAN_MEAN_GEL` is a mean expression level of all genes from all individuals."
   ]
  },
  {
   "cell_type": "code",
   "execution_count": 10,
   "metadata": {
    "collapsed": false
   },
   "outputs": [
    {
     "data": {
      "image/png": "[encoded data removed]",
      "text/plain": [
       "<matplotlib.figure.Figure at 0x7f1ba8086f98>"
      ]
     },
     "metadata": {},
     "output_type": "display_data"
    }
   ],
   "source": [
    "fig = plt.figure()\n",
    "plt.semilogy(MEAN_GEL, RESIDUALS_PVALUES, marker=\"o\", lineWidth=0)\n",
    "plt.semilogy([6.94, 6.99], [0.05, 0.05])\n",
    "plt.semilogy([MEAN_MEAN_GEL]*2, [pow(10, -97), 1])\n",
    "plt.show()"
   ]
  },
  {
   "cell_type": "markdown",
   "metadata": {
    "collapsed": false
   },
   "source": [
    "## And plot mean expression levels against ISEs."
   ]
  },
  {
   "cell_type": "code",
   "execution_count": 11,
   "metadata": {
    "collapsed": false
   },
   "outputs": [
    {
     "data": {
      "image/png": "[encoded data removed]",
      "text/plain": [
       "<matplotlib.figure.Figure at 0x7f1ba22cde10>"
      ]
     },
     "metadata": {},
     "output_type": "display_data"
    }
   ],
   "source": [
    "fig = plt.figure()\n",
    "plt.scatter(MEAN_GEL, ISEs, marker=\"o\")#, lineWidth=0, label=\"hello\"\n",
    "plt.show()"
   ]
  },
  {
   "cell_type": "markdown",
   "metadata": {},
   "source": [
    "### These plots suggest that both existence and value of ISEs depends on the mean GEL in each individual. However, a closer look at the p-values plot suggests that this may not be the entire story -- we still end up with some really small p-values (1/300) -- even very close around the mean.\n",
    "\n",
    "1. green line is y=0.05\n",
    "2. red line is x=`MEAN_MEAN_GEL`, where `MEAN_MEAN_GEL` is a mean expression level of all genes from all individuals."
   ]
  },
  {
   "cell_type": "code",
   "execution_count": 12,
   "metadata": {
    "collapsed": false
   },
   "outputs": [
    {
     "data": {
      "image/png": "[encoded data removed]",
      "text/plain": [
       "<matplotlib.figure.Figure at 0x7f1ba22d3588>"
      ]
     },
     "metadata": {},
     "output_type": "display_data"
    }
   ],
   "source": [
    "fig = plt.figure()\n",
    "xrange = [MEAN_MEAN_GEL - 0.02, MEAN_MEAN_GEL + 0.02]\n",
    "yrange = [10**(-20), 1]\n",
    "plt.semilogy(MEAN_GEL, RESIDUALS_PVALUES, marker=\"o\", lineWidth=0)\n",
    "plt.semilogy(xrange, [0.05, 0.05])\n",
    "plt.semilogy([MEAN_MEAN_GEL]*2, yrange)\n",
    "plt.xlim(xrange)\n",
    "plt.ylim(yrange)\n",
    "plt.show()"
   ]
  },
  {
   "cell_type": "markdown",
   "metadata": {},
   "source": [
    "# Gene significance using Benjamini-Hochberg\n",
    "\n",
    "## first, load transcription cluster ids from `cleaned`"
   ]
  },
  {
   "cell_type": "code",
   "execution_count": 13,
   "metadata": {
    "collapsed": false
   },
   "outputs": [],
   "source": [
    "filename = \"cleaned\"\n",
    "\n",
    "T_CLUSTER_IDS = []\n",
    "\n",
    "MAP_T_CLUSTER_INDEX = {}\n",
    "\n",
    "read = False\n",
    "with open(\"cleaned\") as f:\n",
    "    lines = f.readlines()\n",
    "    i = 0\n",
    "    for line in lines:\n",
    "        line = line.rstrip().split(\"\\t\")\n",
    "        if read:\n",
    "            T_CLUSTER_IDS.append(line[0])\n",
    "            MAP_T_CLUSTER_INDEX[line[0]] = i\n",
    "            i += 1\n",
    "        if line:\n",
    "            if line[0] == \"Affymetrix\":\n",
    "                read = True\n",
    "\n",
    "assert(len(T_CLUSTER_IDS) == len(GENE_PVALUES))"
   ]
  },
  {
   "cell_type": "markdown",
   "metadata": {},
   "source": [
    "## Then sort genes in ascending order of GENE_PVALUES"
   ]
  },
  {
   "cell_type": "code",
   "execution_count": 14,
   "metadata": {
    "collapsed": false
   },
   "outputs": [],
   "source": [
    "benjhoch = list(zip(GENE_PVALUES, T_CLUSTER_IDS))\n",
    "benjhoch.sort()"
   ]
  },
  {
   "cell_type": "markdown",
   "metadata": {},
   "source": [
    "## Then multiply each gene by m/k, where m is the number of hypotheses tested and k = 1, ...,  m"
   ]
  },
  {
   "cell_type": "code",
   "execution_count": 15,
   "metadata": {
    "collapsed": false
   },
   "outputs": [],
   "source": [
    "m = len(benjhoch)\n",
    "k = range(1, len(benjhoch) + 1)\n",
    "sortedGenes = [((a[0] * m)/(b), a[1]) for a, b in zip(benjhoch, k)]\n",
    "\n",
    "# unit test for least significat gene\n",
    "test1 = min(GENE_PVALUES) * m\n",
    "test2 = sortedGenes[0][0]\n",
    "assert(abs(test1 - test2) < pow(10, -10))\n",
    "\n",
    "# unit test for most significat gene\n",
    "test1 = max(GENE_PVALUES)\n",
    "test2 = sortedGenes[-1][0]\n",
    "assert(abs(test1 - test2) < pow(10, -10))\n",
    "\n",
    "# unit test for least significant gene in a different way\n",
    "\n",
    "geneID = sortedGenes[0][1]\n",
    "uncorrected = GENE_PVALUES[MAP_T_CLUSTER_INDEX[geneID]]\n",
    "assert(uncorrected * m == min(GENE_PVALUES) * m)"
   ]
  },
  {
   "cell_type": "markdown",
   "metadata": {},
   "source": [
    "# Then answer the question: for any given $\\alpha$, where $\\alpha$ is the cutoff between $[0, 1]$, how many genes can we detect as significant?"
   ]
  },
  {
   "cell_type": "code",
   "execution_count": 16,
   "metadata": {
    "collapsed": false
   },
   "outputs": [
    {
     "data": {
      "image/png": "[encoded data removed]",
      "text/plain": [
       "<matplotlib.figure.Figure at 0x7f1ba23ff278>"
      ]
     },
     "metadata": {},
     "output_type": "display_data"
    }
   ],
   "source": [
    "movingMin = sortedGenes[0][0]\n",
    "\n",
    "alphas = [0.001 * i for i in range(1001)]\n",
    "\n",
    "def genesForAlpha(sortedGenes, alpha):\n",
    "    lastGene = -1\n",
    "    for i, geneTuple in enumerate(sortedGenes):\n",
    "        significance, geneID = geneTuple\n",
    "        if significance < alpha:\n",
    "            lastGene = i\n",
    "    if lastGene >= 0:\n",
    "        return sortedGenes[0:lastGene + 1]\n",
    "    else:\n",
    "        return []\n",
    "\n",
    "geneCount = [len(genesForAlpha(sortedGenes, alpha)) for alpha in alphas]\n",
    "\n",
    "plt.plot(alphas, geneCount)\n",
    "plt.xlabel(\"alpha\")\n",
    "plt.ylabel(\"genes\")\n",
    "plt.show()"
   ]
  },
  {
   "cell_type": "markdown",
   "metadata": {},
   "source": [
    "## zoom into into the \"few genes\" region"
   ]
  },
  {
   "cell_type": "code",
   "execution_count": 17,
   "metadata": {
    "collapsed": false
   },
   "outputs": [
    {
     "data": {
      "image/png": "[encoded data removed]",
      "text/plain": [
       "<matplotlib.figure.Figure at 0x7f1ba241d898>"
      ]
     },
     "metadata": {},
     "output_type": "display_data"
    }
   ],
   "source": [
    "plt.plot(alphas, geneCount)\n",
    "plt.ylim(0, 10)\n",
    "plt.xlabel(\"alpha\")\n",
    "plt.ylabel(\"genes\")\n",
    "plt.show()"
   ]
  },
  {
   "cell_type": "markdown",
   "metadata": {},
   "source": [
    "## Or give a list of transcription clusters with FDR of 40%"
   ]
  },
  {
   "cell_type": "code",
   "execution_count": 18,
   "metadata": {
    "collapsed": false
   },
   "outputs": [
    {
     "data": {
      "text/plain": [
       "[(0.20767253459146329, '3139557'), (0.25361044891295487, '2968452')]"
      ]
     },
     "execution_count": 18,
     "metadata": {},
     "output_type": "execute_result"
    }
   ],
   "source": [
    "genesForAlpha(sortedGenes, 0.40)"
   ]
  },
  {
   "cell_type": "markdown",
   "metadata": {},
   "source": [
    "## Or give a list of transcription clusters with FDR of 50%"
   ]
  },
  {
   "cell_type": "code",
   "execution_count": 19,
   "metadata": {
    "collapsed": false
   },
   "outputs": [
    {
     "name": "stdout",
     "output_type": "stream",
     "text": [
      "number of genes at alpha 0.5 is 803\n",
      "the 2 genes around the boundary have significance 0.499681381299 0.502117215837\n",
      "the first 5 genes are\n"
     ]
    },
    {
     "data": {
      "text/plain": [
       "[(0.20767253459146329, '3139557'),\n",
       " (0.25361044891295487, '2968452'),\n",
       " (0.4670672574672507, '2358393'),\n",
       " (0.54626219382433827, '2620894'),\n",
       " (0.6875488140324012, '2968373')]"
      ]
     },
     "execution_count": 19,
     "metadata": {},
     "output_type": "execute_result"
    }
   ],
   "source": [
    "alpha = 0.50\n",
    "sigGenes = genesForAlpha(sortedGenes, alpha)\n",
    "noSigGenes = len(sigGenes)\n",
    "print(\"number of genes at alpha\", alpha, \"is\", noSigGenes)\n",
    "print(\"the 2 genes around the boundary have significance\", sortedGenes[noSigGenes - 1][0], sortedGenes[noSigGenes][0])\n",
    "print(\"the first 5 genes are\")\n",
    "sigGenes[:5]"
   ]
  },
  {
   "cell_type": "markdown",
   "metadata": {},
   "source": [
    "This is strange. Such a sudden raise in detected genes is quite surprising (2 genes vs 803, FDR of 40% vs FDR of 50%). I hope that reviewing the proof of Benjamini-Hochberg for my literature review is going to help me understand why this is allowed to happen (Unless this is a bug in my program, probability is playing around with my intuition)."
   ]
  },
  {
   "cell_type": "markdown",
   "metadata": {},
   "source": [
    "# Disease Specific Effects\n",
    "\n",
    "## Let us partition the genes at FDR of 50% into 2 groups randomly. Let us compute the DSE of one group, apply it to the other group and check if it helps improve significance.\n"
   ]
  },
  {
   "cell_type": "code",
   "execution_count": 20,
   "metadata": {
    "collapsed": false
   },
   "outputs": [],
   "source": [
    "import random\n",
    "random.shuffle(sigGenes)\n",
    "genesA = sigGenes[:noSigGenes//2]\n",
    "genesB = sigGenes[noSigGenes//2:]\n",
    "\n",
    "# unit test our map\n",
    "test1 = CLEANED[MAP_T_CLUSTER_INDEX[\"2315554\"]][0]\n",
    "test2 = 7.54562452199732\n",
    "assert(abs(test1 - test2) <= pow(10, -10))\n",
    "\n",
    "# compute Disease Specific effects\n",
    "DSE = [0]*CLEANED.shape[1]\n",
    "relevantGenesAIndex = [MAP_T_CLUSTER_INDEX[t_cluster_id] for _, t_cluster_id in genesA]\n",
    "relevantGenesBIndex = [MAP_T_CLUSTER_INDEX[t_cluster_id] for _, t_cluster_id in genesB]\n",
    "\n",
    "for i in range(CLEANED.shape[1]):\n",
    "    relevantResiduals = [RESIDUALS[j,i] for j in relevantGenesAIndex]\n",
    "    DSE[i] = sum(relevantResiduals)/len(relevantResiduals)\n",
    "\n",
    "# copy CLEANED into another array\n",
    "DSE_ADJUSTED = np.copy(CLEANED)\n",
    "\n",
    "# adjust genes in set B with DSEs computed from genes in set A\n",
    "for i in relevantGenesBIndex:\n",
    "    for j in range(CLEANED.shape[1]):\n",
    "        DSE_ADJUSTED[i][j] -= DSE[j]\n"
   ]
  },
  {
   "cell_type": "markdown",
   "metadata": {},
   "source": [
    "## Now, let's repeat the numpy analysis using `DSE_ADJUSTED`"
   ]
  },
  {
   "cell_type": "code",
   "execution_count": 21,
   "metadata": {
    "collapsed": false
   },
   "outputs": [],
   "source": [
    "CLEANED_B, RESIDUALS_B, RESIDUALS_PVALUES_B, MODAL_ALLELE_B, ISEs_B, GENE_PVALUES_B = numpyAnalysis(DSE_ADJUSTED)"
   ]
  },
  {
   "cell_type": "markdown",
   "metadata": {},
   "source": [
    "## Now, let's count in how many cases the p-values have improved"
   ]
  },
  {
   "cell_type": "code",
   "execution_count": 22,
   "metadata": {
    "collapsed": false
   },
   "outputs": [
    {
     "name": "stdout",
     "output_type": "stream",
     "text": [
      "P-values have improved in 0.4228855721393035 fraction of cases\n",
      "P-values have worsened in 0.5771144278606966 fraction of cases\n"
     ]
    }
   ],
   "source": [
    "#print(relevantGenesBIndex)\n",
    "\n",
    "previousPValues = [GENE_PVALUES[i] for i in relevantGenesBIndex]\n",
    "currentPValues = [GENE_PVALUES_B[i] for i in relevantGenesBIndex]\n",
    "countSmaller = 0\n",
    "for i, _ in enumerate(relevantGenesBIndex):\n",
    "    if (currentPValues[i] < previousPValues[i]):\n",
    "        #print(currentPValues[i], previousPValues[i])\n",
    "        countSmaller += 1\n",
    "print(\"P-values have improved in\", countSmaller/len(currentPValues), \"fraction of cases\")\n",
    "print(\"P-values have worsened in\", 1 - countSmaller/len(currentPValues), \"fraction of cases\")"
   ]
  },
  {
   "cell_type": "markdown",
   "metadata": {},
   "source": [
    "The values printed in the previous cells are random and determined by a particular random seed, but from running it a couple of times I've seen both fractions to be rather similar."
   ]
  },
  {
   "cell_type": "markdown",
   "metadata": {
    "collapsed": true
   },
   "source": [
    "# Weekly Report 08/12/2016\n",
    "\n",
    "## Biopython\n",
    "\n",
    "I have written a parser, which allows one to access raw probe data from the Affymetrix CEL files version 4 (which is what we're working with). My work gained interest of a large open-source bioinformatics package called Biopython. I discussed contributing this parser to Biopython with the maintainer of this package, Peter Cock.\n",
    "\n",
    "At the time of this writing, the code I've written underwent very scrupulous review, but after 8 revisions it looks like it will get merged into the next version of Biopython (whenever that's released).\n",
    "\n",
    "There are a number benefits to this of both political and scientific value.\n",
    "\n",
    "Political:\n",
    "\n",
    "- If we discover anything interesting we would find it much easier to distribute it as part of biopython (as opposed to distributing it ourselves).\n",
    "- We're doing a good service to the community.\n",
    "\n",
    "Scientific:\n",
    "\n",
    "We can now easily detect/fix some of the issue with our data:\n",
    "\n",
    "- Aren't all of our probes oversaturated/ undersaturated?\n",
    "- How do we know if a probe is broken (or there is a scratch on the microarray)?\n",
    "- RMA doesn't normalise means, can we write our own better-RMA?\n",
    "\n",
    "What the parser gives us is ~5.5 million of triplets of\n",
    "the form:\n",
    "\n",
    "(double, double, integer)\n",
    "\n",
    "The last number is the number of pixels per probe from which an\n",
    "intensity measurement was taken. This is always 9.\n",
    "\n",
    "The first number is the average intensity of these pixels.\n",
    "\n",
    "The middle number is the standard deviation.\n",
    "\n",
    "The following are the first few triplets:\n",
    "\n",
    "    (7326.0, 875.0999755859375,  9)\n",
    "    (162.0,  34.099998474121094, 9)\n",
    "    (6933.0, 1001.0,             9)\n",
    "    (224.0,  36.400001525878906, 9)\n",
    "    (54.0,   6.0,                9)\n",
    "    (247.0,  23.5,               9)\n",
    "    (210.0,  18.299999237060547, 9)\n",
    "\n",
    "## Literature Review\n",
    "\n",
    "I've started writing the literature review (the deadline is 16th of January). That's attached. \n",
    "\n",
    "## Wilf's results\n",
    "\n",
    "I've re-read Wilf's report and tried to see which bits of analysis I'm missing.\n",
    "\n",
    "## Comparing my results with John's"
   ]
  },
  {
   "cell_type": "code",
   "execution_count": null,
   "metadata": {
    "collapsed": true
   },
   "outputs": [],
   "source": []
  }
 ],
 "metadata": {
  "anaconda-cloud": {},
  "kernelspec": {
   "display_name": "Python [Root]",
   "language": "python",
   "name": "Python [Root]"
  },
  "language_info": {
   "codemirror_mode": {
    "name": "ipython",
    "version": 3
   },
   "file_extension": ".py",
   "mimetype": "text/x-python",
   "name": "python",
   "nbconvert_exporter": "python",
   "pygments_lexer": "ipython3",
   "version": "3.5.2"
  }
 },
 "nbformat": 4,
 "nbformat_minor": 0
}
