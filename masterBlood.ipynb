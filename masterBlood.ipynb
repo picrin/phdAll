{
 "cells": [
  {
   "cell_type": "markdown",
   "metadata": {},
   "source": [
    "# Weekly Report 21/11/2016\n",
    "\n",
    "## Jupyter\n",
    "\n",
    "This report looks very different from the reports in the previous weeks.\n",
    "\n",
    "Following Simon's and John's suggestion I stopped running analyses as a bunch of python & bash scripts (although one bash script still remains) and refactored most of the code into jupyter notebooks. Because jupyter supports markdown, the report itself is also a part of the notebook.\n",
    "\n",
    "This proved to be more challenging than I thought, but I believe it was a worthwhile effort.\n",
    "\n",
    "The main difficulty is that various bits of analysis are written in python and R (and a few remaining lines of bash) and I needed a solution, which could run the right bit of analysis in the right time. While jupyter supports both R and python, it doesn't support mixing them within one notebook. A workaround I eventually managed to figure out is to split the analysis into multiple notbooks and execute all \"auxiliary\" notebooks from a \"master\" notebook using some internal functionality of jupyter. This may not be ideal, but it's the best I could do.\n",
    "\n",
    "Other difficulties remain: \n",
    "\n",
    "1. The report may be hard to read, because the computation of the results, their description & their presentation are interleaved. \n",
    "2. The report will become longer every week. The most relevant bits will live at the end of the notebook.\n",
    "3. Many small things are not working: installing R packages is awkward, some R functions are not supported, spellcheck doesn't work, R kernel sometimes dies for no reason, code boxes overflow in the pdf version, double quotation marks are broken in the pdf version, etc.\n",
    "\n",
    "As to the benefits of this approach:\n",
    "\n",
    "1. Jupyter is interactive, which means I don't have to wait 10 seconds on each execution of each script. This really has big impact on productivity, as each script is executed hundreds of times, i.e. on every small modification of the codebase. Using my workaround we do not lose the batch-processing capability.\n",
    "2. Jupyter supports markdown cells, which means I can document what I'm doing as I go.\n",
    "3. Jupyter supports inline plots. This is another productivity gain, as writing pngs to disk (and correctly naming them!) and then manually attaching them to latex files was slow & error-prone.\n",
    "4. It becomes easier to achieve the solution reached by Simon's former student: each compilation of dissertation leads to a full re-run of all notebooks, which in turn leads to fully reproducible research (how did this student deal with software dependencies though? A docker container could be a way...).\n",
    "\n",
    "## Are ISEs a failure of normalisation?\n",
    "\n",
    "I'm trying to validate Darren's concern raised last week (more details at the end of this notebook).\n",
    "\n",
    "## Ordering genes by their significance\n",
    "\n",
    "I order genes by their significance using ordinary linear regression and Benjamini–Hochberg procedure in python. I try the same using limma's regression in R, but there are still some problems remaining (more details in notebook analyseLimma.ipynb).\n",
    "\n",
    "## Disease-Specific effects in python\n",
    "\n",
    "I compute Disease Specific Effects (DSEs) in python and try to reproduce Wilf's results (more details at the end of this notebook).\n"
   ]
  },
  {
   "cell_type": "markdown",
   "metadata": {},
   "source": [
    "# Analysis of microarry data from patients with myotonic dystrophy."
   ]
  },
  {
   "cell_type": "markdown",
   "metadata": {},
   "source": [
    "# Pre-process & Normalise data"
   ]
  },
  {
   "cell_type": "code",
   "execution_count": 1,
   "metadata": {
    "collapsed": false
   },
   "outputs": [],
   "source": [
    "# First check if all CEL files are present. We expect data from 35 patients\n",
    "\n",
    "import os, os.path\n",
    "\n",
    "CEL_LOCATION = os.path.join(\"CELfiles\", \"blood\")\n",
    "CEL_MAPPING  = os.path.join(\"CELfiles\", \"u133mapping.xls\")\n",
    "\n",
    "CELFILES = os.listdir(CEL_LOCATION)\n",
    "CELFILES = [file for file in CELFILES if file[-4:] == \".CEL\"]\n",
    "\n",
    "assert(len(CELFILES) == 35)"
   ]
  },
  {
   "cell_type": "code",
   "execution_count": 2,
   "metadata": {
    "collapsed": false
   },
   "outputs": [
    {
     "name": "stdout",
     "output_type": "stream",
     "text": [
      "corefile exists\n"
     ]
    }
   ],
   "source": [
    "# Carry out RMA normalisation on all CEL files. Write output to corefile. This step takes a few minutes (unless corefile already exists).\n",
    "\n",
    "import utils\n",
    "corefile =  os.path.join(CEL_LOCATION, \"core\")\n",
    "try:\n",
    "    with open(corefile, \"rb\") as f:\n",
    "        print(\"corefile exists\")\n",
    "except FileNotFoundError:\n",
    "    utils.executeNotebook(\"normalise.ipynb\", CEL_LOCATION)\n",
    "    print(\"corefile created\")"
   ]
  },
  {
   "cell_type": "code",
   "execution_count": 3,
   "metadata": {
    "collapsed": false
   },
   "outputs": [],
   "source": [
    "# Retrieve HUAX IDs from CEL files\n",
    "\n",
    "import sys\n",
    "import re\n",
    "import json\n",
    "\n",
    "def processCELFile(basePath, lastPath):\n",
    "    relPath = os.path.join(basePath, lastPath)\n",
    "    result = \"\"\n",
    "    with open(relPath, \"rb\") as f:\n",
    "        lines = f.readlines()\n",
    "        for i, line in enumerate(lines[0:20]):\n",
    "            try:\n",
    "                result = re.search(b\"(\\d)*HUEX1A11\", line).group()\n",
    "                \n",
    "            except AttributeError:\n",
    "                pass\n",
    "    return result.decode(\"utf-8\")\n",
    "CELTOHUAX = {}\n",
    "for celfile in CELFILES:\n",
    "    CELTOHUAX[celfile] = str(processCELFile(CEL_LOCATION, celfile))"
   ]
  },
  {
   "cell_type": "code",
   "execution_count": 4,
   "metadata": {
    "collapsed": false
   },
   "outputs": [],
   "source": [
    "# Swap IDs from CEL to HUEX\n",
    "filename = os.path.join(CEL_LOCATION, \"core\")\n",
    "with open(filename, \"r\") as f:\n",
    "    lines = f.readlines()\n",
    "    swapped = [CELTOHUAX[line] for line in lines[0].rstrip().split(\"\\t\")[1:]]\n",
    "\n",
    "swappedLine = \"IDs\\t\" + \"\\t\".join(swapped)\n",
    "with open(\"normalisedFirstLine\", \"w\") as f:\n",
    "    f.write(swappedLine)\n",
    "    f.write(\"\\n\")"
   ]
  },
  {
   "cell_type": "code",
   "execution_count": 5,
   "metadata": {
    "collapsed": false,
    "scrolled": true
   },
   "outputs": [],
   "source": [
    "# Finish off the job using a bash script and a complicated python script, which pulls data from all over the place.\n",
    "\n",
    "import subprocess\n",
    "completed = subprocess.run(\"./analyseBlood.sh\", stdout=subprocess.PIPE, stderr=subprocess.PIPE)\n",
    "\n",
    "completed.check_returncode()\n",
    "\n",
    "#print(\"stdout\")\n",
    "#print(completed.stdout.decode(\"utf-8\"))\n",
    "#print(\"stderr\")\n",
    "#print(completed.stderr.decode(\"utf-8\"))"
   ]
  },
  {
   "cell_type": "markdown",
   "metadata": {},
   "source": [
    "## pre-processing & normalisation finished. File `cleaned` written to hard drive in current working directory."
   ]
  },
  {
   "cell_type": "markdown",
   "metadata": {},
   "source": [
    "# Analyse the data using Numpy\n",
    "\n",
    "1. Fit Modal allele length to each gene using ordinary linear regression.\n",
    "2. Expose the primary dataset as `CLEANED` residuals as `RESIDUALS`, Existence of Individuals Specific Effects as `RESIDUALS_PVALUES`, and Individual Specific Effects as `ISEs` and Modal Allele length as `MODAL_ALLELE`."
   ]
  },
  {
   "cell_type": "code",
   "execution_count": 6,
   "metadata": {
    "collapsed": false
   },
   "outputs": [],
   "source": [
    "# Load file `cleaned` back into python\n",
    "\n",
    "import numpy as np\n",
    "import scipy.stats\n",
    "\n",
    "filename = \"cleaned\"\n",
    "with open(filename) as f:\n",
    "    rowID = None\n",
    "    skipCount = 0\n",
    "    while rowID != \"Affymetrix\":\n",
    "        line = f.readline().rstrip().split()\n",
    "        skipCount += 1\n",
    "        rowID = line[0]\n",
    "        if rowID == \"IDs\":\n",
    "            columns = range(len(line))[1:]\n",
    "            ids = line[1:]\n",
    "        if rowID == \"ModalAllele\":\n",
    "            MODAL_ALLELE = [int(i) for i in line[1:]]\n",
    "\n",
    "with open(filename) as f:\n",
    "    CLEANED =  np.loadtxt(f, delimiter=\"\\t\", skiprows=skipCount, usecols=columns)\n",
    "\n",
    "def numpyAnalysis(CLEANED):\n",
    "    RESIDUALS = np.zeros_like(CLEANED)\n",
    "\n",
    "    rowNo, columnNo = CLEANED.shape\n",
    "\n",
    "    GENE_PVALUES = []\n",
    "\n",
    "    for i in range(rowNo):\n",
    "        slope, intercept, r_value, p_value, _ = scipy.stats.linregress(MODAL_ALLELE, list(CLEANED[i]))\n",
    "        GENE_PVALUES.append(p_value)\n",
    "        expected = [slope * value + intercept for value in MODAL_ALLELE]\n",
    "        residuals = [actual - expected for actual, expected in zip(CLEANED[i], expected)]\n",
    "        for j, residual in enumerate(residuals):\n",
    "            RESIDUALS[i][j] = residual\n",
    "\n",
    "    RESIDUALS_PVALUES = []\n",
    "    ISEs = []\n",
    "    for i in range(columnNo):\n",
    "        p_value = scipy.stats.ttest_1samp(RESIDUALS[..., i], 0)[1]\n",
    "        ISEs.append(sum(RESIDUALS[..., i])/rowNo)\n",
    "        RESIDUALS_PVALUES.append(p_value)\n",
    "    return (CLEANED, RESIDUALS, RESIDUALS_PVALUES, MODAL_ALLELE, ISEs, GENE_PVALUES)\n",
    "\n",
    "CLEANED, RESIDUALS, RESIDUALS_PVALUES, MODAL_ALLELE, ISEs, GENE_PVALUES = numpyAnalysis(CLEANED)\n",
    "\n",
    "_ = CLEANED # RMA normalised Affymetrix data\n",
    "_ = RESIDUALS # Residuals computed from MODAL_ALLELE\n",
    "_ = RESIDUALS_PVALUES # Existence of Individual Specific Effects (ISEs).\n",
    "_ = MODAL_ALLELE # Modal allele length\n",
    "_ = ISEs # Individual Specific Effects.\n",
    "_ = GENE_PVALUES # P-value for each gene"
   ]
  },
  {
   "cell_type": "markdown",
   "metadata": {},
   "source": [
    "## Analysing primary dataset with `numpy` finished. Appropriate variables exposed."
   ]
  },
  {
   "cell_type": "markdown",
   "metadata": {},
   "source": [
    "## Boxplot of residuals"
   ]
  },
  {
   "cell_type": "code",
   "execution_count": 7,
   "metadata": {
    "collapsed": false
   },
   "outputs": [
    {
     "data": {
      "image/png": "[encoded data removed]",
      "text/plain": [
       "<matplotlib.figure.Figure at 0x7fb2b06b1358>"
      ]
     },
     "metadata": {},
     "output_type": "display_data"
    }
   ],
   "source": [
    "import matplotlib as mpl\n",
    "import matplotlib.pyplot as plt\n",
    "%matplotlib inline\n",
    "plt.rcParams['figure.figsize'] = (12, 8)\n",
    "\n",
    "data_to_plot = [[RESIDUALS[:, i]] for i in range(CLEANED.shape[1])]\n",
    "fig = plt.figure()\n",
    "plt.boxplot(data_to_plot, showfliers=False)\n",
    "plt.show()"
   ]
  },
  {
   "cell_type": "markdown",
   "metadata": {
    "collapsed": true
   },
   "source": [
    "## y-logged graph of p-values"
   ]
  },
  {
   "cell_type": "code",
   "execution_count": 8,
   "metadata": {
    "collapsed": false
   },
   "outputs": [
    {
     "data": {
      "image/png": "[encoded data removed]",
      "text/plain": [
       "<matplotlib.figure.Figure at 0x7fb2c91c8ba8>"
      ]
     },
     "metadata": {},
     "output_type": "display_data"
    }
   ],
   "source": [
    "import math\n",
    "fig = plt.figure()\n",
    "plt.semilogy(range(len(RESIDUALS_PVALUES)), RESIDUALS_PVALUES, marker=\"o\", lineWidth=0)\n",
    "plt.show()"
   ]
  },
  {
   "cell_type": "markdown",
   "metadata": {},
   "source": [
    "# Are ISEs a failure of normalisation?\n",
    "\n",
    "By failure of normalisation, we mean that either:\n",
    "\n",
    "1. ISEs are an artifact of slight differences in individual's mean gene expression.\n",
    "2. ISEs are an artifact of slight differences in variance of individual's gene expression.\n",
    "\n",
    "There are a few ways to check possibility 1:\n",
    "\n",
    "1. Are p-values testing for ISEs positively correlated with mean gene expression?\n",
    "2. Do ISEs disappear when we mean-adjust all the genes?"
   ]
  },
  {
   "cell_type": "markdown",
   "metadata": {},
   "source": [
    "## First compute mean Gene Expression Level (GEL) for each individual."
   ]
  },
  {
   "cell_type": "code",
   "execution_count": 9,
   "metadata": {
    "collapsed": false
   },
   "outputs": [],
   "source": [
    "CLEANED.shape[1] # this is the number of individuals in the study.\n",
    "CLEANED.shape[0] # this is the number of genes.\n",
    "\n",
    "MEAN_GEL = [] # mean gene expression levels, per individual.\n",
    "\n",
    "for i in range(CLEANED.shape[1]):\n",
    "    MEAN_GEL.append(sum(CLEANED[...,i])/CLEANED.shape[0])\n",
    "MEAN_MEAN_GEL = sum(MEAN_GEL)/len(MEAN_GEL)"
   ]
  },
  {
   "cell_type": "markdown",
   "metadata": {},
   "source": [
    "## Then plot mean expression levels against logged ISEs p-values\n",
    "1. green line is y=0.05\n",
    "2. red line is x=`MEAN_MEAN_GEL`, where `MEAN_MEAN_GEL` is a mean expression level of all genes from all individuals."
   ]
  },
  {
   "cell_type": "code",
   "execution_count": 10,
   "metadata": {
    "collapsed": false
   },
   "outputs": [
    {
     "data": {
      "image/png": "[encoded data removed]",
      "text/plain": [
       "<matplotlib.figure.Figure at 0x7fb29fed4c50>"
      ]
     },
     "metadata": {},
     "output_type": "display_data"
    }
   ],
   "source": [
    "fig = plt.figure()\n",
    "plt.semilogy(MEAN_GEL, RESIDUALS_PVALUES, marker=\"o\", lineWidth=0)\n",
    "plt.semilogy([6.94, 6.99], [0.05, 0.05])\n",
    "plt.semilogy([MEAN_MEAN_GEL]*2, [pow(10, -97), 1])\n",
    "plt.show()"
   ]
  },
  {
   "cell_type": "markdown",
   "metadata": {
    "collapsed": false
   },
   "source": [
    "## And plot mean expression levels against ISEs."
   ]
  },
  {
   "cell_type": "code",
   "execution_count": 11,
   "metadata": {
    "collapsed": false
   },
   "outputs": [
    {
     "data": {
      "image/png": "[encoded data removed]",
      "text/plain": [
       "<matplotlib.figure.Figure at 0x7fb29fe72ef0>"
      ]
     },
     "metadata": {},
     "output_type": "display_data"
    }
   ],
   "source": [
    "fig = plt.figure()\n",
    "plt.scatter(MEAN_GEL, ISEs, marker=\"o\")#, lineWidth=0, label=\"hello\"\n",
    "plt.show()"
   ]
  },
  {
   "cell_type": "markdown",
   "metadata": {},
   "source": [
    "### These plots suggest that both existence and value of ISEs depends on the mean GEL in each individual. However, a closer look at the p-values plot suggests that this may not be the entire story -- we still end up with some really small p-values (1/300) -- even very close around the mean.\n",
    "\n",
    "1. green line is y=0.05\n",
    "2. red line is x=`MEAN_MEAN_GEL`, where `MEAN_MEAN_GEL` is a mean expression level of all genes from all individuals."
   ]
  },
  {
   "cell_type": "code",
   "execution_count": 12,
   "metadata": {
    "collapsed": false
   },
   "outputs": [
    {
     "data": {
      "image/png": "[encoded data removed]",
      "text/plain": [
       "<matplotlib.figure.Figure at 0x7fb2a426f6d8>"
      ]
     },
     "metadata": {},
     "output_type": "display_data"
    }
   ],
   "source": [
    "fig = plt.figure()\n",
    "xrange = [MEAN_MEAN_GEL - 0.02, MEAN_MEAN_GEL + 0.02]\n",
    "yrange = [10**(-20), 1]\n",
    "plt.semilogy(MEAN_GEL, RESIDUALS_PVALUES, marker=\"o\", lineWidth=0)\n",
    "plt.semilogy(xrange, [0.05, 0.05])\n",
    "plt.semilogy([MEAN_MEAN_GEL]*2, yrange)\n",
    "plt.xlim(xrange)\n",
    "plt.ylim(yrange)\n",
    "plt.show()"
   ]
  },
  {
   "cell_type": "markdown",
   "metadata": {},
   "source": [
    "# Gene significance using Benjamini-Hochberg\n",
    "\n",
    "## first, load transcription cluster ids from `cleaned`"
   ]
  },
  {
   "cell_type": "code",
   "execution_count": 13,
   "metadata": {
    "collapsed": false
   },
   "outputs": [],
   "source": [
    "filename = \"cleaned\"\n",
    "\n",
    "T_CLUSTER_IDS = []\n",
    "\n",
    "MAP_T_CLUSTER_INDEX = {}\n",
    "\n",
    "read = False\n",
    "with open(\"cleaned\") as f:\n",
    "    lines = f.readlines()\n",
    "    i = 0\n",
    "    for line in lines:\n",
    "        line = line.rstrip().split(\"\\t\")\n",
    "        if read:\n",
    "            T_CLUSTER_IDS.append(line[0])\n",
    "            MAP_T_CLUSTER_INDEX[line[0]] = i\n",
    "            i += 1\n",
    "        if line:\n",
    "            if line[0] == \"Affymetrix\":\n",
    "                read = True\n",
    "\n",
    "assert(len(T_CLUSTER_IDS) == len(GENE_PVALUES))"
   ]
  },
  {
   "cell_type": "markdown",
   "metadata": {},
   "source": [
    "## Then sort genes in ascending order of GENE_PVALUES"
   ]
  },
  {
   "cell_type": "code",
   "execution_count": 14,
   "metadata": {
    "collapsed": false
   },
   "outputs": [],
   "source": [
    "benjhoch = list(zip(GENE_PVALUES, T_CLUSTER_IDS))\n",
    "benjhoch.sort()"
   ]
  },
  {
   "cell_type": "markdown",
   "metadata": {},
   "source": [
    "## Then multiply each gene by m/k, where m is the number of hypotheses tested and k = 1, ...,  m"
   ]
  },
  {
   "cell_type": "code",
   "execution_count": 15,
   "metadata": {
    "collapsed": false
   },
   "outputs": [],
   "source": [
    "m = len(benjhoch)\n",
    "k = range(1, len(benjhoch) + 1)\n",
    "sortedGenes = [((a[0] * m)/(b), a[1]) for a, b in zip(benjhoch, k)]\n",
    "\n",
    "# unit test for least significat gene\n",
    "test1 = min(GENE_PVALUES) * m\n",
    "test2 = sortedGenes[0][0]\n",
    "assert(abs(test1 - test2) < pow(10, -10))\n",
    "\n",
    "# unit test for most significat gene\n",
    "test1 = max(GENE_PVALUES)\n",
    "test2 = sortedGenes[-1][0]\n",
    "assert(abs(test1 - test2) < pow(10, -10))\n",
    "\n",
    "# unit test for least significant gene in a different way\n",
    "\n",
    "geneID = sortedGenes[0][1]\n",
    "uncorrected = GENE_PVALUES[MAP_T_CLUSTER_INDEX[geneID]]\n",
    "assert(uncorrected * m == min(GENE_PVALUES) * m)"
   ]
  },
  {
   "cell_type": "markdown",
   "metadata": {},
   "source": [
    "# Then answer the question: for any given $\\alpha$, where $\\alpha$ is the cutoff between $[0, 1]$, how many genes can we detect as significant?"
   ]
  },
  {
   "cell_type": "code",
   "execution_count": 16,
   "metadata": {
    "collapsed": false
   },
   "outputs": [
    {
     "data": {
      "image/png": "[encoded data removed]",
      "text/plain": [
       "<matplotlib.figure.Figure at 0x7fb29f950240>"
      ]
     },
     "metadata": {},
     "output_type": "display_data"
    }
   ],
   "source": [
    "movingMin = sortedGenes[0][0]\n",
    "\n",
    "alphas = [0.001 * i for i in range(1001)]\n",
    "\n",
    "def genesForAlpha(sortedGenes, alpha):\n",
    "    lastGene = -1\n",
    "    for i, geneTuple in enumerate(sortedGenes):\n",
    "        significance, geneID = geneTuple\n",
    "        if significance < alpha:\n",
    "            lastGene = i\n",
    "    if lastGene >= 0:\n",
    "        return sortedGenes[0:lastGene + 1]\n",
    "    else:\n",
    "        return []\n",
    "\n",
    "geneCount = [len(genesForAlpha(sortedGenes, alpha)) for alpha in alphas]\n",
    "\n",
    "plt.plot(alphas, geneCount)\n",
    "plt.xlabel(\"alpha\")\n",
    "plt.ylabel(\"genes\")\n",
    "plt.show()"
   ]
  },
  {
   "cell_type": "markdown",
   "metadata": {},
   "source": [
    "## zoom into into the \"few genes\" region"
   ]
  },
  {
   "cell_type": "code",
   "execution_count": 17,
   "metadata": {
    "collapsed": false
   },
   "outputs": [
    {
     "data": {
      "image/png": "[encoded data removed]",
      "text/plain": [
       "<matplotlib.figure.Figure at 0x7fb29fe0cd30>"
      ]
     },
     "metadata": {},
     "output_type": "display_data"
    }
   ],
   "source": [
    "plt.rcParams['figure.figsize'] = (12, 8)\n",
    "plt.plot(alphas, geneCount)\n",
    "plt.ylim(0, 10)\n",
    "plt.xlabel(\"alpha\")\n",
    "plt.ylabel(\"genes\")\n",
    "plt.show()"
   ]
  },
  {
   "cell_type": "markdown",
   "metadata": {},
   "source": [
    "## Or give a list of transcription clusters with FDR of 40%"
   ]
  },
  {
   "cell_type": "code",
   "execution_count": 18,
   "metadata": {
    "collapsed": false
   },
   "outputs": [
    {
     "data": {
      "text/plain": [
       "[(0.20767253459146329, '3139557'), (0.25361044891295487, '2968452')]"
      ]
     },
     "execution_count": 18,
     "metadata": {},
     "output_type": "execute_result"
    }
   ],
   "source": [
    "genesForAlpha(sortedGenes, 0.40)"
   ]
  },
  {
   "cell_type": "markdown",
   "metadata": {},
   "source": [
    "## Or give a list of transcription clusters with FDR of 50%"
   ]
  },
  {
   "cell_type": "code",
   "execution_count": 19,
   "metadata": {
    "collapsed": false
   },
   "outputs": [
    {
     "name": "stdout",
     "output_type": "stream",
     "text": [
      "number of genes at alpha 0.5 is 803\n",
      "the 2 genes around the boundary have significance 0.499681381299 0.502117215837\n",
      "the first 5 genes are\n"
     ]
    },
    {
     "data": {
      "text/plain": [
       "[(0.20767253459146329, '3139557'),\n",
       " (0.25361044891295487, '2968452'),\n",
       " (0.4670672574672507, '2358393'),\n",
       " (0.54626219382433827, '2620894'),\n",
       " (0.6875488140324012, '2968373')]"
      ]
     },
     "execution_count": 19,
     "metadata": {},
     "output_type": "execute_result"
    }
   ],
   "source": [
    "alpha = 0.50\n",
    "sigGenes = genesForAlpha(sortedGenes, alpha)\n",
    "noSigGenes = len(sigGenes)\n",
    "print(\"number of genes at alpha\", alpha, \"is\", noSigGenes)\n",
    "print(\"the 2 genes around the boundary have significance\", sortedGenes[noSigGenes - 1][0], sortedGenes[noSigGenes][0])\n",
    "print(\"the first 5 genes are\")\n",
    "sigGenes[:5]"
   ]
  },
  {
   "cell_type": "markdown",
   "metadata": {},
   "source": [
    "This is strange. Such a sudden raise in detected genes is quite surprising (2 genes vs 803, FDR of 40% vs FDR of 50%). I hope that reviewing the proof of Benjamini-Hochberg for my literature review is going to help me understand why this is allowed to happen (Unless this is a bug in my program, probability is playing around with my intuition)."
   ]
  },
  {
   "cell_type": "markdown",
   "metadata": {},
   "source": [
    "# Disease Specific Effects\n",
    "\n",
    "## Let us partition the genes at FDR of 50% into 2 groups randomly. Let us compute the DSE of one group, apply it to the other group and check if it helps improve significance.\n"
   ]
  },
  {
   "cell_type": "code",
   "execution_count": 20,
   "metadata": {
    "collapsed": false
   },
   "outputs": [],
   "source": [
    "# first, partition genes into random groups\n",
    "import random\n",
    "random.shuffle(sigGenes)\n",
    "genesA = sigGenes[:noSigGenes//2]\n",
    "genesB = sigGenes[noSigGenes//2:]"
   ]
  },
  {
   "cell_type": "code",
   "execution_count": 21,
   "metadata": {
    "collapsed": false
   },
   "outputs": [],
   "source": [
    "# unit test our map\n",
    "test1 = CLEANED[MAP_T_CLUSTER_INDEX[\"2315554\"]][0]\n",
    "test2 = 7.54562452199732\n",
    "assert(abs(test1 - test2) <= pow(10, -10))\n",
    "\n",
    "# compute Disease Specific effects\n",
    "\n",
    "def computeDSE(CLEANED, RESIDUALS, genesA, genesB):\n",
    "    DSE = [0] * CLEANED.shape[1]\n",
    "    relevantGenesAIndex = [MAP_T_CLUSTER_INDEX[t_cluster_id] for _, t_cluster_id in genesA]\n",
    "    relevantGenesBIndex = [MAP_T_CLUSTER_INDEX[t_cluster_id] for _, t_cluster_id in genesB]\n",
    "\n",
    "    for i in range(CLEANED.shape[1]):\n",
    "        relevantResiduals = [RESIDUALS[j,i] for j in relevantGenesAIndex]\n",
    "        DSE[i] = sum(relevantResiduals)/len(relevantResiduals)\n",
    "\n",
    "    # copy CLEANED into another array\n",
    "    DSE_ADJUSTED = np.copy(CLEANED)\n",
    "\n",
    "    # adjust genes in set B with DSEs computed from genes in set A\n",
    "    for i in relevantGenesBIndex:\n",
    "        for j in range(CLEANED.shape[1]):\n",
    "            DSE_ADJUSTED[i][j] -= DSE[j]\n",
    "    return DSE_ADJUSTED, relevantGenesBIndex\n",
    "\n",
    "DSE_ADJUSTED, relevantGenesBIndex = computeDSE(CLEANED, RESIDUALS, genesA, genesB)"
   ]
  },
  {
   "cell_type": "markdown",
   "metadata": {},
   "source": [
    "## Now, let's repeat the numpy analysis using `DSE_ADJUSTED`"
   ]
  },
  {
   "cell_type": "code",
   "execution_count": 22,
   "metadata": {
    "collapsed": false
   },
   "outputs": [],
   "source": [
    "CLEANED_B, RESIDUALS_B, RESIDUALS_PVALUES_B, MODAL_ALLELE_B, ISEs_B, GENE_PVALUES_B = numpyAnalysis(DSE_ADJUSTED)"
   ]
  },
  {
   "cell_type": "markdown",
   "metadata": {},
   "source": [
    "## Now, let's count in how many cases the p-values have improved"
   ]
  },
  {
   "cell_type": "code",
   "execution_count": 23,
   "metadata": {
    "collapsed": false
   },
   "outputs": [
    {
     "name": "stdout",
     "output_type": "stream",
     "text": [
      "P-values have improved in 0.5049751243781094 fraction of cases\n",
      "P-values have worsened in 0.49502487562189057 fraction of cases\n"
     ]
    }
   ],
   "source": [
    "#print(relevantGenesBIndex)\n",
    "\n",
    "def fractionImprovedPValues(GENE_PVALUES, GENE_PVALUES_B, relevantGenesBIndex):\n",
    "    previousPValues = [GENE_PVALUES[i] for i in relevantGenesBIndex]\n",
    "    currentPValues = [GENE_PVALUES_B[i] for i in relevantGenesBIndex]\n",
    "    countSmaller = 0\n",
    "    for i, _ in enumerate(relevantGenesBIndex):\n",
    "        if (currentPValues[i] < previousPValues[i]):\n",
    "            countSmaller += 1\n",
    "    return countSmaller/len(currentPValues)\n",
    "\n",
    "fractionImproved = fractionImprovedPValues(GENE_PVALUES, GENE_PVALUES_B, relevantGenesBIndex)\n",
    "\n",
    "print(\"P-values have improved in\", fractionImproved, \"fraction of cases\")\n",
    "print(\"P-values have worsened in\", 1 - fractionImproved, \"fraction of cases\")"
   ]
  },
  {
   "cell_type": "markdown",
   "metadata": {},
   "source": [
    "The values printed in the previous cells are random and determined by a particular random seed, but from running it a couple of times I've seen both fractions to be rather similar."
   ]
  },
  {
   "cell_type": "markdown",
   "metadata": {
    "collapsed": true
   },
   "source": [
    "# Progress Report 08/12/2016\n",
    "\n",
    "## Biopython\n",
    "\n",
    "I have written a parser, which allows one to access raw probe data from the Affymetrix CEL files version 4 (which is what we're working with). My work gained interest of a large open-source bioinformatics package called Biopython. I discussed contributing this parser to Biopython with the maintainer of this package, Peter Cock.\n",
    "\n",
    "After very scrupulous code review, writing a lot of unit testing, clearing out all of Peter's doubts about the code, and fixing multiple issues in the code, primarly to do with error handling, my contribution has been accepted into the project, and will be available as of the next release (whenever that happens). This is the link to the contribution:\n",
    "\n",
    "https://github.com/biopython/biopython/commit/6c14a26dda32ad6d3147036a01f3d0c4d306c647\n",
    "\n",
    "And the dicussion, which I and Peter Cock had about it:\n",
    "\n",
    "issue tracker:\n",
    "\n",
    "https://github.com/biopython/biopython/issues/1008\n",
    "\n",
    "pull request:\n",
    "\n",
    "https://github.com/biopython/biopython/pull/1011\n",
    "\n",
    "There are a number benefits to this contribution of both political and scientific value.\n",
    "\n",
    "Political:\n",
    "\n",
    "- If we discover any new interesting pipeline we will find it much easier to distribute it as part of biopython (as opposed to distributing it ourselves).\n",
    "- We're doing a good service to the community.\n",
    "\n",
    "Scientific:\n",
    "\n",
    "1. We can now easily detect/fix some of the issue with our data:\n",
    "\n",
    " - Aren't all of our probes oversaturated/ undersaturated?\n",
    " - How do we know if a probe is broken (or there is a scratch on the microarray)?\n",
    " - RMA doesn't normalise means, can we write our own better-RMA?\n",
    "\n",
    "2. We get an extra pair of eyeballs on the code, which should make it less buggy.\n",
    "\n",
    "What the parser gives us is ~5.5 million of triplets of\n",
    "the form:\n",
    "\n",
    "(double, double, integer)\n",
    "\n",
    "The last number is the number of pixels per probe from which an\n",
    "intensity measurement was taken. This is always 9.\n",
    "\n",
    "The first number is the average intensity of these pixels.\n",
    "\n",
    "The middle number is the standard deviation.\n",
    "\n",
    "The following are the first few triplets:\n",
    "\n",
    "    (7326.0, 875.0999755859375,  9)\n",
    "    (162.0,  34.099998474121094, 9)\n",
    "    (6933.0, 1001.0,             9)\n",
    "    (224.0,  36.400001525878906, 9)\n",
    "    (54.0,   6.0,                9)\n",
    "    (247.0,  23.5,               9)\n",
    "    (210.0,  18.299999237060547, 9)\n",
    "\n",
    "## Literature Review\n",
    "\n",
    "I've started writing the literature review (the deadline is 16th of January). That's also attached. \n",
    "\n",
    "## Comparing my list of genes with John's.\n",
    "\n",
    "There are 3 approaches to this analysis:\n",
    "\n",
    "Mine:\n",
    "1. Use RMA + standard linear regression (Adam1)\n",
    "2. Use RMA + Limma (Adam2)\n",
    "\n",
    "John's:\n",
    "1. Use DChip + Limma (John1)\n",
    "\n",
    "I make a pair-wise comparison of them looking at top 10 results:\n",
    "1. (Adam1 vs John1)\n",
    "2. (Adam1 vs Adam2)\n",
    "3. (Adam2 vs John1)\n",
    "\n",
    "## Wilf's results\n",
    "\n",
    "I've re-read Wilf's report and tried to compare his analysis to mine, and which bits are missing.\n",
    "\n",
    "As Darren pointed out, Wilf considered a few measures of DSEs, in both blood and muscle:\n",
    "\n",
    "- Bl-GSE -- Genome-Wide Specific effect.\n",
    "- Bl-DSE-100 -- Disease Specific effect for the top 100 genes.\n",
    "- Bl-DSE-800 -- Disease Specific effect for the top 800 genes.\n",
    "- Bl-DSE-101-800 -- Disease Specific effect for the top 800 genes excluding top 100 genes.\n",
    "- Bl-GSE-DSE-800 -- I don't get that one. maybe average of the two?\n",
    "\n",
    "For muscle, replace \"Bl\" with \"M\".\n",
    "\n",
    "He then produced a graph like this:\n",
    "\n",
    "![Wilf DSEs](WilfISEs.jpg)\n",
    "\n",
    "I'm trying to reproduce this result using my approach."
   ]
  },
  {
   "cell_type": "markdown",
   "metadata": {},
   "source": [
    "# Comparing my list of genes with John's."
   ]
  },
  {
   "cell_type": "markdown",
   "metadata": {
    "collapsed": true
   },
   "source": [
    "## (Adam1, John1)"
   ]
  },
  {
   "cell_type": "code",
   "execution_count": 24,
   "metadata": {
    "collapsed": false,
    "scrolled": true
   },
   "outputs": [
    {
     "data": {
      "text/plain": [
       "[(0.20767253459146329, '3139557'),\n",
       " (0.25361044891295487, '2968452'),\n",
       " (0.4670672574672507, '2358393'),\n",
       " (0.54626219382433827, '2620894'),\n",
       " (0.6875488140324012, '2968373'),\n",
       " (0.62769767801537857, '2383894'),\n",
       " (0.57010122263290253, '2411799'),\n",
       " (0.68013891197448162, '2677624'),\n",
       " (0.66214293943853408, '3470372'),\n",
       " (0.62056857803421772, '3966000')]"
      ]
     },
     "execution_count": 24,
     "metadata": {},
     "output_type": "execute_result"
    }
   ],
   "source": [
    "# The following genes are the 10 most significant genes in blood I have identified using regular regression:\n",
    "sortedGenes[:10]"
   ]
  },
  {
   "cell_type": "code",
   "execution_count": 25,
   "metadata": {
    "collapsed": false,
    "scrolled": false
   },
   "outputs": [
    {
     "data": {
      "text/plain": [
       "[('1559735_at', 0.0549157815120137),\n",
       " ('239362_at', 0.0629671616442373),\n",
       " ('234406_at', 0.222582913167388),\n",
       " ('216018_at', 0.222582913167388),\n",
       " ('212826_s_at', 0.231350259419169),\n",
       " ('226071_at', 0.231350259419169),\n",
       " ('216256_at', 0.231350259419169),\n",
       " ('216255_s_at', 0.231350259419169),\n",
       " ('212876_at', 0.231350259419169),\n",
       " ('218706_s_at', 0.231350259419169)]"
      ]
     },
     "execution_count": 25,
     "metadata": {},
     "output_type": "execute_result"
    }
   ],
   "source": [
    "# Let us load in the genes, which John identified as significant in his\n",
    "# analysis using Limma.\n",
    "def loadLimma(filename):\n",
    "    JohnsGenes = []\n",
    "    with open(filename) as f:\n",
    "        lines = f.readlines()\n",
    "        for lineI, line in enumerate(lines):\n",
    "            line = line.rstrip().split(\" \")\n",
    "            line = [i.strip('\"') for i in line]\n",
    "            if lineI == 0:\n",
    "                if \"ID\" not in line:\n",
    "                    line = [\"ID\"] + line\n",
    "                IDIndex = line.index(\"ID\")\n",
    "                PValue = line.index(\"adj.P.Val\")\n",
    "            else:\n",
    "                gene = (line[IDIndex], float(line[PValue]))\n",
    "                JohnsGenes.append(gene)\n",
    "    return JohnsGenes\n",
    "\n",
    "def loadLimmaPValue(filename):\n",
    "    JohnsGenes = []\n",
    "    with open(filename) as f:\n",
    "        lines = f.readlines()\n",
    "        for lineI, line in enumerate(lines):\n",
    "            line = line.rstrip().split(\" \")\n",
    "            line = [i.strip('\"') for i in line]\n",
    "            if lineI == 0:\n",
    "                if \"ID\" not in line:\n",
    "                    line = [\"ID\"] + line\n",
    "                IDIndex = line.index(\"ID\")\n",
    "                PValue = line.index(\"P.Value\")\n",
    "            else:\n",
    "                gene = (line[IDIndex], float(line[PValue]))\n",
    "                JohnsGenes.append(gene)\n",
    "    return JohnsGenes\n",
    "\n",
    "# Interestingly, Limma reports John's genes to be more significant than mine\n",
    "# (although arguably the comparison isn't apples-to-apples, because John is\n",
    "# choosing his genes from ~40k as opposed to from ~20k, so values should be\n",
    "# adjusted using a different, ~2 times larger constant).\n",
    "JohnsGenes = loadLimma(\"JohnsGenes.csv\")\n",
    "JohnsGenes"
   ]
  },
  {
   "cell_type": "markdown",
   "metadata": {},
   "source": [
    "### Let us load into memory a (1:many) mapping from u133 IDs to HuEx transcription cluster IDs (I took the file from Ralf Krahe)."
   ]
  },
  {
   "cell_type": "code",
   "execution_count": 26,
   "metadata": {
    "collapsed": false
   },
   "outputs": [],
   "source": [
    "with open(CEL_MAPPING) as f:\n",
    "    result = 10\n",
    "    lines = f.readlines()\n",
    "    u133Map = {}\n",
    "    for line in lines:\n",
    "        line = line.strip().split(\"\\t\")\n",
    "        u133Map[line[0]] = line[1].split()"
   ]
  },
  {
   "cell_type": "code",
   "execution_count": 27,
   "metadata": {
    "collapsed": false
   },
   "outputs": [],
   "source": [
    "# Check to how many HuEx IDs John's IDs actually map\n",
    "\n",
    "from itertools import chain\n",
    "\n",
    "JohnsGenesIDs = [geneTuple[0] for geneTuple in JohnsGenes]\n",
    "\n",
    "#for geneID in JohnsGenesIDs:\n",
    "#    print(geneID)\n",
    "\n",
    "unflattenedIDs = [u133Map[geneID] for geneID in JohnsGenesIDs]\n",
    "IDs = chain.from_iterable(unflattenedIDs)\n",
    "IDs = [i for i in IDs]"
   ]
  },
  {
   "cell_type": "code",
   "execution_count": 28,
   "metadata": {
    "collapsed": false
   },
   "outputs": [
    {
     "name": "stdout",
     "output_type": "stream",
     "text": [
      "This is how many John's IDs we have:\n",
      "10\n",
      "This is how many HuEx IDs we get from John's IDs:\n",
      "55\n"
     ]
    }
   ],
   "source": [
    "print(\"This is how many John's IDs we have:\")\n",
    "print(len(JohnsGenesIDs))\n",
    "print(\"This is how many HuEx IDs we get from John's IDs:\")\n",
    "print(len(IDs))"
   ]
  },
  {
   "cell_type": "markdown",
   "metadata": {},
   "source": [
    "### As can be seen in the previous cell, we have 55 HuEx IDs from 10 U133 IDs."
   ]
  },
  {
   "cell_type": "code",
   "execution_count": 29,
   "metadata": {
    "collapsed": false
   },
   "outputs": [
    {
     "name": "stdout",
     "output_type": "stream",
     "text": [
      "{'2383894', '3470372', '2968452', '2968373', '2677624', '3139557', '2358393', '2620894', '3966000', '2411799'}\n",
      "{'763493', '45027', '864057', '290659', '1342298', '833732', '46287', '125039', '378441', '963886', '486626', '529255', '651452', '73419', '954374', '28334', '782227', '36953', '867868', '677792', '580511', '1206820', '910072', '915881', '894974', '1402282', '1261220', '418215', '1063265', '698420', '185872', '649736', '343953', '534354', '445811', '435375', '157605', '1328643', '1167340', '81537', '1141866', '1280817', '1018667', '69873', '1154697', '530482', '387321', '1244871', '337539', '619391', '873115', '292318', '213075'}\n"
     ]
    }
   ],
   "source": [
    "myGenes = set(i[1] for i in sortedGenes[:10])\n",
    "johnsGenes = set(IDs)\n",
    "print(myGenes)\n",
    "print(johnsGenes)\n",
    "\n",
    "# unit test semantics\n",
    "setA = set([\"123\"])\n",
    "setB = set([\"234\", \"123\"])\n",
    "assert([i for i in setA.intersection(setB)][0] == \"123\")"
   ]
  },
  {
   "cell_type": "code",
   "execution_count": 30,
   "metadata": {
    "collapsed": false
   },
   "outputs": [
    {
     "data": {
      "text/plain": [
       "set()"
      ]
     },
     "execution_count": 30,
     "metadata": {},
     "output_type": "execute_result"
    }
   ],
   "source": [
    "myGenes.intersection(johnsGenes)"
   ]
  },
  {
   "cell_type": "markdown",
   "metadata": {},
   "source": [
    "### Unfortunately, my analysis and John's analysis entirely disagree on the top 10 genes (transcription clusters).\n",
    "\n",
    "There are various possibilities as to why that is:\n",
    "1. We normalised in a different way.\n",
    "2. The mapping from U133 probesets to HuEx transcription clusters is inaccurate.\n",
    "2. Limma is significantly different from standard linear regression. We can check that by keeping normalisation the same and changing the linear model, i.e. (Adam1, Adam2)."
   ]
  },
  {
   "cell_type": "markdown",
   "metadata": {},
   "source": [
    "## (Adam1, Adam2)"
   ]
  },
  {
   "cell_type": "code",
   "execution_count": 31,
   "metadata": {
    "collapsed": true
   },
   "outputs": [],
   "source": [
    "# let us first run Limma on RMA-normalised `cleaned`.\n",
    "utils.executeNotebook(\"analyseLimma.ipynb\", \".\")"
   ]
  },
  {
   "cell_type": "code",
   "execution_count": 32,
   "metadata": {
    "collapsed": false
   },
   "outputs": [],
   "source": [
    "Adam2Genes = loadLimma(\"cleanedLimma\")\n",
    "Adam2GenesPValue = loadLimmaPValue(\"cleanedLimma\")"
   ]
  },
  {
   "cell_type": "code",
   "execution_count": 33,
   "metadata": {
    "collapsed": false
   },
   "outputs": [
    {
     "name": "stdout",
     "output_type": "stream",
     "text": [
      "The most significant 10 genes\n",
      "[('X3139557', 0.106701847574654), ('X2968452', 0.106701847574654), ('X2358393', 0.417830124115676), ('X2383894', 0.418094858060729), ('X2968373', 0.418094858060729), ('X3470372', 0.418094858060729), ('X2620894', 0.418094858060729), ('X2677624', 0.418094858060729), ('X2968387', 0.418094858060729), ('X2905404', 0.418094858060729)]\n",
      "[('1559735_at', 0.0549157815120137), ('239362_at', 0.0629671616442373), ('234406_at', 0.222582913167388), ('216018_at', 0.222582913167388), ('212826_s_at', 0.231350259419169), ('226071_at', 0.231350259419169), ('216256_at', 0.231350259419169), ('216255_s_at', 0.231350259419169), ('212876_at', 0.231350259419169), ('218706_s_at', 0.231350259419169)]\n"
     ]
    },
    {
     "data": {
      "text/plain": [
       "[1.9430088152585294,\n",
       " 1.694563400801142,\n",
       " 1.8771886762100967,\n",
       " 1.8783780484816957,\n",
       " 1.8071942478491418,\n",
       " 1.8071942478491418,\n",
       " 1.8071942478491418,\n",
       " 1.8071942478491418,\n",
       " 1.8071942478491418,\n",
       " 1.8071942478491418]"
      ]
     },
     "execution_count": 33,
     "metadata": {},
     "output_type": "execute_result"
    }
   ],
   "source": [
    "print(\"The most significant 10 genes\")\n",
    "print(Adam2Genes[:10])\n",
    "print(JohnsGenes[:10])\n",
    "[adam[1]/john[1] for adam, john in zip(Adam2Genes[:10], JohnsGenes[:10])]"
   ]
  },
  {
   "cell_type": "code",
   "execution_count": 34,
   "metadata": {
    "collapsed": false
   },
   "outputs": [
    {
     "name": "stdout",
     "output_type": "stream",
     "text": [
      "The least significant 10 genes\n"
     ]
    },
    {
     "data": {
      "text/plain": [
       "[('X3225398', 0.999891055401644),\n",
       " ('X2777412', 0.999891055401644),\n",
       " ('X4019849', 0.999891055401644),\n",
       " ('X3825154', 0.999891055401644),\n",
       " ('X2639054', 0.999891055401644),\n",
       " ('X3980903', 0.999891055401644),\n",
       " ('X3167684', 0.999915006828432),\n",
       " ('X3456081', 0.99995681345024),\n",
       " ('X3453506', 0.99995681345024),\n",
       " ('X3740646', 0.99995681345024)]"
      ]
     },
     "execution_count": 34,
     "metadata": {},
     "output_type": "execute_result"
    }
   ],
   "source": [
    "print(\"The least significant 10 genes\")\n",
    "Adam2Genes[-10:]"
   ]
  },
  {
   "cell_type": "markdown",
   "metadata": {},
   "source": [
    "### This is as expected.\n",
    "\n",
    "On a separate note, the author of limma, Gordon Smyth, argues that p-values are not suitable measure of significance in genomic analysis. He prefers \"fold changes\", but I haven't yet understood his argumentation:\n",
    "http://www.slideshare.net/AustralianBioinformatics/the-value-of-p-values-gordon-smyth"
   ]
  },
  {
   "cell_type": "code",
   "execution_count": 35,
   "metadata": {
    "collapsed": true
   },
   "outputs": [],
   "source": [
    "# Let us now check how many of these genes actually agree.\n",
    "\n",
    "removeX = [geneID[1:] for geneID, pValue in Adam2Genes[:10]]"
   ]
  },
  {
   "cell_type": "code",
   "execution_count": 36,
   "metadata": {
    "collapsed": false
   },
   "outputs": [
    {
     "data": {
      "text/plain": [
       "8"
      ]
     },
     "execution_count": 36,
     "metadata": {},
     "output_type": "execute_result"
    }
   ],
   "source": [
    "myGenes2 = set(removeX)\n",
    "len(myGenes2.intersection(myGenes))"
   ]
  },
  {
   "cell_type": "markdown",
   "metadata": {},
   "source": [
    "### As expected, we see 8/10 genes in common."
   ]
  },
  {
   "cell_type": "markdown",
   "metadata": {},
   "source": [
    "## Finally, we can compute (Adam2, John1)"
   ]
  },
  {
   "cell_type": "code",
   "execution_count": 37,
   "metadata": {
    "collapsed": false
   },
   "outputs": [
    {
     "name": "stdout",
     "output_type": "stream",
     "text": [
      "{'2383894', '3470372', '2968452', '2968373', '2677624', '3139557', '2358393', '2620894', '2968387', '2905404'}\n"
     ]
    }
   ],
   "source": [
    "print(myGenes2)"
   ]
  },
  {
   "cell_type": "code",
   "execution_count": 38,
   "metadata": {
    "collapsed": false
   },
   "outputs": [
    {
     "name": "stdout",
     "output_type": "stream",
     "text": [
      "{'763493', '45027', '864057', '290659', '1342298', '833732', '46287', '125039', '378441', '963886', '486626', '529255', '651452', '73419', '954374', '28334', '782227', '36953', '867868', '677792', '580511', '1206820', '910072', '915881', '894974', '1402282', '1261220', '418215', '1063265', '698420', '185872', '649736', '343953', '534354', '445811', '435375', '157605', '1328643', '1167340', '81537', '1141866', '1280817', '1018667', '69873', '1154697', '530482', '387321', '1244871', '337539', '619391', '873115', '292318', '213075'}\n"
     ]
    }
   ],
   "source": [
    "print(johnsGenes)"
   ]
  },
  {
   "cell_type": "code",
   "execution_count": 39,
   "metadata": {
    "collapsed": false
   },
   "outputs": [
    {
     "data": {
      "text/plain": [
       "set()"
      ]
     },
     "execution_count": 39,
     "metadata": {},
     "output_type": "execute_result"
    }
   ],
   "source": [
    "myGenes2.intersection(johnsGenes)"
   ]
  },
  {
   "cell_type": "markdown",
   "metadata": {},
   "source": [
    "## To sum up, pair-wise intersection of the sets of top 10 genes in the analyses, is of the following sizes:\n",
    "- (Adam1, John1) - 0 \n",
    "- (Adam1, Adam2) - 8\n",
    "- (Adam2, John1) - 0\n",
    "\n",
    "Where:\n",
    "- Adam1 is RMA + linear regression\n",
    "- Adam2 is RMA + limma\n",
    "- John is DChip + limma"
   ]
  },
  {
   "cell_type": "markdown",
   "metadata": {},
   "source": [
    "# Reproducing Wilf's results"
   ]
  },
  {
   "cell_type": "code",
   "execution_count": 40,
   "metadata": {
    "collapsed": false
   },
   "outputs": [],
   "source": [
    "# We need to compute the following results\n",
    "\n",
    "# Bl_GSE\n",
    "# Bl_DSE_100\n",
    "# Bl_DSE_800\n",
    "# Bl_DSE_101_800\n",
    "\n",
    "import random\n",
    "random.shuffle(sigGenes)\n",
    "allGenes = [gene for pValue, gene in sortedGenes]\n",
    "\n",
    "top100Genes = allGenes[:100]\n",
    "top800Genes = allGenes[:800]\n",
    "top101to800Genes = allGenes[100:800]\n",
    "\n",
    "test1 = CLEANED[MAP_T_CLUSTER_INDEX[\"2315554\"]][0]\n",
    "test2 = 7.54562452199732\n",
    "assert(abs(test1 - test2) <= pow(10, -10))\n",
    "\n",
    "def dataForWilfsGraph(DSEGenes):\n",
    "    \n",
    "    # compute Disease Specific effects\n",
    "    DSE = [0] * CLEANED.shape[1]\n",
    "    relevantGenes = [MAP_T_CLUSTER_INDEX[t_cluster_id] for t_cluster_id in DSEGenes]\n",
    "    otherGenes = [MAP_T_CLUSTER_INDEX[t_cluster_id] for t_cluster_id in allGenes]\n",
    "    \n",
    "    for i in range(CLEANED.shape[1]):\n",
    "        relevantResiduals = [RESIDUALS[j,i] for j in relevantGenes]\n",
    "        DSE[i] = sum(relevantResiduals) / len(relevantResiduals)\n",
    "    \n",
    "    # copy CLEANED into another array\n",
    "    DSE_ADJUSTED = np.copy(CLEANED)\n",
    "    \n",
    "    # adjust *all* genes\n",
    "    for i in otherGenes:\n",
    "        for j in range(CLEANED.shape[1]):\n",
    "            DSE_ADJUSTED[i][j] -= DSE[j]\n",
    "    \n",
    "    # now, let's repeat the previous analysis\n",
    "    CLEANED_B, RESIDUALS_B, RESIDUALS_PVALUES_B, MODAL_ALLELE_B, ISEs_B, GENE_PVALUES_B = numpyAnalysis(DSE_ADJUSTED)\n",
    "    return sorted(GENE_PVALUES_B)\n",
    "\n",
    "#judge = [0.2, 0.3,  0.5,  0.6, 0.65, 0.68]\n",
    "#victim = [0.1, 0.15, 0.25, 0.5, 0.55, 0.7]\n",
    "\n",
    "def nplot(judgeStream, victimStream):\n",
    "    judgeIter = 0\n",
    "    victimIter = 0\n",
    "    \n",
    "    assert(len(judgeStream) == len(victimStream))\n",
    "    \n",
    "    end = len(judgeStream)\n",
    "    nextJudge  = judgeStream[judgeIter]\n",
    "    nextVictim = victimStream[victimIter]\n",
    "    \n",
    "    output = []\n",
    "    while True:\n",
    "        currentJudge = nextJudge\n",
    "        currentVictim = nextVictim\n",
    "        if currentVictim <= currentJudge:\n",
    "            victimIter += 1\n",
    "        else:\n",
    "            output.append(victimIter)\n",
    "            judgeIter += 1\n",
    "        try:\n",
    "            nextJudge = judgeStream[judgeIter]\n",
    "            nextVictim = victimStream[victimIter]\n",
    "        except IndexError:\n",
    "            break\n",
    "    return output\n",
    "\n",
    "sortedPValues = sorted(GENE_PVALUES)\n",
    "def showResult(genesForDSE):\n",
    "    return nplot(sortedPValues, dataForWilfsGraph(genesForDSE))"
   ]
  },
  {
   "cell_type": "code",
   "execution_count": 41,
   "metadata": {
    "collapsed": false
   },
   "outputs": [],
   "source": [
    "Bl_DSE_100 = showResult(top100Genes)"
   ]
  },
  {
   "cell_type": "code",
   "execution_count": 42,
   "metadata": {
    "collapsed": true
   },
   "outputs": [],
   "source": [
    "Bl_DSE_800 = showResult(top800Genes)"
   ]
  },
  {
   "cell_type": "code",
   "execution_count": 43,
   "metadata": {
    "collapsed": true
   },
   "outputs": [],
   "source": [
    "Bl_DSE_101_800 = showResult(top101to800Genes)"
   ]
  },
  {
   "cell_type": "code",
   "execution_count": 44,
   "metadata": {
    "collapsed": false
   },
   "outputs": [],
   "source": [
    "NEW_PVALUES = dataForWilfsGraph(top100Genes)"
   ]
  },
  {
   "cell_type": "markdown",
   "metadata": {},
   "source": [
    "## Finally, we can simulate Wilf's plots -- we zoom into the region of 25000, 100 and 100 genes."
   ]
  },
  {
   "cell_type": "code",
   "execution_count": 45,
   "metadata": {
    "collapsed": false
   },
   "outputs": [],
   "source": [
    "%matplotlib inline\n",
    "plt.rcParams['figure.figsize'] = (12, 8)\n",
    "\n",
    "def makeWilfsPlot(ran):\n",
    "    plt.plot(Bl_DSE_100, label=\"Bl_DSE_100\")\n",
    "    plt.plot(Bl_DSE_800, label=\"Bl_DSE_800\")\n",
    "    plt.plot(Bl_DSE_101_800, label=\"Bl_DSE_101_800\")\n",
    "    plt.plot(range(len(Bl_DSE_100)), label=\"unchanged\")\n",
    "    plt.legend(bbox_to_anchor=(1.05, 1), loc=2, borderaxespad=0)\n",
    "    plt.xlim(0, ran)\n",
    "    plt.ylim(0, ran)\n",
    "    plt.show()\n"
   ]
  },
  {
   "cell_type": "markdown",
   "metadata": {},
   "source": [
    "## First, let's have a look at a whole"
   ]
  },
  {
   "cell_type": "code",
   "execution_count": 46,
   "metadata": {
    "collapsed": false
   },
   "outputs": [
    {
     "data": {
      "image/png": "[encoded data removed]",
      "text/plain": [
       "<matplotlib.figure.Figure at 0x7fb29c1d15c0>"
      ]
     },
     "metadata": {},
     "output_type": "display_data"
    }
   ],
   "source": [
    "makeWilfsPlot(25000)"
   ]
  },
  {
   "cell_type": "markdown",
   "metadata": {},
   "source": [
    "## Then, let's zoom in really close"
   ]
  },
  {
   "cell_type": "code",
   "execution_count": 47,
   "metadata": {
    "collapsed": false
   },
   "outputs": [
    {
     "data": {
      "image/png": "[encoded data removed]",
      "text/plain": [
       "<matplotlib.figure.Figure at 0x7fb29cc562b0>"
      ]
     },
     "metadata": {},
     "output_type": "display_data"
    }
   ],
   "source": [
    "makeWilfsPlot(200)"
   ]
  },
  {
   "cell_type": "markdown",
   "metadata": {},
   "source": [
    "## Then, let's zoom in at the level Wilf zoomed in"
   ]
  },
  {
   "cell_type": "code",
   "execution_count": 48,
   "metadata": {
    "collapsed": false
   },
   "outputs": [
    {
     "data": {
      "image/png": "[encoded data removed]",
      "text/plain": [
       "<matplotlib.figure.Figure at 0x7fb29c1202b0>"
      ]
     },
     "metadata": {},
     "output_type": "display_data"
    }
   ],
   "source": [
    "makeWilfsPlot(3000)"
   ]
  },
  {
   "cell_type": "markdown",
   "metadata": {},
   "source": [
    "## For easy reference, here's Wilf's plot repeated:\n",
    "\n",
    "![Wilf DSEs](WilfISEs.jpg)"
   ]
  },
  {
   "cell_type": "markdown",
   "metadata": {},
   "source": [
    "# Progress Report 17/01/2017\n",
    "\n",
    "## Analysis in Limma is fixed\n",
    "\n",
    "Before the winter break, John and I have managed to fix the broken analysis in Limma. We are now getting comparable results using Limma and least-square linear regression.\n",
    "\n",
    "## Literature review\n",
    "\n",
    "After the winter break I've finished off the literature review, which I attach as a separate file.\n",
    "\n",
    "## Raw individual probe data of probes in probe sets\n",
    "\n",
    "I've now got 2 programs:\n",
    " - AlternativeSplicingMD, which can pull out individual probe data about a gene or a group of genes (e.g. Cardiac Troponin 2, TNNT2)\n",
    " - AlternativeSplicingMDVisualisation, which can plot that individual probe data against modal allele length.\n",
    "\n",
    "This enables the following manual process:\n",
    " 1. Identify list of interesting alternative splicing events from literature and write down the corresponding gene IDs (i.e. TNNT2).\n",
    " 2. Go to http://grch37.ensembl.org/ and set it up so that it shows data about our chip (HuEx_st2) and mRNA transcripts.\n",
    " 3. Identify interesting exon and a corresponding probeset.\n",
    " 4. Plot intensities of all probes against modal allele length.\n",
    " 5. Verify the sensibility of probe choices with the help of Blast (I and John had some problems with it, but I managed to sort them out).\n",
    "\n",
    "Going through this manual process, I've made a few realizations:\n",
    "\n",
    "1. Probe intesity data across probesets varies wildly. But it's very consistent across probes belonging to a single probest. \n",
    "2. The transcription clusters, which were reported to us by limma and LSR do not look at all significant at the probe level. What they do look like, is as if they belonged to a group of transcription clusters with very few probesets -> very few probes. This could be expected, because there is heuristic argument to be made, that transcription clusters with fewer probes are more likely to be found significant by random chance. It doesn't look like RMA + Limma or RMA + LSR take this into account.\n",
    "3. In Human Exon Array, the type of microarray we're working with, each probeset contains between 1 - 4 probes targeting a sliver of a transcription cluster. This sliver may correspond to an exon, but not all exons are covered. For example the fifth mini-exon of Cardiac Troponin 2, which is of interest in MD due to reported alternative splicing is not covered.\n",
    "\n",
    "I attach 2 notebooks as separate files:\n",
    "\n",
    "1. AlternativeSplicingMD.ipynb\n",
    "2. AlternativeSplicingMDVisualisation.ipynb\n",
    "\n",
    "But I think reading them is not going to be as valuable as seeing the demo of the manual process.\n",
    "\n",
    "## Checking if $DSE_{100}$ exists\n",
    "\n",
    "I take 200 most significant genes and compute $DSE_{100}$ for 100 random genes and apply it as a correction to the rest of the genes.\n"
   ]
  },
  {
   "cell_type": "markdown",
   "metadata": {},
   "source": [
    "# Comparing P-values between Limma (now fixed and working) and regular regression"
   ]
  },
  {
   "cell_type": "markdown",
   "metadata": {},
   "source": [
    "## False Discovery rates (adjusted p-values) in Limma (x-axis) vs linear regression (y-axis).\n",
    "\n",
    "Why is there a vertical line around 0.4?"
   ]
  },
  {
   "cell_type": "code",
   "execution_count": 49,
   "metadata": {
    "collapsed": false
   },
   "outputs": [
    {
     "data": {
      "text/plain": [
       "<matplotlib.text.Text at 0x7fb2978cb320>"
      ]
     },
     "execution_count": 49,
     "metadata": {},
     "output_type": "execute_result"
    },
    {
     "data": {
      "image/png": "[encoded data removed]",
      "text/plain": [
       "<matplotlib.figure.Figure at 0x7fb29c16dc50>"
      ]
     },
     "metadata": {},
     "output_type": "display_data"
    }
   ],
   "source": [
    "idsToPairs = {}\n",
    "\n",
    "for id, gene in Adam2Genes:\n",
    "    idsToPairs[id[1:]] = [gene]\n",
    "\n",
    "for gene, id in sortedGenes:\n",
    "    idsToPairs[id].append(gene)\n",
    "\n",
    "pValuesLimma = [pValues[0] for key, pValues in idsToPairs.items()]\n",
    "pValuesLSR = [pValues[1] for key, pValues in idsToPairs.items()]\n",
    "\n",
    "f = plt.figure()\n",
    "ax = f.add_subplot(111)\n",
    "plt.scatter(pValuesLimma, pValuesLSR)\n",
    "plt.plot([0,1], [0,1], 'r-')\n",
    "ax.set_xlabel(\"Limma\")\n",
    "ax.set_ylabel(\"Least Squares\")\n",
    "\n",
    "#sortedGenes[:10]"
   ]
  },
  {
   "cell_type": "markdown",
   "metadata": {},
   "source": [
    "## P-values (non-adjusted) in Limma (x-axis) vs linear regression (y-axis). Full range."
   ]
  },
  {
   "cell_type": "code",
   "execution_count": 50,
   "metadata": {
    "collapsed": false
   },
   "outputs": [
    {
     "data": {
      "text/plain": [
       "<matplotlib.text.Text at 0x7fb2978927f0>"
      ]
     },
     "execution_count": 50,
     "metadata": {},
     "output_type": "execute_result"
    },
    {
     "data": {
      "image/png": "[encoded data removed]",
      "text/plain": [
       "<matplotlib.figure.Figure at 0x7fb29c120fd0>"
      ]
     },
     "metadata": {},
     "output_type": "display_data"
    }
   ],
   "source": [
    "for id, gene in Adam2GenesPValue:\n",
    "    idsToPairs[id[1:]] = [gene]\n",
    "\n",
    "for gene, id in benjhoch:\n",
    "    idsToPairs[id].append(gene)\n",
    "\n",
    "idsToPairs\n",
    "\n",
    "unadjustedPValuesLimma = [pValues[0] for key, pValues in idsToPairs.items()]\n",
    "unadjustedPValuesLCS = [pValues[1] for key, pValues in idsToPairs.items()]\n",
    "\n",
    "f = plt.figure()\n",
    "ax = f.add_subplot(111)\n",
    "\n",
    "plt.scatter(unadjustedPValuesLimma, unadjustedPValuesLCS)\n",
    "plt.plot([0,1], [0,1], 'r-')\n",
    "\n",
    "ax.set_xlabel(\"Limma\")\n",
    "ax.set_ylabel(\"Least Squares\")\n",
    "\n",
    "#sortedGenes[:10]"
   ]
  },
  {
   "cell_type": "markdown",
   "metadata": {},
   "source": [
    "## P-values (non-adjusted) in Limma (x-axis) vs linear regression (y-axis). Zoom level at 0.01"
   ]
  },
  {
   "cell_type": "code",
   "execution_count": 51,
   "metadata": {
    "collapsed": false
   },
   "outputs": [
    {
     "data": {
      "text/plain": [
       "<matplotlib.text.Text at 0x7fb297846128>"
      ]
     },
     "execution_count": 51,
     "metadata": {},
     "output_type": "execute_result"
    },
    {
     "data": {
      "image/png": "[encoded data removed]",
      "text/plain": [
       "<matplotlib.figure.Figure at 0x7fb29c120518>"
      ]
     },
     "metadata": {},
     "output_type": "display_data"
    }
   ],
   "source": [
    "f = plt.figure()\n",
    "ax = f.add_subplot(111)\n",
    "\n",
    "plt.scatter(unadjustedPValuesLimma, unadjustedPValuesLCS)\n",
    "\n",
    "plt.plot([0,1], [0,1], 'ro-')\n",
    "plt.plot([0,1], [0,2], 'go-')\n",
    "limits = [0, 0.002]\n",
    "\n",
    "plt.xlim(limits)\n",
    "plt.ylim(limits)\n",
    "\n",
    "ax.set_xlabel(\"Limma\")\n",
    "ax.set_ylabel(\"Least Squares\")"
   ]
  },
  {
   "cell_type": "markdown",
   "metadata": {},
   "source": [
    "Red line is the identity. Green line grows 2 times faster than the identity (red line). Blue points between the red line and the green line have p-values up to 2x smaller with limma than with least square regression."
   ]
  },
  {
   "cell_type": "markdown",
   "metadata": {},
   "source": [
    "# Raw values of probes in probe sets"
   ]
  },
  {
   "cell_type": "markdown",
   "metadata": {},
   "source": [
    "# Checking if $DSE_{200}$ exists"
   ]
  },
  {
   "cell_type": "code",
   "execution_count": 202,
   "metadata": {
    "collapsed": false
   },
   "outputs": [
    {
     "data": {
      "text/plain": [
       "{'result': 'happy days', 'took': 1.430511474609375e-06}"
      ]
     },
     "execution_count": 202,
     "metadata": {},
     "output_type": "execute_result"
    }
   ],
   "source": [
    "EXPERIMENTS = \"cache\"\n",
    "import time, pickle\n",
    "from contextlib import *\n",
    "\n",
    "@contextmanager\n",
    "def errorOpener(filename, mode=\"r\"):\n",
    "    try:\n",
    "        f = open(filename, mode)\n",
    "    except FileNotFoundError as err:\n",
    "        yield None, err\n",
    "    else:\n",
    "        try:\n",
    "            yield f, None\n",
    "        finally:\n",
    "            f.close()\n",
    "\n",
    "def canonicalForm(function, kwargs):\n",
    "    kwargsToSort = list((a, b) for a, b in kwargs.items())\n",
    "    kwargsToSort.sort()\n",
    "    kwargsCanonical = \",\".join(str(a) + \":\" + str(b) for a, b in kwargsToSort)\n",
    "    return \"=\".join([function.__name__, kwargsCanonical])\n",
    "\n",
    "def exampleExperiment(name=\"Adam\", surname=\"Kurkiewicz\"):\n",
    "    return \"happy days\"\n",
    "\n",
    "def runExperiment(function, **kwargs):\n",
    "    took = 0\n",
    "    canonicalPath = canonicalForm(function, kwargs)\n",
    "    emptyResult = {\"result\" : None, \"took\" : 0}\n",
    "    if EXPERIMENTS == \"full\":\n",
    "        print(\"Running experiment\", function.__name__, \"with parameters: kwargs=\", kwargs, \". It may take some time. The result will be cached in\", canonicalPath)\n",
    "        start = time.time()\n",
    "        call_result = function(**kwargs)\n",
    "        stop = time.time()\n",
    "        took = stop - start\n",
    "        print(\"The experiment took\", took, \"seconds\")\n",
    "        result = {\"result\": call_result, \"took\": took}\n",
    "        with open(canonicalPath, \"wb\") as f:\n",
    "            print(result)\n",
    "            pickle.dump(result, f)\n",
    "        return result\n",
    "    elif EXPERIMENTS == \"cache\":\n",
    "        with errorOpener(canonicalPath, \"rb\") as (f, err):\n",
    "            if err:\n",
    "                print(FileNotFoundError(\"Can't find the experiment \" +  canonicalPath + \" consider passing EXPERIMENTS=\\\"full\\\"\"))\n",
    "                return emptyResult\n",
    "            else:\n",
    "                return pickle.load(f)\n",
    "    else:\n",
    "        print(\"In order to run this experiment, please pass either EXPERIMENTS=\\\"cache\\\" or EXPERIMENTS=\\\"full\\\" to the kernel, and rerun relevant cells.\")\n",
    "        return emptyResult\n",
    "\n",
    "runExperiment(exampleExperiment, name=\"Iva\", surname=\"Babukova\")"
   ]
  },
  {
   "cell_type": "code",
   "execution_count": 225,
   "metadata": {
    "collapsed": false
   },
   "outputs": [],
   "source": [
    "def DSE_check(noGenes = 200, numberOfAnalyses = 100, randomise=True):\n",
    "\n",
    "    improved = []\n",
    "\n",
    "    for i in range(numberOfAnalyses):\n",
    "        sigGenes = benjhoch[:noGenes]\n",
    "        if randomise:\n",
    "            random.shuffle(sigGenes)\n",
    "        genesA = sigGenes[:noGenes//2]\n",
    "        genesB = sigGenes[noGenes//2:]\n",
    "        DSE_ADJUSTED, relevantGenesBIndex = computeDSE(CLEANED, RESIDUALS, genesA, genesB)\n",
    "        CLEANED_B, RESIDUALS_B, RESIDUALS_PVALUES_B, MODAL_ALLELE_B, ISEs_B, GENE_PVALUES_B = numpyAnalysis(DSE_ADJUSTED)\n",
    "        fractionImproved = fractionImprovedPValues(GENE_PVALUES, GENE_PVALUES_B, relevantGenesBIndex)\n",
    "        improved.append(fractionImproved)\n",
    "    return improved"
   ]
  },
  {
   "cell_type": "code",
   "execution_count": 226,
   "metadata": {
    "collapsed": false
   },
   "outputs": [
    {
     "name": "stdout",
     "output_type": "stream",
     "text": [
      "Running experiment DSE_check with parameters: kwargs= {'noGenes': 200, 'numberOfAnalyses': 2} . It may take some time. The result will be cached in DSE_check=noGenes:200,numberOfAnalyses:2\n"
     ]
    },
    {
     "ename": "KeyboardInterrupt",
     "evalue": "",
     "output_type": "error",
     "traceback": [
      "\u001b[1;31m---------------------------------------------------------------------------\u001b[0m",
      "\u001b[1;31mKeyboardInterrupt\u001b[0m                         Traceback (most recent call last)",
      "\u001b[1;32m<ipython-input-226-dbfb7d8aba09>\u001b[0m in \u001b[0;36m<module>\u001b[1;34m()\u001b[0m\n\u001b[1;32m----> 1\u001b[1;33m \u001b[0mr\u001b[0m \u001b[1;33m=\u001b[0m \u001b[0mrunExperiment\u001b[0m\u001b[1;33m(\u001b[0m\u001b[0mDSE_check\u001b[0m\u001b[1;33m,\u001b[0m \u001b[0mnoGenes\u001b[0m\u001b[1;33m=\u001b[0m\u001b[1;36m200\u001b[0m\u001b[1;33m,\u001b[0m \u001b[0mnumberOfAnalyses\u001b[0m\u001b[1;33m=\u001b[0m\u001b[1;36m2\u001b[0m\u001b[1;33m)\u001b[0m\u001b[1;33m\u001b[0m\u001b[0m\n\u001b[0m\u001b[0;32m      2\u001b[0m \u001b[0mIMPROVED\u001b[0m \u001b[1;33m=\u001b[0m \u001b[0mr\u001b[0m\u001b[1;33m[\u001b[0m\u001b[1;34m'result'\u001b[0m\u001b[1;33m]\u001b[0m\u001b[1;33m\u001b[0m\u001b[0m\n\u001b[0;32m      3\u001b[0m \u001b[0mTOOK\u001b[0m \u001b[1;33m=\u001b[0m \u001b[0mr\u001b[0m\u001b[1;33m[\u001b[0m\u001b[1;34m'took'\u001b[0m\u001b[1;33m]\u001b[0m\u001b[1;33m\u001b[0m\u001b[0m\n",
      "\u001b[1;32m<ipython-input-202-741587f7873f>\u001b[0m in \u001b[0;36mrunExperiment\u001b[1;34m(function, **kwargs)\u001b[0m\n\u001b[0;32m     31\u001b[0m         \u001b[0mprint\u001b[0m\u001b[1;33m(\u001b[0m\u001b[1;34m\"Running experiment\"\u001b[0m\u001b[1;33m,\u001b[0m \u001b[0mfunction\u001b[0m\u001b[1;33m.\u001b[0m\u001b[0m__name__\u001b[0m\u001b[1;33m,\u001b[0m \u001b[1;34m\"with parameters: kwargs=\"\u001b[0m\u001b[1;33m,\u001b[0m \u001b[0mkwargs\u001b[0m\u001b[1;33m,\u001b[0m \u001b[1;34m\". It may take some time. The result will be cached in\"\u001b[0m\u001b[1;33m,\u001b[0m \u001b[0mcanonicalPath\u001b[0m\u001b[1;33m)\u001b[0m\u001b[1;33m\u001b[0m\u001b[0m\n\u001b[0;32m     32\u001b[0m         \u001b[0mstart\u001b[0m \u001b[1;33m=\u001b[0m \u001b[0mtime\u001b[0m\u001b[1;33m.\u001b[0m\u001b[0mtime\u001b[0m\u001b[1;33m(\u001b[0m\u001b[1;33m)\u001b[0m\u001b[1;33m\u001b[0m\u001b[0m\n\u001b[1;32m---> 33\u001b[1;33m         \u001b[0mcall_result\u001b[0m \u001b[1;33m=\u001b[0m \u001b[0mfunction\u001b[0m\u001b[1;33m(\u001b[0m\u001b[1;33m**\u001b[0m\u001b[0mkwargs\u001b[0m\u001b[1;33m)\u001b[0m\u001b[1;33m\u001b[0m\u001b[0m\n\u001b[0m\u001b[0;32m     34\u001b[0m         \u001b[0mstop\u001b[0m \u001b[1;33m=\u001b[0m \u001b[0mtime\u001b[0m\u001b[1;33m.\u001b[0m\u001b[0mtime\u001b[0m\u001b[1;33m(\u001b[0m\u001b[1;33m)\u001b[0m\u001b[1;33m\u001b[0m\u001b[0m\n\u001b[0;32m     35\u001b[0m         \u001b[0mtook\u001b[0m \u001b[1;33m=\u001b[0m \u001b[0mstop\u001b[0m \u001b[1;33m-\u001b[0m \u001b[0mstart\u001b[0m\u001b[1;33m\u001b[0m\u001b[0m\n",
      "\u001b[1;32m<ipython-input-225-d35af6c8e7b9>\u001b[0m in \u001b[0;36mDSE_check\u001b[1;34m(noGenes, numberOfAnalyses, randomise)\u001b[0m\n\u001b[0;32m     10\u001b[0m         \u001b[0mgenesB\u001b[0m \u001b[1;33m=\u001b[0m \u001b[0msigGenes\u001b[0m\u001b[1;33m[\u001b[0m\u001b[0mnoGenes\u001b[0m\u001b[1;33m//\u001b[0m\u001b[1;36m2\u001b[0m\u001b[1;33m:\u001b[0m\u001b[1;33m]\u001b[0m\u001b[1;33m\u001b[0m\u001b[0m\n\u001b[0;32m     11\u001b[0m         \u001b[0mDSE_ADJUSTED\u001b[0m\u001b[1;33m,\u001b[0m \u001b[0mrelevantGenesBIndex\u001b[0m \u001b[1;33m=\u001b[0m \u001b[0mcomputeDSE\u001b[0m\u001b[1;33m(\u001b[0m\u001b[0mCLEANED\u001b[0m\u001b[1;33m,\u001b[0m \u001b[0mRESIDUALS\u001b[0m\u001b[1;33m,\u001b[0m \u001b[0mgenesA\u001b[0m\u001b[1;33m,\u001b[0m \u001b[0mgenesB\u001b[0m\u001b[1;33m)\u001b[0m\u001b[1;33m\u001b[0m\u001b[0m\n\u001b[1;32m---> 12\u001b[1;33m         \u001b[0mCLEANED_B\u001b[0m\u001b[1;33m,\u001b[0m \u001b[0mRESIDUALS_B\u001b[0m\u001b[1;33m,\u001b[0m \u001b[0mRESIDUALS_PVALUES_B\u001b[0m\u001b[1;33m,\u001b[0m \u001b[0mMODAL_ALLELE_B\u001b[0m\u001b[1;33m,\u001b[0m \u001b[0mISEs_B\u001b[0m\u001b[1;33m,\u001b[0m \u001b[0mGENE_PVALUES_B\u001b[0m \u001b[1;33m=\u001b[0m \u001b[0mnumpyAnalysis\u001b[0m\u001b[1;33m(\u001b[0m\u001b[0mDSE_ADJUSTED\u001b[0m\u001b[1;33m)\u001b[0m\u001b[1;33m\u001b[0m\u001b[0m\n\u001b[0m\u001b[0;32m     13\u001b[0m         \u001b[0mfractionImproved\u001b[0m \u001b[1;33m=\u001b[0m \u001b[0mfractionImprovedPValues\u001b[0m\u001b[1;33m(\u001b[0m\u001b[0mGENE_PVALUES\u001b[0m\u001b[1;33m,\u001b[0m \u001b[0mGENE_PVALUES_B\u001b[0m\u001b[1;33m,\u001b[0m \u001b[0mrelevantGenesBIndex\u001b[0m\u001b[1;33m)\u001b[0m\u001b[1;33m\u001b[0m\u001b[0m\n\u001b[0;32m     14\u001b[0m         \u001b[0mimproved\u001b[0m\u001b[1;33m.\u001b[0m\u001b[0mappend\u001b[0m\u001b[1;33m(\u001b[0m\u001b[0mfractionImproved\u001b[0m\u001b[1;33m)\u001b[0m\u001b[1;33m\u001b[0m\u001b[0m\n",
      "\u001b[1;32m<ipython-input-6-03f0824cb025>\u001b[0m in \u001b[0;36mnumpyAnalysis\u001b[1;34m(CLEANED)\u001b[0m\n\u001b[0;32m     29\u001b[0m \u001b[1;33m\u001b[0m\u001b[0m\n\u001b[0;32m     30\u001b[0m     \u001b[1;32mfor\u001b[0m \u001b[0mi\u001b[0m \u001b[1;32min\u001b[0m \u001b[0mrange\u001b[0m\u001b[1;33m(\u001b[0m\u001b[0mrowNo\u001b[0m\u001b[1;33m)\u001b[0m\u001b[1;33m:\u001b[0m\u001b[1;33m\u001b[0m\u001b[0m\n\u001b[1;32m---> 31\u001b[1;33m         \u001b[0mslope\u001b[0m\u001b[1;33m,\u001b[0m \u001b[0mintercept\u001b[0m\u001b[1;33m,\u001b[0m \u001b[0mr_value\u001b[0m\u001b[1;33m,\u001b[0m \u001b[0mp_value\u001b[0m\u001b[1;33m,\u001b[0m \u001b[0m_\u001b[0m \u001b[1;33m=\u001b[0m \u001b[0mscipy\u001b[0m\u001b[1;33m.\u001b[0m\u001b[0mstats\u001b[0m\u001b[1;33m.\u001b[0m\u001b[0mlinregress\u001b[0m\u001b[1;33m(\u001b[0m\u001b[0mMODAL_ALLELE\u001b[0m\u001b[1;33m,\u001b[0m \u001b[0mlist\u001b[0m\u001b[1;33m(\u001b[0m\u001b[0mCLEANED\u001b[0m\u001b[1;33m[\u001b[0m\u001b[0mi\u001b[0m\u001b[1;33m]\u001b[0m\u001b[1;33m)\u001b[0m\u001b[1;33m)\u001b[0m\u001b[1;33m\u001b[0m\u001b[0m\n\u001b[0m\u001b[0;32m     32\u001b[0m         \u001b[0mGENE_PVALUES\u001b[0m\u001b[1;33m.\u001b[0m\u001b[0mappend\u001b[0m\u001b[1;33m(\u001b[0m\u001b[0mp_value\u001b[0m\u001b[1;33m)\u001b[0m\u001b[1;33m\u001b[0m\u001b[0m\n\u001b[0;32m     33\u001b[0m         \u001b[0mexpected\u001b[0m \u001b[1;33m=\u001b[0m \u001b[1;33m[\u001b[0m\u001b[0mslope\u001b[0m \u001b[1;33m*\u001b[0m \u001b[0mvalue\u001b[0m \u001b[1;33m+\u001b[0m \u001b[0mintercept\u001b[0m \u001b[1;32mfor\u001b[0m \u001b[0mvalue\u001b[0m \u001b[1;32min\u001b[0m \u001b[0mMODAL_ALLELE\u001b[0m\u001b[1;33m]\u001b[0m\u001b[1;33m\u001b[0m\u001b[0m\n",
      "\u001b[1;32m/home/picrin/bin/anaconda3/lib/python3.5/site-packages/scipy/stats/_stats_mstats_common.py\u001b[0m in \u001b[0;36mlinregress\u001b[1;34m(x, y)\u001b[0m\n\u001b[0;32m     92\u001b[0m     \u001b[0mdf\u001b[0m \u001b[1;33m=\u001b[0m \u001b[0mn\u001b[0m \u001b[1;33m-\u001b[0m \u001b[1;36m2\u001b[0m\u001b[1;33m\u001b[0m\u001b[0m\n\u001b[0;32m     93\u001b[0m     \u001b[0mt\u001b[0m \u001b[1;33m=\u001b[0m \u001b[0mr\u001b[0m \u001b[1;33m*\u001b[0m \u001b[0mnp\u001b[0m\u001b[1;33m.\u001b[0m\u001b[0msqrt\u001b[0m\u001b[1;33m(\u001b[0m\u001b[0mdf\u001b[0m \u001b[1;33m/\u001b[0m \u001b[1;33m(\u001b[0m\u001b[1;33m(\u001b[0m\u001b[1;36m1.0\u001b[0m \u001b[1;33m-\u001b[0m \u001b[0mr\u001b[0m \u001b[1;33m+\u001b[0m \u001b[0mTINY\u001b[0m\u001b[1;33m)\u001b[0m\u001b[1;33m*\u001b[0m\u001b[1;33m(\u001b[0m\u001b[1;36m1.0\u001b[0m \u001b[1;33m+\u001b[0m \u001b[0mr\u001b[0m \u001b[1;33m+\u001b[0m \u001b[0mTINY\u001b[0m\u001b[1;33m)\u001b[0m\u001b[1;33m)\u001b[0m\u001b[1;33m)\u001b[0m\u001b[1;33m\u001b[0m\u001b[0m\n\u001b[1;32m---> 94\u001b[1;33m     \u001b[0mprob\u001b[0m \u001b[1;33m=\u001b[0m \u001b[1;36m2\u001b[0m \u001b[1;33m*\u001b[0m \u001b[0mdistributions\u001b[0m\u001b[1;33m.\u001b[0m\u001b[0mt\u001b[0m\u001b[1;33m.\u001b[0m\u001b[0msf\u001b[0m\u001b[1;33m(\u001b[0m\u001b[0mnp\u001b[0m\u001b[1;33m.\u001b[0m\u001b[0mabs\u001b[0m\u001b[1;33m(\u001b[0m\u001b[0mt\u001b[0m\u001b[1;33m)\u001b[0m\u001b[1;33m,\u001b[0m \u001b[0mdf\u001b[0m\u001b[1;33m)\u001b[0m\u001b[1;33m\u001b[0m\u001b[0m\n\u001b[0m\u001b[0;32m     95\u001b[0m     \u001b[0mslope\u001b[0m \u001b[1;33m=\u001b[0m \u001b[0mr_num\u001b[0m \u001b[1;33m/\u001b[0m \u001b[0mssxm\u001b[0m\u001b[1;33m\u001b[0m\u001b[0m\n\u001b[0;32m     96\u001b[0m     \u001b[0mintercept\u001b[0m \u001b[1;33m=\u001b[0m \u001b[0mymean\u001b[0m \u001b[1;33m-\u001b[0m \u001b[0mslope\u001b[0m\u001b[1;33m*\u001b[0m\u001b[0mxmean\u001b[0m\u001b[1;33m\u001b[0m\u001b[0m\n",
      "\u001b[1;32m/home/picrin/bin/anaconda3/lib/python3.5/site-packages/scipy/stats/_distn_infrastructure.py\u001b[0m in \u001b[0;36msf\u001b[1;34m(self, x, *args, **kwds)\u001b[0m\n\u001b[0;32m   1744\u001b[0m         \u001b[0margs\u001b[0m \u001b[1;33m=\u001b[0m \u001b[0mtuple\u001b[0m\u001b[1;33m(\u001b[0m\u001b[0mmap\u001b[0m\u001b[1;33m(\u001b[0m\u001b[0masarray\u001b[0m\u001b[1;33m,\u001b[0m \u001b[0margs\u001b[0m\u001b[1;33m)\u001b[0m\u001b[1;33m)\u001b[0m\u001b[1;33m\u001b[0m\u001b[0m\n\u001b[0;32m   1745\u001b[0m         \u001b[0mdtyp\u001b[0m \u001b[1;33m=\u001b[0m \u001b[0mnp\u001b[0m\u001b[1;33m.\u001b[0m\u001b[0mfind_common_type\u001b[0m\u001b[1;33m(\u001b[0m\u001b[1;33m[\u001b[0m\u001b[0mx\u001b[0m\u001b[1;33m.\u001b[0m\u001b[0mdtype\u001b[0m\u001b[1;33m,\u001b[0m \u001b[0mnp\u001b[0m\u001b[1;33m.\u001b[0m\u001b[0mfloat64\u001b[0m\u001b[1;33m]\u001b[0m\u001b[1;33m,\u001b[0m \u001b[1;33m[\u001b[0m\u001b[1;33m]\u001b[0m\u001b[1;33m)\u001b[0m\u001b[1;33m\u001b[0m\u001b[0m\n\u001b[1;32m-> 1746\u001b[1;33m         \u001b[0mx\u001b[0m \u001b[1;33m=\u001b[0m \u001b[0mnp\u001b[0m\u001b[1;33m.\u001b[0m\u001b[0masarray\u001b[0m\u001b[1;33m(\u001b[0m\u001b[1;33m(\u001b[0m\u001b[0mx\u001b[0m \u001b[1;33m-\u001b[0m \u001b[0mloc\u001b[0m\u001b[1;33m)\u001b[0m\u001b[1;33m/\u001b[0m\u001b[0mscale\u001b[0m\u001b[1;33m,\u001b[0m \u001b[0mdtype\u001b[0m\u001b[1;33m=\u001b[0m\u001b[0mdtyp\u001b[0m\u001b[1;33m)\u001b[0m\u001b[1;33m\u001b[0m\u001b[0m\n\u001b[0m\u001b[0;32m   1747\u001b[0m         \u001b[0mcond0\u001b[0m \u001b[1;33m=\u001b[0m \u001b[0mself\u001b[0m\u001b[1;33m.\u001b[0m\u001b[0m_argcheck\u001b[0m\u001b[1;33m(\u001b[0m\u001b[1;33m*\u001b[0m\u001b[0margs\u001b[0m\u001b[1;33m)\u001b[0m \u001b[1;33m&\u001b[0m \u001b[1;33m(\u001b[0m\u001b[0mscale\u001b[0m \u001b[1;33m>\u001b[0m \u001b[1;36m0\u001b[0m\u001b[1;33m)\u001b[0m\u001b[1;33m\u001b[0m\u001b[0m\n\u001b[0;32m   1748\u001b[0m         \u001b[0mcond1\u001b[0m \u001b[1;33m=\u001b[0m \u001b[1;33m(\u001b[0m\u001b[0mscale\u001b[0m \u001b[1;33m>\u001b[0m \u001b[1;36m0\u001b[0m\u001b[1;33m)\u001b[0m \u001b[1;33m&\u001b[0m \u001b[1;33m(\u001b[0m\u001b[0mx\u001b[0m \u001b[1;33m>\u001b[0m \u001b[0mself\u001b[0m\u001b[1;33m.\u001b[0m\u001b[0ma\u001b[0m\u001b[1;33m)\u001b[0m \u001b[1;33m&\u001b[0m \u001b[1;33m(\u001b[0m\u001b[0mx\u001b[0m \u001b[1;33m<\u001b[0m \u001b[0mself\u001b[0m\u001b[1;33m.\u001b[0m\u001b[0mb\u001b[0m\u001b[1;33m)\u001b[0m\u001b[1;33m\u001b[0m\u001b[0m\n",
      "\u001b[1;31mKeyboardInterrupt\u001b[0m: "
     ]
    }
   ],
   "source": [
    "r = runExperiment(DSE_check, noGenes=200, numberOfAnalyses=2)\n",
    "IMPROVED = r['result']\n",
    "TOOK = r['took']"
   ]
  },
  {
   "cell_type": "code",
   "execution_count": 185,
   "metadata": {
    "collapsed": false
   },
   "outputs": [],
   "source": [
    "if IMPROVED:\n",
    "    f = plt.figure()\n",
    "    ax = f.add_subplot(111)\n",
    "    fig = ax.scatter(range(len(IMPROVED)), sorted(IMPROVED))\n",
    "    ax.set_ylabel(\"fraction of improved p-values\")\n",
    "    ax.set_xlabel(\"experiment index. All experiments were ordered\")\n",
    "    "
   ]
  },
  {
   "cell_type": "markdown",
   "metadata": {},
   "source": [
    "# Run Experiments in a more similar manner to Wilf, i.e. take first n and adjust the next n. Take n between 0 and 100."
   ]
  },
  {
   "cell_type": "code",
   "execution_count": 227,
   "metadata": {
    "collapsed": false
   },
   "outputs": [
    {
     "name": "stdout",
     "output_type": "stream",
     "text": [
      "Running experiment DSE_check with parameters: kwargs= {'noGenes': 2, 'numberOfAnalyses': 1, 'randomise': False} . It may take some time. The result will be cached in DSE_check=noGenes:2,numberOfAnalyses:1,randomise:False\n",
      "The experiment took 18.457627296447754 seconds\n",
      "{'result': [0.0], 'took': 18.457627296447754}\n",
      "Running experiment DSE_check with parameters: kwargs= {'noGenes': 4, 'numberOfAnalyses': 1, 'randomise': False} . It may take some time. The result will be cached in DSE_check=noGenes:4,numberOfAnalyses:1,randomise:False\n",
      "The experiment took 18.03127384185791 seconds\n",
      "{'result': [0.0], 'took': 18.03127384185791}\n",
      "Running experiment DSE_check with parameters: kwargs= {'noGenes': 6, 'numberOfAnalyses': 1, 'randomise': False} . It may take some time. The result will be cached in DSE_check=noGenes:6,numberOfAnalyses:1,randomise:False\n",
      "The experiment took 21.287277698516846 seconds\n",
      "{'result': [0.0], 'took': 21.287277698516846}\n",
      "Running experiment DSE_check with parameters: kwargs= {'noGenes': 8, 'numberOfAnalyses': 1, 'randomise': False} . It may take some time. The result will be cached in DSE_check=noGenes:8,numberOfAnalyses:1,randomise:False\n",
      "The experiment took 20.155445098876953 seconds\n",
      "{'result': [0.0], 'took': 20.155445098876953}\n",
      "Running experiment DSE_check with parameters: kwargs= {'noGenes': 10, 'numberOfAnalyses': 1, 'randomise': False} . It may take some time. The result will be cached in DSE_check=noGenes:10,numberOfAnalyses:1,randomise:False\n",
      "The experiment took 20.095886945724487 seconds\n",
      "{'result': [0.0], 'took': 20.095886945724487}\n",
      "Running experiment DSE_check with parameters: kwargs= {'noGenes': 12, 'numberOfAnalyses': 1, 'randomise': False} . It may take some time. The result will be cached in DSE_check=noGenes:12,numberOfAnalyses:1,randomise:False\n",
      "The experiment took 20.145455598831177 seconds\n",
      "{'result': [0.0], 'took': 20.145455598831177}\n",
      "Running experiment DSE_check with parameters: kwargs= {'noGenes': 14, 'numberOfAnalyses': 1, 'randomise': False} . It may take some time. The result will be cached in DSE_check=noGenes:14,numberOfAnalyses:1,randomise:False\n",
      "The experiment took 20.028717041015625 seconds\n",
      "{'result': [0.14285714285714285], 'took': 20.028717041015625}\n",
      "Running experiment DSE_check with parameters: kwargs= {'noGenes': 16, 'numberOfAnalyses': 1, 'randomise': False} . It may take some time. The result will be cached in DSE_check=noGenes:16,numberOfAnalyses:1,randomise:False\n",
      "The experiment took 20.10649347305298 seconds\n",
      "{'result': [0.125], 'took': 20.10649347305298}\n",
      "Running experiment DSE_check with parameters: kwargs= {'noGenes': 18, 'numberOfAnalyses': 1, 'randomise': False} . It may take some time. The result will be cached in DSE_check=noGenes:18,numberOfAnalyses:1,randomise:False\n",
      "The experiment took 21.50367021560669 seconds\n",
      "{'result': [0.1111111111111111], 'took': 21.50367021560669}\n",
      "Running experiment DSE_check with parameters: kwargs= {'noGenes': 20, 'numberOfAnalyses': 1, 'randomise': False} . It may take some time. The result will be cached in DSE_check=noGenes:20,numberOfAnalyses:1,randomise:False\n",
      "The experiment took 20.007188320159912 seconds\n",
      "{'result': [0.1], 'took': 20.007188320159912}\n",
      "Running experiment DSE_check with parameters: kwargs= {'noGenes': 22, 'numberOfAnalyses': 1, 'randomise': False} . It may take some time. The result will be cached in DSE_check=noGenes:22,numberOfAnalyses:1,randomise:False\n",
      "The experiment took 20.704373359680176 seconds\n",
      "{'result': [0.09090909090909091], 'took': 20.704373359680176}\n",
      "Running experiment DSE_check with parameters: kwargs= {'noGenes': 24, 'numberOfAnalyses': 1, 'randomise': False} . It may take some time. The result will be cached in DSE_check=noGenes:24,numberOfAnalyses:1,randomise:False\n",
      "The experiment took 20.27754235267639 seconds\n",
      "{'result': [0.08333333333333333], 'took': 20.27754235267639}\n",
      "Running experiment DSE_check with parameters: kwargs= {'noGenes': 26, 'numberOfAnalyses': 1, 'randomise': False} . It may take some time. The result will be cached in DSE_check=noGenes:26,numberOfAnalyses:1,randomise:False\n",
      "The experiment took 20.076003074645996 seconds\n",
      "{'result': [0.07692307692307693], 'took': 20.076003074645996}\n",
      "Running experiment DSE_check with parameters: kwargs= {'noGenes': 28, 'numberOfAnalyses': 1, 'randomise': False} . It may take some time. The result will be cached in DSE_check=noGenes:28,numberOfAnalyses:1,randomise:False\n",
      "The experiment took 19.994972944259644 seconds\n",
      "{'result': [0.21428571428571427], 'took': 19.994972944259644}\n",
      "Running experiment DSE_check with parameters: kwargs= {'noGenes': 30, 'numberOfAnalyses': 1, 'randomise': False} . It may take some time. The result will be cached in DSE_check=noGenes:30,numberOfAnalyses:1,randomise:False\n",
      "The experiment took 20.09531283378601 seconds\n",
      "{'result': [0.26666666666666666], 'took': 20.09531283378601}\n",
      "Running experiment DSE_check with parameters: kwargs= {'noGenes': 32, 'numberOfAnalyses': 1, 'randomise': False} . It may take some time. The result will be cached in DSE_check=noGenes:32,numberOfAnalyses:1,randomise:False\n",
      "The experiment took 20.28080677986145 seconds\n",
      "{'result': [0.25], 'took': 20.28080677986145}\n",
      "Running experiment DSE_check with parameters: kwargs= {'noGenes': 34, 'numberOfAnalyses': 1, 'randomise': False} . It may take some time. The result will be cached in DSE_check=noGenes:34,numberOfAnalyses:1,randomise:False\n",
      "The experiment took 20.12468957901001 seconds\n",
      "{'result': [0.17647058823529413], 'took': 20.12468957901001}\n",
      "Running experiment DSE_check with parameters: kwargs= {'noGenes': 36, 'numberOfAnalyses': 1, 'randomise': False} . It may take some time. The result will be cached in DSE_check=noGenes:36,numberOfAnalyses:1,randomise:False\n",
      "The experiment took 20.145432472229004 seconds\n",
      "{'result': [0.16666666666666666], 'took': 20.145432472229004}\n",
      "Running experiment DSE_check with parameters: kwargs= {'noGenes': 38, 'numberOfAnalyses': 1, 'randomise': False} . It may take some time. The result will be cached in DSE_check=noGenes:38,numberOfAnalyses:1,randomise:False\n",
      "The experiment took 20.18639349937439 seconds\n",
      "{'result': [0.21052631578947367], 'took': 20.18639349937439}\n",
      "Running experiment DSE_check with parameters: kwargs= {'noGenes': 40, 'numberOfAnalyses': 1, 'randomise': False} . It may take some time. The result will be cached in DSE_check=noGenes:40,numberOfAnalyses:1,randomise:False\n",
      "The experiment took 20.501805305480957 seconds\n",
      "{'result': [0.35], 'took': 20.501805305480957}\n",
      "Running experiment DSE_check with parameters: kwargs= {'noGenes': 42, 'numberOfAnalyses': 1, 'randomise': False} . It may take some time. The result will be cached in DSE_check=noGenes:42,numberOfAnalyses:1,randomise:False\n",
      "The experiment took 20.172760725021362 seconds\n",
      "{'result': [0.47619047619047616], 'took': 20.172760725021362}\n",
      "Running experiment DSE_check with parameters: kwargs= {'noGenes': 44, 'numberOfAnalyses': 1, 'randomise': False} . It may take some time. The result will be cached in DSE_check=noGenes:44,numberOfAnalyses:1,randomise:False\n",
      "The experiment took 20.11578392982483 seconds\n",
      "{'result': [0.45454545454545453], 'took': 20.11578392982483}\n",
      "Running experiment DSE_check with parameters: kwargs= {'noGenes': 46, 'numberOfAnalyses': 1, 'randomise': False} . It may take some time. The result will be cached in DSE_check=noGenes:46,numberOfAnalyses:1,randomise:False\n",
      "The experiment took 25.034222841262817 seconds\n",
      "{'result': [0.43478260869565216], 'took': 25.034222841262817}\n",
      "Running experiment DSE_check with parameters: kwargs= {'noGenes': 48, 'numberOfAnalyses': 1, 'randomise': False} . It may take some time. The result will be cached in DSE_check=noGenes:48,numberOfAnalyses:1,randomise:False\n",
      "The experiment took 19.94222331047058 seconds\n",
      "{'result': [0.4166666666666667], 'took': 19.94222331047058}\n",
      "Running experiment DSE_check with parameters: kwargs= {'noGenes': 50, 'numberOfAnalyses': 1, 'randomise': False} . It may take some time. The result will be cached in DSE_check=noGenes:50,numberOfAnalyses:1,randomise:False\n",
      "The experiment took 20.407971620559692 seconds\n",
      "{'result': [0.52], 'took': 20.407971620559692}\n",
      "Running experiment DSE_check with parameters: kwargs= {'noGenes': 52, 'numberOfAnalyses': 1, 'randomise': False} . It may take some time. The result will be cached in DSE_check=noGenes:52,numberOfAnalyses:1,randomise:False\n",
      "The experiment took 20.709962129592896 seconds\n",
      "{'result': [0.34615384615384615], 'took': 20.709962129592896}\n",
      "Running experiment DSE_check with parameters: kwargs= {'noGenes': 54, 'numberOfAnalyses': 1, 'randomise': False} . It may take some time. The result will be cached in DSE_check=noGenes:54,numberOfAnalyses:1,randomise:False\n",
      "The experiment took 20.817692041397095 seconds\n",
      "{'result': [0.37037037037037035], 'took': 20.817692041397095}\n",
      "Running experiment DSE_check with parameters: kwargs= {'noGenes': 56, 'numberOfAnalyses': 1, 'randomise': False} . It may take some time. The result will be cached in DSE_check=noGenes:56,numberOfAnalyses:1,randomise:False\n",
      "The experiment took 20.274666786193848 seconds\n",
      "{'result': [0.39285714285714285], 'took': 20.274666786193848}\n",
      "Running experiment DSE_check with parameters: kwargs= {'noGenes': 58, 'numberOfAnalyses': 1, 'randomise': False} . It may take some time. The result will be cached in DSE_check=noGenes:58,numberOfAnalyses:1,randomise:False\n",
      "The experiment took 22.34019660949707 seconds\n",
      "{'result': [0.3793103448275862], 'took': 22.34019660949707}\n",
      "Running experiment DSE_check with parameters: kwargs= {'noGenes': 60, 'numberOfAnalyses': 1, 'randomise': False} . It may take some time. The result will be cached in DSE_check=noGenes:60,numberOfAnalyses:1,randomise:False\n",
      "The experiment took 20.16173219680786 seconds\n",
      "{'result': [0.3333333333333333], 'took': 20.16173219680786}\n",
      "Running experiment DSE_check with parameters: kwargs= {'noGenes': 62, 'numberOfAnalyses': 1, 'randomise': False} . It may take some time. The result will be cached in DSE_check=noGenes:62,numberOfAnalyses:1,randomise:False\n",
      "The experiment took 20.096635103225708 seconds\n",
      "{'result': [0.41935483870967744], 'took': 20.096635103225708}\n",
      "Running experiment DSE_check with parameters: kwargs= {'noGenes': 64, 'numberOfAnalyses': 1, 'randomise': False} . It may take some time. The result will be cached in DSE_check=noGenes:64,numberOfAnalyses:1,randomise:False\n",
      "The experiment took 20.09635043144226 seconds\n",
      "{'result': [0.40625], 'took': 20.09635043144226}\n",
      "Running experiment DSE_check with parameters: kwargs= {'noGenes': 66, 'numberOfAnalyses': 1, 'randomise': False} . It may take some time. The result will be cached in DSE_check=noGenes:66,numberOfAnalyses:1,randomise:False\n",
      "The experiment took 20.702833890914917 seconds\n",
      "{'result': [0.42424242424242425], 'took': 20.702833890914917}\n",
      "Running experiment DSE_check with parameters: kwargs= {'noGenes': 68, 'numberOfAnalyses': 1, 'randomise': False} . It may take some time. The result will be cached in DSE_check=noGenes:68,numberOfAnalyses:1,randomise:False\n",
      "The experiment took 21.058896780014038 seconds\n",
      "{'result': [0.4411764705882353], 'took': 21.058896780014038}\n",
      "Running experiment DSE_check with parameters: kwargs= {'noGenes': 70, 'numberOfAnalyses': 1, 'randomise': False} . It may take some time. The result will be cached in DSE_check=noGenes:70,numberOfAnalyses:1,randomise:False\n",
      "The experiment took 20.267496585845947 seconds\n",
      "{'result': [0.45714285714285713], 'took': 20.267496585845947}\n",
      "Running experiment DSE_check with parameters: kwargs= {'noGenes': 72, 'numberOfAnalyses': 1, 'randomise': False} . It may take some time. The result will be cached in DSE_check=noGenes:72,numberOfAnalyses:1,randomise:False\n",
      "The experiment took 20.107830286026 seconds\n",
      "{'result': [0.4722222222222222], 'took': 20.107830286026}\n",
      "Running experiment DSE_check with parameters: kwargs= {'noGenes': 74, 'numberOfAnalyses': 1, 'randomise': False} . It may take some time. The result will be cached in DSE_check=noGenes:74,numberOfAnalyses:1,randomise:False\n",
      "The experiment took 20.07853865623474 seconds\n",
      "{'result': [0.4864864864864865], 'took': 20.07853865623474}\n",
      "Running experiment DSE_check with parameters: kwargs= {'noGenes': 76, 'numberOfAnalyses': 1, 'randomise': False} . It may take some time. The result will be cached in DSE_check=noGenes:76,numberOfAnalyses:1,randomise:False\n",
      "The experiment took 26.2889142036438 seconds\n",
      "{'result': [0.5789473684210527], 'took': 26.2889142036438}\n",
      "Running experiment DSE_check with parameters: kwargs= {'noGenes': 78, 'numberOfAnalyses': 1, 'randomise': False} . It may take some time. The result will be cached in DSE_check=noGenes:78,numberOfAnalyses:1,randomise:False\n",
      "The experiment took 19.461493492126465 seconds\n",
      "{'result': [0.5641025641025641], 'took': 19.461493492126465}\n",
      "Running experiment DSE_check with parameters: kwargs= {'noGenes': 80, 'numberOfAnalyses': 1, 'randomise': False} . It may take some time. The result will be cached in DSE_check=noGenes:80,numberOfAnalyses:1,randomise:False\n",
      "The experiment took 26.130604028701782 seconds\n",
      "{'result': [0.6], 'took': 26.130604028701782}\n",
      "Running experiment DSE_check with parameters: kwargs= {'noGenes': 82, 'numberOfAnalyses': 1, 'randomise': False} . It may take some time. The result will be cached in DSE_check=noGenes:82,numberOfAnalyses:1,randomise:False\n",
      "The experiment took 22.359355926513672 seconds\n",
      "{'result': [0.6097560975609756], 'took': 22.359355926513672}\n",
      "Running experiment DSE_check with parameters: kwargs= {'noGenes': 84, 'numberOfAnalyses': 1, 'randomise': False} . It may take some time. The result will be cached in DSE_check=noGenes:84,numberOfAnalyses:1,randomise:False\n",
      "The experiment took 20.027205228805542 seconds\n",
      "{'result': [0.5238095238095238], 'took': 20.027205228805542}\n",
      "Running experiment DSE_check with parameters: kwargs= {'noGenes': 86, 'numberOfAnalyses': 1, 'randomise': False} . It may take some time. The result will be cached in DSE_check=noGenes:86,numberOfAnalyses:1,randomise:False\n",
      "The experiment took 23.873915910720825 seconds\n",
      "{'result': [0.4186046511627907], 'took': 23.873915910720825}\n",
      "Running experiment DSE_check with parameters: kwargs= {'noGenes': 88, 'numberOfAnalyses': 1, 'randomise': False} . It may take some time. The result will be cached in DSE_check=noGenes:88,numberOfAnalyses:1,randomise:False\n",
      "The experiment took 20.13856053352356 seconds\n",
      "{'result': [0.4318181818181818], 'took': 20.13856053352356}\n",
      "Running experiment DSE_check with parameters: kwargs= {'noGenes': 90, 'numberOfAnalyses': 1, 'randomise': False} . It may take some time. The result will be cached in DSE_check=noGenes:90,numberOfAnalyses:1,randomise:False\n",
      "The experiment took 20.167876720428467 seconds\n",
      "{'result': [0.35555555555555557], 'took': 20.167876720428467}\n",
      "Running experiment DSE_check with parameters: kwargs= {'noGenes': 92, 'numberOfAnalyses': 1, 'randomise': False} . It may take some time. The result will be cached in DSE_check=noGenes:92,numberOfAnalyses:1,randomise:False\n",
      "The experiment took 19.9975848197937 seconds\n",
      "{'result': [0.3695652173913043], 'took': 19.9975848197937}\n",
      "Running experiment DSE_check with parameters: kwargs= {'noGenes': 94, 'numberOfAnalyses': 1, 'randomise': False} . It may take some time. The result will be cached in DSE_check=noGenes:94,numberOfAnalyses:1,randomise:False\n",
      "The experiment took 20.04198980331421 seconds\n",
      "{'result': [0.3404255319148936], 'took': 20.04198980331421}\n",
      "Running experiment DSE_check with parameters: kwargs= {'noGenes': 96, 'numberOfAnalyses': 1, 'randomise': False} . It may take some time. The result will be cached in DSE_check=noGenes:96,numberOfAnalyses:1,randomise:False\n",
      "The experiment took 20.1025869846344 seconds\n",
      "{'result': [0.375], 'took': 20.1025869846344}\n",
      "Running experiment DSE_check with parameters: kwargs= {'noGenes': 98, 'numberOfAnalyses': 1, 'randomise': False} . It may take some time. The result will be cached in DSE_check=noGenes:98,numberOfAnalyses:1,randomise:False\n",
      "The experiment took 20.1280996799469 seconds\n",
      "{'result': [0.3469387755102041], 'took': 20.1280996799469}\n",
      "Running experiment DSE_check with parameters: kwargs= {'noGenes': 100, 'numberOfAnalyses': 1, 'randomise': False} . It may take some time. The result will be cached in DSE_check=noGenes:100,numberOfAnalyses:1,randomise:False\n",
      "The experiment took 20.155122756958008 seconds\n",
      "{'result': [0.34], 'took': 20.155122756958008}\n",
      "Running experiment DSE_check with parameters: kwargs= {'noGenes': 102, 'numberOfAnalyses': 1, 'randomise': False} . It may take some time. The result will be cached in DSE_check=noGenes:102,numberOfAnalyses:1,randomise:False\n",
      "The experiment took 20.16508412361145 seconds\n",
      "{'result': [0.37254901960784315], 'took': 20.16508412361145}\n",
      "Running experiment DSE_check with parameters: kwargs= {'noGenes': 104, 'numberOfAnalyses': 1, 'randomise': False} . It may take some time. The result will be cached in DSE_check=noGenes:104,numberOfAnalyses:1,randomise:False\n",
      "The experiment took 20.05276107788086 seconds\n",
      "{'result': [0.36538461538461536], 'took': 20.05276107788086}\n",
      "Running experiment DSE_check with parameters: kwargs= {'noGenes': 106, 'numberOfAnalyses': 1, 'randomise': False} . It may take some time. The result will be cached in DSE_check=noGenes:106,numberOfAnalyses:1,randomise:False\n",
      "The experiment took 20.034874200820923 seconds\n",
      "{'result': [0.33962264150943394], 'took': 20.034874200820923}\n",
      "Running experiment DSE_check with parameters: kwargs= {'noGenes': 108, 'numberOfAnalyses': 1, 'randomise': False} . It may take some time. The result will be cached in DSE_check=noGenes:108,numberOfAnalyses:1,randomise:False\n",
      "The experiment took 20.105560541152954 seconds\n",
      "{'result': [0.3333333333333333], 'took': 20.105560541152954}\n",
      "Running experiment DSE_check with parameters: kwargs= {'noGenes': 110, 'numberOfAnalyses': 1, 'randomise': False} . It may take some time. The result will be cached in DSE_check=noGenes:110,numberOfAnalyses:1,randomise:False\n",
      "The experiment took 20.10446000099182 seconds\n",
      "{'result': [0.36363636363636365], 'took': 20.10446000099182}\n",
      "Running experiment DSE_check with parameters: kwargs= {'noGenes': 112, 'numberOfAnalyses': 1, 'randomise': False} . It may take some time. The result will be cached in DSE_check=noGenes:112,numberOfAnalyses:1,randomise:False\n",
      "The experiment took 20.114951848983765 seconds\n",
      "{'result': [0.375], 'took': 20.114951848983765}\n",
      "Running experiment DSE_check with parameters: kwargs= {'noGenes': 114, 'numberOfAnalyses': 1, 'randomise': False} . It may take some time. The result will be cached in DSE_check=noGenes:114,numberOfAnalyses:1,randomise:False\n",
      "The experiment took 20.77601194381714 seconds\n",
      "{'result': [0.38596491228070173], 'took': 20.77601194381714}\n",
      "Running experiment DSE_check with parameters: kwargs= {'noGenes': 116, 'numberOfAnalyses': 1, 'randomise': False} . It may take some time. The result will be cached in DSE_check=noGenes:116,numberOfAnalyses:1,randomise:False\n",
      "The experiment took 20.166900396347046 seconds\n",
      "{'result': [0.41379310344827586], 'took': 20.166900396347046}\n",
      "Running experiment DSE_check with parameters: kwargs= {'noGenes': 118, 'numberOfAnalyses': 1, 'randomise': False} . It may take some time. The result will be cached in DSE_check=noGenes:118,numberOfAnalyses:1,randomise:False\n",
      "The experiment took 20.037670135498047 seconds\n",
      "{'result': [0.423728813559322], 'took': 20.037670135498047}\n",
      "Running experiment DSE_check with parameters: kwargs= {'noGenes': 120, 'numberOfAnalyses': 1, 'randomise': False} . It may take some time. The result will be cached in DSE_check=noGenes:120,numberOfAnalyses:1,randomise:False\n",
      "The experiment took 20.06200909614563 seconds\n",
      "{'result': [0.4166666666666667], 'took': 20.06200909614563}\n",
      "Running experiment DSE_check with parameters: kwargs= {'noGenes': 122, 'numberOfAnalyses': 1, 'randomise': False} . It may take some time. The result will be cached in DSE_check=noGenes:122,numberOfAnalyses:1,randomise:False\n",
      "The experiment took 24.872179985046387 seconds\n",
      "{'result': [0.39344262295081966], 'took': 24.872179985046387}\n",
      "Running experiment DSE_check with parameters: kwargs= {'noGenes': 124, 'numberOfAnalyses': 1, 'randomise': False} . It may take some time. The result will be cached in DSE_check=noGenes:124,numberOfAnalyses:1,randomise:False\n",
      "The experiment took 19.56436324119568 seconds\n",
      "{'result': [0.3709677419354839], 'took': 19.56436324119568}\n",
      "Running experiment DSE_check with parameters: kwargs= {'noGenes': 126, 'numberOfAnalyses': 1, 'randomise': False} . It may take some time. The result will be cached in DSE_check=noGenes:126,numberOfAnalyses:1,randomise:False\n",
      "The experiment took 20.096988916397095 seconds\n",
      "{'result': [0.38095238095238093], 'took': 20.096988916397095}\n",
      "Running experiment DSE_check with parameters: kwargs= {'noGenes': 128, 'numberOfAnalyses': 1, 'randomise': False} . It may take some time. The result will be cached in DSE_check=noGenes:128,numberOfAnalyses:1,randomise:False\n",
      "The experiment took 20.943174600601196 seconds\n",
      "{'result': [0.359375], 'took': 20.943174600601196}\n",
      "Running experiment DSE_check with parameters: kwargs= {'noGenes': 130, 'numberOfAnalyses': 1, 'randomise': False} . It may take some time. The result will be cached in DSE_check=noGenes:130,numberOfAnalyses:1,randomise:False\n",
      "The experiment took 20.09541654586792 seconds\n",
      "{'result': [0.36923076923076925], 'took': 20.09541654586792}\n",
      "Running experiment DSE_check with parameters: kwargs= {'noGenes': 132, 'numberOfAnalyses': 1, 'randomise': False} . It may take some time. The result will be cached in DSE_check=noGenes:132,numberOfAnalyses:1,randomise:False\n",
      "The experiment took 20.046440839767456 seconds\n",
      "{'result': [0.30303030303030304], 'took': 20.046440839767456}\n",
      "Running experiment DSE_check with parameters: kwargs= {'noGenes': 134, 'numberOfAnalyses': 1, 'randomise': False} . It may take some time. The result will be cached in DSE_check=noGenes:134,numberOfAnalyses:1,randomise:False\n",
      "The experiment took 20.09088659286499 seconds\n",
      "{'result': [0.3283582089552239], 'took': 20.09088659286499}\n",
      "Running experiment DSE_check with parameters: kwargs= {'noGenes': 136, 'numberOfAnalyses': 1, 'randomise': False} . It may take some time. The result will be cached in DSE_check=noGenes:136,numberOfAnalyses:1,randomise:False\n",
      "The experiment took 20.17298913002014 seconds\n",
      "{'result': [0.29411764705882354], 'took': 20.17298913002014}\n",
      "Running experiment DSE_check with parameters: kwargs= {'noGenes': 138, 'numberOfAnalyses': 1, 'randomise': False} . It may take some time. The result will be cached in DSE_check=noGenes:138,numberOfAnalyses:1,randomise:False\n",
      "The experiment took 20.146059274673462 seconds\n",
      "{'result': [0.36231884057971014], 'took': 20.146059274673462}\n",
      "Running experiment DSE_check with parameters: kwargs= {'noGenes': 140, 'numberOfAnalyses': 1, 'randomise': False} . It may take some time. The result will be cached in DSE_check=noGenes:140,numberOfAnalyses:1,randomise:False\n",
      "The experiment took 20.151668787002563 seconds\n",
      "{'result': [0.37142857142857144], 'took': 20.151668787002563}\n",
      "Running experiment DSE_check with parameters: kwargs= {'noGenes': 142, 'numberOfAnalyses': 1, 'randomise': False} . It may take some time. The result will be cached in DSE_check=noGenes:142,numberOfAnalyses:1,randomise:False\n",
      "The experiment took 21.564315795898438 seconds\n",
      "{'result': [0.38028169014084506], 'took': 21.564315795898438}\n",
      "Running experiment DSE_check with parameters: kwargs= {'noGenes': 144, 'numberOfAnalyses': 1, 'randomise': False} . It may take some time. The result will be cached in DSE_check=noGenes:144,numberOfAnalyses:1,randomise:False\n",
      "The experiment took 20.064810514450073 seconds\n",
      "{'result': [0.4027777777777778], 'took': 20.064810514450073}\n",
      "Running experiment DSE_check with parameters: kwargs= {'noGenes': 146, 'numberOfAnalyses': 1, 'randomise': False} . It may take some time. The result will be cached in DSE_check=noGenes:146,numberOfAnalyses:1,randomise:False\n",
      "The experiment took 20.07989764213562 seconds\n",
      "{'result': [0.3698630136986301], 'took': 20.07989764213562}\n",
      "Running experiment DSE_check with parameters: kwargs= {'noGenes': 148, 'numberOfAnalyses': 1, 'randomise': False} . It may take some time. The result will be cached in DSE_check=noGenes:148,numberOfAnalyses:1,randomise:False\n",
      "The experiment took 20.11432671546936 seconds\n",
      "{'result': [0.3918918918918919], 'took': 20.11432671546936}\n",
      "Running experiment DSE_check with parameters: kwargs= {'noGenes': 150, 'numberOfAnalyses': 1, 'randomise': False} . It may take some time. The result will be cached in DSE_check=noGenes:150,numberOfAnalyses:1,randomise:False\n",
      "The experiment took 20.13089656829834 seconds\n",
      "{'result': [0.37333333333333335], 'took': 20.13089656829834}\n",
      "Running experiment DSE_check with parameters: kwargs= {'noGenes': 152, 'numberOfAnalyses': 1, 'randomise': False} . It may take some time. The result will be cached in DSE_check=noGenes:152,numberOfAnalyses:1,randomise:False\n",
      "The experiment took 20.208873987197876 seconds\n",
      "{'result': [0.3684210526315789], 'took': 20.208873987197876}\n",
      "Running experiment DSE_check with parameters: kwargs= {'noGenes': 154, 'numberOfAnalyses': 1, 'randomise': False} . It may take some time. The result will be cached in DSE_check=noGenes:154,numberOfAnalyses:1,randomise:False\n",
      "The experiment took 20.242621660232544 seconds\n",
      "{'result': [0.36363636363636365], 'took': 20.242621660232544}\n",
      "Running experiment DSE_check with parameters: kwargs= {'noGenes': 156, 'numberOfAnalyses': 1, 'randomise': False} . It may take some time. The result will be cached in DSE_check=noGenes:156,numberOfAnalyses:1,randomise:False\n",
      "The experiment took 20.955426454544067 seconds\n",
      "{'result': [0.3717948717948718], 'took': 20.955426454544067}\n",
      "Running experiment DSE_check with parameters: kwargs= {'noGenes': 158, 'numberOfAnalyses': 1, 'randomise': False} . It may take some time. The result will be cached in DSE_check=noGenes:158,numberOfAnalyses:1,randomise:False\n",
      "The experiment took 20.33907127380371 seconds\n",
      "{'result': [0.3670886075949367], 'took': 20.33907127380371}\n",
      "Running experiment DSE_check with parameters: kwargs= {'noGenes': 160, 'numberOfAnalyses': 1, 'randomise': False} . It may take some time. The result will be cached in DSE_check=noGenes:160,numberOfAnalyses:1,randomise:False\n",
      "The experiment took 20.1414635181427 seconds\n",
      "{'result': [0.3375], 'took': 20.1414635181427}\n",
      "Running experiment DSE_check with parameters: kwargs= {'noGenes': 162, 'numberOfAnalyses': 1, 'randomise': False} . It may take some time. The result will be cached in DSE_check=noGenes:162,numberOfAnalyses:1,randomise:False\n",
      "The experiment took 20.198464393615723 seconds\n",
      "{'result': [0.345679012345679], 'took': 20.198464393615723}\n",
      "Running experiment DSE_check with parameters: kwargs= {'noGenes': 164, 'numberOfAnalyses': 1, 'randomise': False} . It may take some time. The result will be cached in DSE_check=noGenes:164,numberOfAnalyses:1,randomise:False\n",
      "The experiment took 20.17653489112854 seconds\n",
      "{'result': [0.3170731707317073], 'took': 20.17653489112854}\n",
      "Running experiment DSE_check with parameters: kwargs= {'noGenes': 166, 'numberOfAnalyses': 1, 'randomise': False} . It may take some time. The result will be cached in DSE_check=noGenes:166,numberOfAnalyses:1,randomise:False\n",
      "The experiment took 20.16942596435547 seconds\n",
      "{'result': [0.3253012048192771], 'took': 20.16942596435547}\n",
      "Running experiment DSE_check with parameters: kwargs= {'noGenes': 168, 'numberOfAnalyses': 1, 'randomise': False} . It may take some time. The result will be cached in DSE_check=noGenes:168,numberOfAnalyses:1,randomise:False\n",
      "The experiment took 20.12644052505493 seconds\n",
      "{'result': [0.34523809523809523], 'took': 20.12644052505493}\n",
      "Running experiment DSE_check with parameters: kwargs= {'noGenes': 170, 'numberOfAnalyses': 1, 'randomise': False} . It may take some time. The result will be cached in DSE_check=noGenes:170,numberOfAnalyses:1,randomise:False\n",
      "The experiment took 20.05163598060608 seconds\n",
      "{'result': [0.3411764705882353], 'took': 20.05163598060608}\n",
      "Running experiment DSE_check with parameters: kwargs= {'noGenes': 172, 'numberOfAnalyses': 1, 'randomise': False} . It may take some time. The result will be cached in DSE_check=noGenes:172,numberOfAnalyses:1,randomise:False\n",
      "The experiment took 20.103261470794678 seconds\n",
      "{'result': [0.3372093023255814], 'took': 20.103261470794678}\n",
      "Running experiment DSE_check with parameters: kwargs= {'noGenes': 174, 'numberOfAnalyses': 1, 'randomise': False} . It may take some time. The result will be cached in DSE_check=noGenes:174,numberOfAnalyses:1,randomise:False\n",
      "The experiment took 20.326258182525635 seconds\n",
      "{'result': [0.3333333333333333], 'took': 20.326258182525635}\n",
      "Running experiment DSE_check with parameters: kwargs= {'noGenes': 176, 'numberOfAnalyses': 1, 'randomise': False} . It may take some time. The result will be cached in DSE_check=noGenes:176,numberOfAnalyses:1,randomise:False\n",
      "The experiment took 20.192821979522705 seconds\n",
      "{'result': [0.32954545454545453], 'took': 20.192821979522705}\n",
      "Running experiment DSE_check with parameters: kwargs= {'noGenes': 178, 'numberOfAnalyses': 1, 'randomise': False} . It may take some time. The result will be cached in DSE_check=noGenes:178,numberOfAnalyses:1,randomise:False\n",
      "The experiment took 20.145748615264893 seconds\n",
      "{'result': [0.33707865168539325], 'took': 20.145748615264893}\n",
      "Running experiment DSE_check with parameters: kwargs= {'noGenes': 180, 'numberOfAnalyses': 1, 'randomise': False} . It may take some time. The result will be cached in DSE_check=noGenes:180,numberOfAnalyses:1,randomise:False\n",
      "The experiment took 20.179232358932495 seconds\n",
      "{'result': [0.34444444444444444], 'took': 20.179232358932495}\n",
      "Running experiment DSE_check with parameters: kwargs= {'noGenes': 182, 'numberOfAnalyses': 1, 'randomise': False} . It may take some time. The result will be cached in DSE_check=noGenes:182,numberOfAnalyses:1,randomise:False\n",
      "The experiment took 19.983415126800537 seconds\n",
      "{'result': [0.34065934065934067], 'took': 19.983415126800537}\n",
      "Running experiment DSE_check with parameters: kwargs= {'noGenes': 184, 'numberOfAnalyses': 1, 'randomise': False} . It may take some time. The result will be cached in DSE_check=noGenes:184,numberOfAnalyses:1,randomise:False\n",
      "The experiment took 20.071406364440918 seconds\n",
      "{'result': [0.33695652173913043], 'took': 20.071406364440918}\n",
      "Running experiment DSE_check with parameters: kwargs= {'noGenes': 186, 'numberOfAnalyses': 1, 'randomise': False} . It may take some time. The result will be cached in DSE_check=noGenes:186,numberOfAnalyses:1,randomise:False\n",
      "The experiment took 20.119883060455322 seconds\n",
      "{'result': [0.34408602150537637], 'took': 20.119883060455322}\n",
      "Running experiment DSE_check with parameters: kwargs= {'noGenes': 188, 'numberOfAnalyses': 1, 'randomise': False} . It may take some time. The result will be cached in DSE_check=noGenes:188,numberOfAnalyses:1,randomise:False\n",
      "The experiment took 20.11932349205017 seconds\n",
      "{'result': [0.3404255319148936], 'took': 20.11932349205017}\n",
      "Running experiment DSE_check with parameters: kwargs= {'noGenes': 190, 'numberOfAnalyses': 1, 'randomise': False} . It may take some time. The result will be cached in DSE_check=noGenes:190,numberOfAnalyses:1,randomise:False\n",
      "The experiment took 20.09366488456726 seconds\n",
      "{'result': [0.3473684210526316], 'took': 20.09366488456726}\n",
      "Running experiment DSE_check with parameters: kwargs= {'noGenes': 192, 'numberOfAnalyses': 1, 'randomise': False} . It may take some time. The result will be cached in DSE_check=noGenes:192,numberOfAnalyses:1,randomise:False\n",
      "The experiment took 20.09503173828125 seconds\n",
      "{'result': [0.3541666666666667], 'took': 20.09503173828125}\n",
      "Running experiment DSE_check with parameters: kwargs= {'noGenes': 194, 'numberOfAnalyses': 1, 'randomise': False} . It may take some time. The result will be cached in DSE_check=noGenes:194,numberOfAnalyses:1,randomise:False\n",
      "The experiment took 20.081770420074463 seconds\n",
      "{'result': [0.36082474226804123], 'took': 20.081770420074463}\n",
      "Running experiment DSE_check with parameters: kwargs= {'noGenes': 196, 'numberOfAnalyses': 1, 'randomise': False} . It may take some time. The result will be cached in DSE_check=noGenes:196,numberOfAnalyses:1,randomise:False\n",
      "The experiment took 19.972995042800903 seconds\n",
      "{'result': [0.3673469387755102], 'took': 19.972995042800903}\n",
      "Running experiment DSE_check with parameters: kwargs= {'noGenes': 198, 'numberOfAnalyses': 1, 'randomise': False} . It may take some time. The result will be cached in DSE_check=noGenes:198,numberOfAnalyses:1,randomise:False\n",
      "The experiment took 20.07159185409546 seconds\n",
      "{'result': [0.3939393939393939], 'took': 20.07159185409546}\n",
      "Running experiment DSE_check with parameters: kwargs= {'noGenes': 200, 'numberOfAnalyses': 1, 'randomise': False} . It may take some time. The result will be cached in DSE_check=noGenes:200,numberOfAnalyses:1,randomise:False\n",
      "The experiment took 20.097553253173828 seconds\n",
      "{'result': [0.4], 'took': 20.097553253173828}\n"
     ]
    }
   ],
   "source": [
    "results = []\n",
    "genes = []\n",
    "\n",
    "n = 100\n",
    "\n",
    "for geneNo in range(2, 2 * n + 2, 2):\n",
    "    r = runExperiment(DSE_check, noGenes=geneNo, numberOfAnalyses=1, randomise=False)\n",
    "    results.append(r[\"result\"][0])\n",
    "    genes.append(geneNo)"
   ]
  },
  {
   "cell_type": "code",
   "execution_count": 228,
   "metadata": {
    "collapsed": false
   },
   "outputs": [
    {
     "name": "stdout",
     "output_type": "stream",
     "text": [
      "[0.0, 0.0, 0.0, 0.0, 0.0, 0.0, 0.14285714285714285, 0.125, 0.1111111111111111, 0.1, 0.09090909090909091, 0.08333333333333333, 0.07692307692307693, 0.21428571428571427, 0.26666666666666666, 0.25, 0.17647058823529413, 0.16666666666666666, 0.21052631578947367, 0.35, 0.47619047619047616, 0.45454545454545453, 0.43478260869565216, 0.4166666666666667, 0.52, 0.34615384615384615, 0.37037037037037035, 0.39285714285714285, 0.3793103448275862, 0.3333333333333333, 0.41935483870967744, 0.40625, 0.42424242424242425, 0.4411764705882353, 0.45714285714285713, 0.4722222222222222, 0.4864864864864865, 0.5789473684210527, 0.5641025641025641, 0.6, 0.6097560975609756, 0.5238095238095238, 0.4186046511627907, 0.4318181818181818, 0.35555555555555557, 0.3695652173913043, 0.3404255319148936, 0.375, 0.3469387755102041, 0.34, 0.37254901960784315, 0.36538461538461536, 0.33962264150943394, 0.3333333333333333, 0.36363636363636365, 0.375, 0.38596491228070173, 0.41379310344827586, 0.423728813559322, 0.4166666666666667, 0.39344262295081966, 0.3709677419354839, 0.38095238095238093, 0.359375, 0.36923076923076925, 0.30303030303030304, 0.3283582089552239, 0.29411764705882354, 0.36231884057971014, 0.37142857142857144, 0.38028169014084506, 0.4027777777777778, 0.3698630136986301, 0.3918918918918919, 0.37333333333333335, 0.3684210526315789, 0.36363636363636365, 0.3717948717948718, 0.3670886075949367, 0.3375, 0.345679012345679, 0.3170731707317073, 0.3253012048192771, 0.34523809523809523, 0.3411764705882353, 0.3372093023255814, 0.3333333333333333, 0.32954545454545453, 0.33707865168539325, 0.34444444444444444, 0.34065934065934067, 0.33695652173913043, 0.34408602150537637, 0.3404255319148936, 0.3473684210526316, 0.3541666666666667, 0.36082474226804123, 0.3673469387755102, 0.3939393939393939, 0.4]\n",
      "[2, 4, 6, 8, 10, 12, 14, 16, 18, 20, 22, 24, 26, 28, 30, 32, 34, 36, 38, 40, 42, 44, 46, 48, 50, 52, 54, 56, 58, 60, 62, 64, 66, 68, 70, 72, 74, 76, 78, 80, 82, 84, 86, 88, 90, 92, 94, 96, 98, 100, 102, 104, 106, 108, 110, 112, 114, 116, 118, 120, 122, 124, 126, 128, 130, 132, 134, 136, 138, 140, 142, 144, 146, 148, 150, 152, 154, 156, 158, 160, 162, 164, 166, 168, 170, 172, 174, 176, 178, 180, 182, 184, 186, 188, 190, 192, 194, 196, 198, 200]\n"
     ]
    },
    {
     "data": {
      "image/png": "[encoded data removed]",
      "text/plain": [
       "<matplotlib.figure.Figure at 0x7fb29c126358>"
      ]
     },
     "metadata": {},
     "output_type": "display_data"
    }
   ],
   "source": [
    "print(results)\n",
    "print(genes)\n",
    "\n",
    "if results:\n",
    "    f = plt.figure()\n",
    "    ax = f.add_subplot(111)\n",
    "    fig = ax.scatter(genes, results)\n",
    "    ax.set_ylabel(\"fraction of improved p-values\")\n",
    "    ax.set_xlabel(\"gene no\")"
   ]
  },
  {
   "cell_type": "code",
   "execution_count": 203,
   "metadata": {
    "collapsed": false
   },
   "outputs": [],
   "source": [
    "EXPERIMENTS = \"cache\""
   ]
  },
  {
   "cell_type": "code",
   "execution_count": 224,
   "metadata": {
    "collapsed": true
   },
   "outputs": [],
   "source": [
    "EXPERIMENTS = \"full\""
   ]
  },
  {
   "cell_type": "markdown",
   "metadata": {
    "collapsed": true
   },
   "source": [
    "1. run for up to 500 \"Wilf's style\"\n",
    "2. GSEs + correction."
   ]
  }
 ],
 "metadata": {
  "anaconda-cloud": {},
  "kernelspec": {
   "display_name": "Python [Root]",
   "language": "python",
   "name": "Python [Root]"
  },
  "language_info": {
   "codemirror_mode": {
    "name": "ipython",
    "version": 3
   },
   "file_extension": ".py",
   "mimetype": "text/x-python",
   "name": "python",
   "nbconvert_exporter": "python",
   "pygments_lexer": "ipython3",
   "version": "3.5.2"
  }
 },
 "nbformat": 4,
 "nbformat_minor": 0
}
