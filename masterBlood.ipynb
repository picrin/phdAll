{
 "cells": [
  {
   "cell_type": "markdown",
   "metadata": {},
   "source": [
    "# Analysis of microarry data from patients with myotonic dystrophy."
   ]
  },
  {
   "cell_type": "markdown",
   "metadata": {},
   "source": [
    "# Pre-process & Normalise data"
   ]
  },
  {
   "cell_type": "code",
   "execution_count": 1,
   "metadata": {
    "collapsed": false
   },
   "outputs": [],
   "source": [
    "# First check if all CEL files are present. We expect data from 35 patients\n",
    "\n",
    "import os, os.path\n",
    "\n",
    "CEL_LOCATION = os.path.join(\"CELfiles\", \"blood\")\n",
    "\n",
    "CELFILES = os.listdir(CEL_LOCATION)\n",
    "CELFILES = [file for file in CELFILES if file[-4:] == \".CEL\"]\n",
    "\n",
    "assert(len(CELFILES) == 35)"
   ]
  },
  {
   "cell_type": "code",
   "execution_count": 2,
   "metadata": {
    "collapsed": false
   },
   "outputs": [
    {
     "name": "stdout",
     "output_type": "stream",
     "text": [
      "corefile exists\n"
     ]
    }
   ],
   "source": [
    "# Carry out RMA normalisation on all CEL files. Write output to corefile This step takes a few minutes\n",
    "\n",
    "import utils\n",
    "corefile =  os.path.join(CEL_LOCATION, \"core\")\n",
    "try:\n",
    "    with open(corefile, \"rb\") as f:\n",
    "        print(\"corefile exists\")\n",
    "except FileNotFoundError:\n",
    "    utils.executeNotebook(\"normalise.ipynb\", CEL_LOCATION)\n",
    "    print(\"corefile created\")"
   ]
  },
  {
   "cell_type": "code",
   "execution_count": 3,
   "metadata": {
    "collapsed": false
   },
   "outputs": [],
   "source": [
    "# Retrieve HUAX IDs from CEL files\n",
    "\n",
    "import sys\n",
    "import re\n",
    "import json\n",
    "\n",
    "def processCELFile(basePath, lastPath):\n",
    "    relPath = os.path.join(basePath, lastPath)\n",
    "    result = \"\"\n",
    "    with open(relPath, \"rb\") as f:\n",
    "        lines = f.readlines()\n",
    "        for i, line in enumerate(lines[0:20]):\n",
    "            try:\n",
    "                result = re.search(b\"(\\d)*HUEX1A11\", line).group()\n",
    "                \n",
    "            except AttributeError:\n",
    "                pass\n",
    "    return result.decode(\"utf-8\")\n",
    "CELTOHUAX = {}\n",
    "for celfile in CELFILES:\n",
    "    CELTOHUAX[celfile] = str(processCELFile(CEL_LOCATION, celfile))"
   ]
  },
  {
   "cell_type": "code",
   "execution_count": 4,
   "metadata": {
    "collapsed": false
   },
   "outputs": [],
   "source": [
    "# Swap IDs from CEL to HUEX\n",
    "filename = os.path.join(CEL_LOCATION, \"core\")\n",
    "with open(filename, \"r\") as f:\n",
    "    lines = f.readlines()\n",
    "    swapped = [CELTOHUAX[line] for line in lines[0].rstrip().split(\"\\t\")[1:]]\n",
    "\n",
    "swappedLine = \"IDs\\t\" + \"\\t\".join(swapped)\n",
    "with open(\"normalisedFirstLine\", \"w\") as f:\n",
    "    f.write(swappedLine)\n",
    "    f.write(\"\\n\")"
   ]
  },
  {
   "cell_type": "code",
   "execution_count": 5,
   "metadata": {
    "collapsed": false
   },
   "outputs": [
    {
     "name": "stdout",
     "output_type": "stream",
     "text": [
      "stdout\n",
      "cleaning the dataset normalised.\n",
      "file cleaned written to /home/picrin/programming/phd/kurkiewicz-transcriptomics\n",
      "file containes 22017 lines\n",
      "\n",
      "sderr\n",
      "35 None None\n",
      "189676HUEX1A11\n",
      "189694HUEX1A11\n",
      "189682HUEX1A11\n",
      "189598HUEX1A11\n",
      "189688HUEX1A11\n",
      "189604HUEX1A11\n",
      "190217HUEX1A11\n",
      "189700HUEX1A11\n",
      "189706HUEX1A11\n",
      "190223HUEX1A11\n",
      "189610HUEX1A11\n",
      "189616HUEX1A11\n",
      "189622HUEX1A11\n",
      "189628HUEX1A11\n",
      "189670HUEX1A11\n",
      "189664HUEX1A11\n",
      "189730HUEX1A11\n",
      "189634HUEX1A11\n",
      "190229HUEX1A11\n",
      "190235HUEX1A11\n",
      "189640HUEX1A11\n",
      "190241HUEX1A11\n",
      "189712HUEX1A11\n",
      "190247HUEX1A11\n",
      "189718HUEX1A11\n",
      "189646HUEX1A11\n",
      "190253HUEX1A11\n",
      "189652HUEX1A11\n",
      "190259HUEX1A11\n",
      "189724HUEX1A11\n",
      "190265HUEX1A11\n",
      "189592HUEX1A11\n",
      "189586HUEX1A11\n",
      "189658HUEX1A11\n",
      "190271HUEX1A11\n",
      "189676HUEX1A11\n",
      "189694HUEX1A11\n",
      "189682HUEX1A11\n",
      "189598HUEX1A11\n",
      "189688HUEX1A11\n",
      "189604HUEX1A11\n",
      "190217HUEX1A11\n",
      "189700HUEX1A11\n",
      "189706HUEX1A11\n",
      "190223HUEX1A11\n",
      "189610HUEX1A11\n",
      "189616HUEX1A11\n",
      "189622HUEX1A11\n",
      "189628HUEX1A11\n",
      "189670HUEX1A11\n",
      "189664HUEX1A11\n",
      "189730HUEX1A11\n",
      "189634HUEX1A11\n",
      "190229HUEX1A11\n",
      "190235HUEX1A11\n",
      "189640HUEX1A11\n",
      "190241HUEX1A11\n",
      "189712HUEX1A11\n",
      "190247HUEX1A11\n",
      "189718HUEX1A11\n",
      "189646HUEX1A11\n",
      "190253HUEX1A11\n",
      "189652HUEX1A11\n",
      "190259HUEX1A11\n",
      "189724HUEX1A11\n",
      "190265HUEX1A11\n",
      "189592HUEX1A11\n",
      "189586HUEX1A11\n",
      "189658HUEX1A11\n",
      "190271HUEX1A11\n",
      "1 DM1 without modal data\n",
      "\n"
     ]
    }
   ],
   "source": [
    "# finish off the job using a bash script\n",
    "\n",
    "import subprocess\n",
    "completed = subprocess.run(\"./analyseBlood.sh\", stdout=subprocess.PIPE, stderr=subprocess.PIPE)\n",
    "print(\"stdout\")\n",
    "print(completed.stdout.decode(\"utf-8\"))\n",
    "print(\"sderr\")\n",
    "print(completed.stderr.decode(\"utf-8\"))"
   ]
  },
  {
   "cell_type": "markdown",
   "metadata": {},
   "source": [
    "# Analyse the data using Numpy"
   ]
  },
  {
   "cell_type": "code",
   "execution_count": null,
   "metadata": {
    "collapsed": true
   },
   "outputs": [],
   "source": []
  }
 ],
 "metadata": {
  "anaconda-cloud": {},
  "kernelspec": {
   "display_name": "Python [Root]",
   "language": "python",
   "name": "Python [Root]"
  },
  "language_info": {
   "codemirror_mode": {
    "name": "ipython",
    "version": 3
   },
   "file_extension": ".py",
   "mimetype": "text/x-python",
   "name": "python",
   "nbconvert_exporter": "python",
   "pygments_lexer": "ipython3",
   "version": "3.5.2"
  }
 },
 "nbformat": 4,
 "nbformat_minor": 0
}
