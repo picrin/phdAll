{
 "cells": [
  {
   "cell_type": "markdown",
   "metadata": {},
   "source": [
    "# Weekly Report 21/11/2016\n",
    "\n",
    "## Jupyter\n",
    "\n",
    "This report looks very different from the reports in the previous weeks.\n",
    "\n",
    "Following Simon's and John's suggestion I stopped running analyses as a bunch of python & bash scripts (although one bash script still remains) and refactored most of the code into jupyter notebooks. Because jupyter supports markdown, the report itself is also a part of the notebook.\n",
    "\n",
    "This proved to be more challenging than I thought, but I believe it was a worthwhile effort.\n",
    "\n",
    "The main difficulty is that various bits of analysis are written in python and R (and a few remaining lines of bash) and I needed a solution, which could run the right bit of analysis in the right time. While jupyter supports both R and python, it doesn't support mixing them within one notebook. A workaround I eventually managed to figure out is to split the analysis into multiple notbooks and execute all \"auxiliary\" notebooks from a \"master\" notebook using some internal functionality of jupyter. This may not be ideal, but it's the best I could do.\n",
    "\n",
    "Other difficulties remain: \n",
    "\n",
    "1. The report may be hard to read, because the computation of the results, their description & their presentation are interleaved. \n",
    "2. The report will become longer every week. The most relevant bits will live at the end of the notebook.\n",
    "3. Many small things are not working: installing R packages is awkward, some R functions are not supported, spellcheck doesn't work, R kernel sometimes dies for no reason, code boxes overflow in the pdf version, double quotation marks are broken in the pdf version, etc.\n",
    "\n",
    "As to the benefits of this approach:\n",
    "\n",
    "1. Jupyter is interactive, which means I don't have to wait 10 seconds on each execution of each script. This really has big impact on productivity, as each script is executed hundreds of times, i.e. on every small modification of the codebase. Using my workaround we do not lose the batch-processing capability.\n",
    "2. Jupyter supports markdown cells, which means I can document what I'm doing as I go.\n",
    "3. Jupyter supports inline plots. This is another productivity gain, as writing pngs to disk (and correctly naming them!) and then manually attaching them to latex files was slow & error-prone.\n",
    "4. It becomes easier to achieve the solution reached by Simon's former student: each compilation of dissertation leads to a full re-run of all notebooks, which in turn leads to fully reproducible research (how did this student deal with software dependencies though? A docker container could be a way...).\n",
    "\n",
    "## Are ISEs a failure of normalisation?\n",
    "\n",
    "I'm trying to validate Darren's concern raised last week (more details at the end of this notebook).\n",
    "\n",
    "## Ordering genes by their significance\n",
    "\n",
    "I order genes by their significance using ordinary linear regression and Benjamini–Hochberg procedure in python. I try the same using limma's regression in R, but there are still some problems remaining (more details in notebook analyseLimma.ipynb).\n",
    "\n",
    "## Disease-Specific effects in python\n",
    "\n",
    "I compute Disease Specific Effects (DSEs) in python and try to reproduce Wilf's results (more details at the end of this notebook).\n"
   ]
  },
  {
   "cell_type": "markdown",
   "metadata": {},
   "source": [
    "# Analysis of microarry data from patients with myotonic dystrophy."
   ]
  },
  {
   "cell_type": "markdown",
   "metadata": {},
   "source": [
    "# Pre-process & Normalise data"
   ]
  },
  {
   "cell_type": "code",
   "execution_count": 1,
   "metadata": {
    "collapsed": false
   },
   "outputs": [],
   "source": [
    "# First check if all CEL files are present. We expect data from 35 patients\n",
    "\n",
    "import os, os.path\n",
    "\n",
    "CEL_LOCATION = os.path.join(\"CEL_files\", \"blood\")\n",
    "CEL_MAPPING  = os.path.join(\"CEL_files\", \"u133mapping.xls\")\n",
    "\n",
    "CELFILES = os.listdir(CEL_LOCATION)\n",
    "CELFILES = [file for file in CELFILES if file[-4:] == \".CEL\"]\n",
    "\n",
    "assert(len(CELFILES) == 35)\n",
    "\n",
    "# Set up matplotlib\n",
    "import matplotlib as mpl\n",
    "import matplotlib.pyplot as plt\n",
    "%matplotlib inline"
   ]
  },
  {
   "cell_type": "code",
   "execution_count": 2,
   "metadata": {
    "collapsed": false
   },
   "outputs": [
    {
     "name": "stdout",
     "output_type": "stream",
     "text": [
      "corefile created\n"
     ]
    }
   ],
   "source": [
    "# Carry out RMA normalisation on all CEL files. Write output to corefile. This step takes a few minutes (unless corefile already exists).\n",
    "\n",
    "import utils\n",
    "corefile =  os.path.join(CEL_LOCATION, \"core\")\n",
    "try:\n",
    "    with open(corefile, \"rb\") as f:\n",
    "        print(\"corefile exists\")\n",
    "except FileNotFoundError:\n",
    "    utils.executeNotebook(\"normalise.ipynb\", CEL_LOCATION)\n",
    "    print(\"corefile created\")"
   ]
  },
  {
   "cell_type": "code",
   "execution_count": 3,
   "metadata": {
    "collapsed": false
   },
   "outputs": [],
   "source": [
    "# Retrieve HUAX IDs from CEL files\n",
    "\n",
    "import sys\n",
    "import re\n",
    "import json\n",
    "\n",
    "def processCELFile(basePath, lastPath):\n",
    "    relPath = os.path.join(basePath, lastPath)\n",
    "    result = \"\"\n",
    "    with open(relPath, \"rb\") as f:\n",
    "        lines = f.readlines()\n",
    "        for i, line in enumerate(lines[0:20]):\n",
    "            try:\n",
    "                result = re.search(b\"(\\d)*HUEX1A11\", line).group()\n",
    "                \n",
    "            except AttributeError:\n",
    "                pass\n",
    "    return result.decode(\"utf-8\")\n",
    "CELTOHUAX = {}\n",
    "for celfile in CELFILES:\n",
    "    CELTOHUAX[celfile] = str(processCELFile(CEL_LOCATION, celfile))"
   ]
  },
  {
   "cell_type": "code",
   "execution_count": 4,
   "metadata": {
    "collapsed": false
   },
   "outputs": [],
   "source": [
    "# Swap IDs from CEL to HUEX\n",
    "filename = os.path.join(CEL_LOCATION, \"core\")\n",
    "with open(filename, \"r\") as f:\n",
    "    lines = f.readlines()\n",
    "    swapped = [CELTOHUAX[line] for line in lines[0].rstrip().split(\"\\t\")[1:]]\n",
    "\n",
    "swappedLine = \"IDs\\t\" + \"\\t\".join(swapped)\n",
    "with open(\"normalisedFirstLine\", \"w\") as f:\n",
    "    f.write(swappedLine)\n",
    "    f.write(\"\\n\")"
   ]
  },
  {
   "cell_type": "code",
   "execution_count": 7,
   "metadata": {
    "collapsed": false,
    "scrolled": true
   },
   "outputs": [],
   "source": [
    "# Finish off the job using a bash script and a complicated python script, which pulls data from all over the place.\n",
    "\n",
    "import subprocess\n",
    "completed = subprocess.run(\"./analyseBlood.sh\", stdout=subprocess.PIPE, stderr=subprocess.PIPE)\n",
    "\n",
    "completed.check_returncode()\n",
    "\n",
    "#print(\"stdout\")\n",
    "#print(completed.stdout.decode(\"utf-8\"))\n",
    "#print(\"stderr\")\n",
    "#print(completed.stderr.decode(\"utf-8\"))"
   ]
  },
  {
   "cell_type": "markdown",
   "metadata": {},
   "source": [
    "## pre-processing & normalisation finished. File `cleaned` written to hard drive in current working directory."
   ]
  },
  {
   "cell_type": "markdown",
   "metadata": {},
   "source": [
    "# Analyse the data using Numpy\n",
    "\n",
    "1. Fit Modal allele length to each gene using ordinary linear regression.\n",
    "2. Expose the primary dataset as `CLEANED` residuals as `RESIDUALS`, Existence of Individuals Specific Effects as `RESIDUALS_PVALUES`, and Individual Specific Effects as `ISEs` and Modal Allele length as `MODAL_ALLELE`."
   ]
  },
  {
   "cell_type": "code",
   "execution_count": 6,
   "metadata": {
    "collapsed": false
   },
   "outputs": [],
   "source": [
    "# Load file `cleaned` back into python\n",
    "\n",
    "import numpy as np\n",
    "import scipy.stats\n",
    "\n",
    "filename = \"cleaned\"\n",
    "with open(filename) as f:\n",
    "    rowID = None\n",
    "    skipCount = 0\n",
    "    while rowID != \"Affymetrix\":\n",
    "        line = f.readline().rstrip().split()\n",
    "        skipCount += 1\n",
    "        rowID = line[0]\n",
    "        if rowID == \"IDs\":\n",
    "            columns = range(len(line))[1:]\n",
    "            ids = line[1:]\n",
    "        if rowID == \"ModalAllele\":\n",
    "            MODAL_ALLELE = [int(i) for i in line[1:]]\n",
    "\n",
    "with open(filename) as f:\n",
    "    CLEANED =  np.loadtxt(f, delimiter=\"\\t\", skiprows=skipCount, usecols=columns)"
   ]
  },
  {
   "cell_type": "code",
   "execution_count": 7,
   "metadata": {
    "collapsed": true
   },
   "outputs": [],
   "source": [
    "def numpyAnalysis(CLEANED):\n",
    "    RESIDUALS = np.zeros_like(CLEANED)\n",
    "\n",
    "    rowNo, columnNo = CLEANED.shape\n",
    "\n",
    "    GENE_PVALUES = []\n",
    "\n",
    "    for i in range(rowNo):\n",
    "        slope, intercept, r_value, p_value, _ = scipy.stats.linregress(MODAL_ALLELE, list(CLEANED[i]))\n",
    "        GENE_PVALUES.append(p_value)\n",
    "        expected = [slope * value + intercept for value in MODAL_ALLELE]\n",
    "        residuals = [actual - expected for actual, expected in zip(CLEANED[i], expected)]\n",
    "        for j, residual in enumerate(residuals):\n",
    "            RESIDUALS[i][j] = residual\n",
    "\n",
    "    RESIDUALS_PVALUES = []\n",
    "    ISEs = []\n",
    "    for i in range(columnNo):\n",
    "        p_value = scipy.stats.ttest_1samp(RESIDUALS[..., i], 0)[1]\n",
    "        ISEs.append(sum(RESIDUALS[..., i])/rowNo)\n",
    "        RESIDUALS_PVALUES.append(p_value)\n",
    "    return (CLEANED, RESIDUALS, RESIDUALS_PVALUES, MODAL_ALLELE, ISEs, GENE_PVALUES)"
   ]
  },
  {
   "cell_type": "code",
   "execution_count": 8,
   "metadata": {
    "collapsed": true
   },
   "outputs": [],
   "source": [
    "CLEANED, RESIDUALS, RESIDUALS_PVALUES, MODAL_ALLELE, ISEs, GENE_PVALUES = numpyAnalysis(CLEANED)\n",
    "\n",
    "_ = CLEANED # RMA normalised Affymetrix data\n",
    "_ = RESIDUALS # Residuals computed from MODAL_ALLELE\n",
    "_ = RESIDUALS_PVALUES # Existence of Individual Specific Effects (ISEs).\n",
    "_ = MODAL_ALLELE # Modal allele length\n",
    "_ = ISEs # Individual Specific Effects.\n",
    "_ = GENE_PVALUES # P-value for each gene"
   ]
  },
  {
   "cell_type": "markdown",
   "metadata": {},
   "source": [
    "## Analysing primary dataset with `numpy` finished. Appropriate variables exposed."
   ]
  },
  {
   "cell_type": "markdown",
   "metadata": {},
   "source": [
    "## Boxplot of residuals"
   ]
  },
  {
   "cell_type": "code",
   "execution_count": 9,
   "metadata": {
    "collapsed": false
   },
   "outputs": [
    {
     "data": {
      "image/png": "[encoded data removed]",
      "text/plain": [
       "<matplotlib.figure.Figure at 0x7fcdca978748>"
      ]
     },
     "metadata": {},
     "output_type": "display_data"
    }
   ],
   "source": [
    "plt.rcParams['figure.figsize'] = (12, 8)\n",
    "\n",
    "data_to_plot = [[RESIDUALS[:, i]] for i in range(CLEANED.shape[1])]\n",
    "fig = plt.figure()\n",
    "plt.boxplot(data_to_plot, showfliers=False)\n",
    "plt.show()"
   ]
  },
  {
   "cell_type": "markdown",
   "metadata": {
    "collapsed": true
   },
   "source": [
    "## y-logged graph of p-values"
   ]
  },
  {
   "cell_type": "code",
   "execution_count": 10,
   "metadata": {
    "collapsed": false
   },
   "outputs": [
    {
     "data": {
      "image/png": "[encoded data removed]",
      "text/plain": [
       "<matplotlib.figure.Figure at 0x7fcdd2667940>"
      ]
     },
     "metadata": {},
     "output_type": "display_data"
    }
   ],
   "source": [
    "import math\n",
    "fig = plt.figure()\n",
    "plt.semilogy(range(len(RESIDUALS_PVALUES)), RESIDUALS_PVALUES, marker=\"o\", lineWidth=0)\n",
    "plt.show()"
   ]
  },
  {
   "cell_type": "markdown",
   "metadata": {},
   "source": [
    "# Are ISEs a failure of normalisation?\n",
    "\n",
    "By failure of normalisation, we mean that either:\n",
    "\n",
    "1. ISEs are an artifact of slight differences in individual's mean gene expression.\n",
    "2. ISEs are an artifact of slight differences in variance of individual's gene expression.\n",
    "\n",
    "There are a few ways to check possibility 1:\n",
    "\n",
    "1. Are p-values testing for ISEs positively correlated with mean gene expression?\n",
    "2. Do ISEs disappear when we mean-adjust all the genes?"
   ]
  },
  {
   "cell_type": "markdown",
   "metadata": {},
   "source": [
    "## First compute mean Gene Expression Level (GEL) for each individual."
   ]
  },
  {
   "cell_type": "code",
   "execution_count": 11,
   "metadata": {
    "collapsed": false
   },
   "outputs": [],
   "source": [
    "CLEANED.shape[1] # this is the number of individuals in the study.\n",
    "CLEANED.shape[0] # this is the number of genes.\n",
    "\n",
    "MEAN_GEL = [] # mean gene expression levels, per individual.\n",
    "\n",
    "for i in range(CLEANED.shape[1]):\n",
    "    MEAN_GEL.append(sum(CLEANED[...,i])/CLEANED.shape[0])\n",
    "MEAN_MEAN_GEL = sum(MEAN_GEL)/len(MEAN_GEL)"
   ]
  },
  {
   "cell_type": "markdown",
   "metadata": {},
   "source": [
    "## Then plot mean expression levels against logged ISEs p-values\n",
    "1. green line is y=0.05\n",
    "2. red line is x=`MEAN_MEAN_GEL`, where `MEAN_MEAN_GEL` is a mean expression level of all genes from all individuals."
   ]
  },
  {
   "cell_type": "code",
   "execution_count": 12,
   "metadata": {
    "collapsed": false
   },
   "outputs": [
    {
     "data": {
      "image/png": "[encoded data removed]",
      "text/plain": [
       "<matplotlib.figure.Figure at 0x7fcdd2492e10>"
      ]
     },
     "metadata": {},
     "output_type": "display_data"
    }
   ],
   "source": [
    "\n",
    "fig = plt.figure()\n",
    "plt.semilogy(MEAN_GEL, RESIDUALS_PVALUES, marker=\"o\", lineWidth=0)\n",
    "plt.semilogy([6.94, 6.99], [0.05, 0.05])\n",
    "plt.semilogy([MEAN_MEAN_GEL]*2, [pow(10, -97), 1])\n",
    "plt.show()"
   ]
  },
  {
   "cell_type": "markdown",
   "metadata": {
    "collapsed": false
   },
   "source": [
    "## And plot mean expression levels against ISEs."
   ]
  },
  {
   "cell_type": "code",
   "execution_count": 13,
   "metadata": {
    "collapsed": false
   },
   "outputs": [
    {
     "name": "stdout",
     "output_type": "stream",
     "text": [
      "[-0.013935456665220074, 0.017040287567289841, -0.017003227917241986, -0.021937392573411346, 0.00078281609340902984, -0.0057607427767414343, 0.015487530212061298, -0.016400191519639343, 0.026643724723785744, 0.003554578575479131, -0.013215361099444201, 0.00020429397438447431, -0.018467578698052628, -0.026416144604514556, 0.027738593746718936, -0.0010916148963347279, -0.0025603655935914865, 0.0068049669144389585, 0.0047739750708518883, 0.013490809744851355, 0.00095244322519862264, 0.0010146195837047274, -0.010007505257484523, 0.036736920440021532, 0.016269300561427606, 0.0039190457976842428, 0.012928986722654835, -0.012848886138289904, -0.0032486581944021951, -0.017308566846031999, 0.0036862450091910432, -0.010497705179341871, -0.01141539180556074, 0.0094169324971336739, 0.00066871930501607828]\n"
     ]
    },
    {
     "data": {
      "image/png": "[encoded data removed]",
      "text/plain": [
       "<matplotlib.figure.Figure at 0x7fcdcb97fac8>"
      ]
     },
     "metadata": {},
     "output_type": "display_data"
    }
   ],
   "source": [
    "def make_plot_PValues(MEAN_GEL, ISEs):\n",
    "    fig = plt.figure()\n",
    "    plt.scatter(MEAN_GEL, ISEs, marker=\"o\")#, lineWidth=0, label=\"hello\"\n",
    "    print(ISEs)\n",
    "    plt.ylim([min(ISEs), max(ISEs)])\n",
    "    plt.show()\n",
    "\n",
    "make_plot_PValues(MEAN_GEL, ISEs)"
   ]
  },
  {
   "cell_type": "markdown",
   "metadata": {},
   "source": [
    "### These plots suggest that both existence and value of ISEs depends on the mean GEL in each individual. However, a closer look at the p-values plot suggests that this may not be the entire story -- we still end up with some really small p-values (1/300) -- even very close around the mean.\n",
    "\n",
    "1. green line is y=0.05\n",
    "2. red line is x=`MEAN_MEAN_GEL`, where `MEAN_MEAN_GEL` is a mean expression level of all genes from all individuals."
   ]
  },
  {
   "cell_type": "code",
   "execution_count": 14,
   "metadata": {
    "collapsed": false
   },
   "outputs": [
    {
     "data": {
      "image/png": "[encoded data removed]",
      "text/plain": [
       "<matplotlib.figure.Figure at 0x7fcdcb9def60>"
      ]
     },
     "metadata": {},
     "output_type": "display_data"
    }
   ],
   "source": [
    "def make_plot_means_vs_PValues(MEAN_MEAN_GEL, RESIDUALS_PVALUES, MEAN_GEL):\n",
    "    fig = plt.figure()\n",
    "    xrange = [MEAN_MEAN_GEL - 0.02, MEAN_MEAN_GEL + 0.02]\n",
    "    yrange = [min(RESIDUALS_PVALUES), 1]\n",
    "    plt.semilogy(MEAN_GEL, RESIDUALS_PVALUES, marker=\"o\", lineWidth=0)\n",
    "    plt.semilogy(xrange, [0.05, 0.05])\n",
    "    plt.semilogy([MEAN_MEAN_GEL]*2, yrange)\n",
    "    plt.xlim(xrange)\n",
    "    plt.ylim(yrange)\n",
    "    plt.show()\n",
    "make_plot_means_vs_PValues(MEAN_MEAN_GEL, RESIDUALS_PVALUES, MEAN_GEL)"
   ]
  },
  {
   "cell_type": "markdown",
   "metadata": {},
   "source": [
    "## Due to the fact that ISEs are very much mean-sensitive, we should consider whether we can mean-adjust in order to get better results."
   ]
  },
  {
   "cell_type": "code",
   "execution_count": 15,
   "metadata": {
    "collapsed": false
   },
   "outputs": [
    {
     "ename": "NameError",
     "evalue": "name 'MEANS' is not defined",
     "output_type": "error",
     "traceback": [
      "\u001b[1;31m---------------------------------------------------------------------------\u001b[0m",
      "\u001b[1;31mNameError\u001b[0m                                 Traceback (most recent call last)",
      "\u001b[1;32m<ipython-input-15-013fef2f8c25>\u001b[0m in \u001b[0;36m<module>\u001b[1;34m()\u001b[0m\n\u001b[0;32m      2\u001b[0m \u001b[1;33m\u001b[0m\u001b[0m\n\u001b[0;32m      3\u001b[0m \u001b[1;32mfor\u001b[0m \u001b[0mj\u001b[0m \u001b[1;32min\u001b[0m \u001b[0mrange\u001b[0m\u001b[1;33m(\u001b[0m\u001b[0mCLEANED\u001b[0m\u001b[1;33m.\u001b[0m\u001b[0mshape\u001b[0m\u001b[1;33m[\u001b[0m\u001b[1;36m1\u001b[0m\u001b[1;33m]\u001b[0m\u001b[1;33m)\u001b[0m\u001b[1;33m:\u001b[0m\u001b[1;33m\u001b[0m\u001b[0m\n\u001b[1;32m----> 4\u001b[1;33m     \u001b[0mMEANS\u001b[0m\u001b[1;33m.\u001b[0m\u001b[0mappend\u001b[0m\u001b[1;33m(\u001b[0m\u001b[0msum\u001b[0m\u001b[1;33m(\u001b[0m\u001b[0mCLEANED\u001b[0m\u001b[1;33m[\u001b[0m\u001b[1;33m:\u001b[0m\u001b[1;33m,\u001b[0m\u001b[0mj\u001b[0m\u001b[1;33m]\u001b[0m\u001b[1;33m)\u001b[0m\u001b[1;33m/\u001b[0m\u001b[0mCLEANED\u001b[0m\u001b[1;33m.\u001b[0m\u001b[0mshape\u001b[0m\u001b[1;33m[\u001b[0m\u001b[1;36m0\u001b[0m\u001b[1;33m]\u001b[0m\u001b[1;33m)\u001b[0m\u001b[1;33m\u001b[0m\u001b[0m\n\u001b[0m\u001b[0;32m      5\u001b[0m \u001b[1;33m\u001b[0m\u001b[0m\n\u001b[0;32m      6\u001b[0m \u001b[0mMEAN_GENE_ADJUSTMENT\u001b[0m \u001b[1;33m=\u001b[0m \u001b[1;33m[\u001b[0m\u001b[1;33m]\u001b[0m\u001b[1;33m\u001b[0m\u001b[0m\n",
      "\u001b[1;31mNameError\u001b[0m: name 'MEANS' is not defined"
     ]
    }
   ],
   "source": [
    "# First, compute MEAN_GENE_ADJUSTMENTS\n",
    "\n",
    "for j in range(CLEANED.shape[1]):\n",
    "    MEANS.append(sum(CLEANED[:,j])/CLEANED.shape[0])\n",
    "\n",
    "MEAN_GENE_ADJUSTMENT = []\n",
    "\n",
    "for k in range(len(MEAN_GEL)):\n",
    "    MEAN_GENE_ADJUSTMENT.append(MEAN_GEL[k] - MEAN_MEAN_GEL)\n",
    "\n",
    "print(MEANS[:5])"
   ]
  },
  {
   "cell_type": "code",
   "execution_count": null,
   "metadata": {
    "collapsed": false
   },
   "outputs": [],
   "source": [
    "# Then, compute ADJUSTED_CLEANED\n",
    "\n",
    "ADJUSTED_CLEANED = np.copy(CLEANED)\n",
    "for i in range(CLEANED.shape[0]):\n",
    "    for j in range(CLEANED.shape[1]):\n",
    "        ADJUSTED_CLEANED[i][j] -= MEAN_GENE_ADJUSTMENT[j]\n",
    "\n",
    "adjusted_means = []\n",
    "\n",
    "for j in range(ADJUSTED_CLEANED.shape[1]):\n",
    "    adjusted_means.append(sum(ADJUSTED_CLEANED[:,j])/ADJUSTED_CLEANED.shape[0])"
   ]
  },
  {
   "cell_type": "markdown",
   "metadata": {},
   "source": [
    "## And now we can test how this adjustment influences our data."
   ]
  },
  {
   "cell_type": "code",
   "execution_count": null,
   "metadata": {
    "collapsed": false
   },
   "outputs": [],
   "source": [
    "ADJUSTED_CLEANED, ADJUSTED_RESIDUALS, ADJUSTED_RESIDUALS_PVALUES, ADJUSTED_MODAL_ALLELE, ADJUSTED_ISEs, ADJUSTED_GENE_PVALUES = numpyAnalysis(ADJUSTED_CLEANED)"
   ]
  },
  {
   "cell_type": "code",
   "execution_count": null,
   "metadata": {
    "collapsed": false
   },
   "outputs": [],
   "source": [
    "make_plot_PValues(MEAN_GEL, ADJUSTED_ISEs)"
   ]
  },
  {
   "cell_type": "markdown",
   "metadata": {},
   "source": [
    "As you can see, mean-adjusting the values removes ISEs entirely, i.e. they nearly disappear (they aren't significantly greater than)."
   ]
  },
  {
   "cell_type": "markdown",
   "metadata": {},
   "source": [
    "## Finally, as this appears to lead to better normalisation, we can mean adjust our data and recompute data-related global variables"
   ]
  },
  {
   "cell_type": "code",
   "execution_count": null,
   "metadata": {
    "collapsed": true
   },
   "outputs": [],
   "source": [
    "CLEANED, RESIDUALS, RESIDUALS_PVALUES, MODAL_ALLELE, ISEs, GENE_PVALUES = ADJUSTED_CLEANED, ADJUSTED_RESIDUALS, ADJUSTED_RESIDUALS_PVALUES, ADJUSTED_MODAL_ALLELE, ADJUSTED_ISEs, ADJUSTED_GENE_PVALUES "
   ]
  },
  {
   "cell_type": "markdown",
   "metadata": {},
   "source": [
    "# Gene significance using Benjamini-Hochberg\n",
    "\n",
    "## first, load transcription cluster ids from `cleaned`"
   ]
  },
  {
   "cell_type": "code",
   "execution_count": null,
   "metadata": {
    "collapsed": false
   },
   "outputs": [],
   "source": [
    "filename = \"cleaned\"\n",
    "\n",
    "T_CLUSTER_IDS = []\n",
    "\n",
    "MAP_T_CLUSTER_INDEX = {}\n",
    "\n",
    "read = False\n",
    "with open(\"cleaned\") as f:\n",
    "    lines = f.readlines()\n",
    "    i = 0\n",
    "    for line in lines:\n",
    "        line = line.rstrip().split(\"\\t\")\n",
    "        if read:\n",
    "            T_CLUSTER_IDS.append(line[0])\n",
    "            MAP_T_CLUSTER_INDEX[line[0]] = i\n",
    "            i += 1\n",
    "        if line:\n",
    "            if line[0] == \"Affymetrix\":\n",
    "                read = True\n",
    "\n",
    "assert(len(T_CLUSTER_IDS) == len(GENE_PVALUES))"
   ]
  },
  {
   "cell_type": "markdown",
   "metadata": {},
   "source": [
    "## Then sort genes in ascending order of GENE_PVALUES"
   ]
  },
  {
   "cell_type": "code",
   "execution_count": null,
   "metadata": {
    "collapsed": false
   },
   "outputs": [],
   "source": [
    "benjhoch = list(zip(GENE_PVALUES, T_CLUSTER_IDS))\n",
    "benjhoch.sort()"
   ]
  },
  {
   "cell_type": "markdown",
   "metadata": {},
   "source": [
    "## Then multiply each gene by m/k, where m is the number of hypotheses tested and k = 1, ...,  m"
   ]
  },
  {
   "cell_type": "code",
   "execution_count": null,
   "metadata": {
    "collapsed": false
   },
   "outputs": [],
   "source": [
    "m = len(benjhoch)\n",
    "k = range(1, len(benjhoch) + 1)\n",
    "sortedGenes = [((a[0] * m)/(b), a[1]) for a, b in zip(benjhoch, k)]\n",
    "\n",
    "# unit test for least significat gene\n",
    "test1 = min(GENE_PVALUES) * m\n",
    "test2 = sortedGenes[0][0]\n",
    "assert(abs(test1 - test2) < pow(10, -10))\n",
    "\n",
    "# unit test for most significat gene\n",
    "test1 = max(GENE_PVALUES)\n",
    "test2 = sortedGenes[-1][0]\n",
    "assert(abs(test1 - test2) < pow(10, -10))\n",
    "\n",
    "# unit test for least significant gene in a different way\n",
    "\n",
    "geneID = sortedGenes[0][1]\n",
    "uncorrected = GENE_PVALUES[MAP_T_CLUSTER_INDEX[geneID]]\n",
    "assert(uncorrected * m == min(GENE_PVALUES) * m)"
   ]
  },
  {
   "cell_type": "markdown",
   "metadata": {},
   "source": [
    "# Then answer the question: for any given $\\alpha$, where $\\alpha$ is the cutoff between $[0, 1]$, how many genes can we detect as significant?"
   ]
  },
  {
   "cell_type": "code",
   "execution_count": null,
   "metadata": {
    "collapsed": false
   },
   "outputs": [],
   "source": [
    "movingMin = sortedGenes[0][0]\n",
    "\n",
    "alphas = [0.001 * i for i in range(1001)]\n",
    "\n",
    "def genesForAlpha(sortedGenes, alpha):\n",
    "    lastGene = -1\n",
    "    for i, geneTuple in enumerate(sortedGenes):\n",
    "        significance, geneID = geneTuple\n",
    "        if significance < alpha:\n",
    "            lastGene = i\n",
    "    if lastGene >= 0:\n",
    "        return sortedGenes[0:lastGene + 1]\n",
    "    else:\n",
    "        return []\n",
    "\n",
    "geneCount = [len(genesForAlpha(sortedGenes, alpha)) for alpha in alphas]\n",
    "\n",
    "plt.plot(alphas, geneCount)\n",
    "plt.xlabel(\"alpha\")\n",
    "plt.ylabel(\"genes\")\n",
    "plt.show()"
   ]
  },
  {
   "cell_type": "markdown",
   "metadata": {},
   "source": [
    "## zoom into into the \"few genes\" region"
   ]
  },
  {
   "cell_type": "code",
   "execution_count": null,
   "metadata": {
    "collapsed": false
   },
   "outputs": [],
   "source": [
    "plt.rcParams['figure.figsize'] = (12, 8)\n",
    "plt.plot(alphas, geneCount)\n",
    "plt.ylim(0, 10)\n",
    "plt.xlabel(\"alpha\")\n",
    "plt.ylabel(\"genes\")\n",
    "plt.show()"
   ]
  },
  {
   "cell_type": "markdown",
   "metadata": {},
   "source": [
    "## Or give a list of transcription clusters with FDR of 40%"
   ]
  },
  {
   "cell_type": "code",
   "execution_count": null,
   "metadata": {
    "collapsed": false
   },
   "outputs": [],
   "source": [
    "genesForAlpha(sortedGenes, 0.40)"
   ]
  },
  {
   "cell_type": "markdown",
   "metadata": {},
   "source": [
    "## Or give a list of transcription clusters with FDR of 50%"
   ]
  },
  {
   "cell_type": "code",
   "execution_count": null,
   "metadata": {
    "collapsed": false
   },
   "outputs": [],
   "source": [
    "alpha = 0.50\n",
    "sigGenes = genesForAlpha(sortedGenes, alpha)\n",
    "noSigGenes = len(sigGenes)\n",
    "print(\"number of genes at alpha\", alpha, \"is\", noSigGenes)\n",
    "print(\"the 2 genes around the boundary have significance\", sortedGenes[noSigGenes - 1][0], sortedGenes[noSigGenes][0])\n",
    "print(\"the first 5 genes are\")\n",
    "sigGenes[:5]"
   ]
  },
  {
   "cell_type": "markdown",
   "metadata": {},
   "source": [
    "This is strange. Such a sudden raise in detected genes is quite surprising (2 genes vs 803, FDR of 40% vs FDR of 50%). I hope that reviewing the proof of Benjamini-Hochberg for my literature review is going to help me understand why this is allowed to happen (Unless this is a bug in my program, probability is playing around with my intuition)."
   ]
  },
  {
   "cell_type": "markdown",
   "metadata": {},
   "source": [
    "# Disease Specific Effects\n",
    "\n",
    "## Let us partition the genes at FDR of 50% into 2 groups randomly. Let us compute the DSE of one group, apply it to the other group and check if it helps improve significance.\n"
   ]
  },
  {
   "cell_type": "code",
   "execution_count": null,
   "metadata": {
    "collapsed": false
   },
   "outputs": [],
   "source": [
    "# first, partition genes into random groups\n",
    "import random\n",
    "random.shuffle(sigGenes)\n",
    "genesA = sigGenes[:noSigGenes//2]\n",
    "genesB = sigGenes[noSigGenes//2:]"
   ]
  },
  {
   "cell_type": "code",
   "execution_count": null,
   "metadata": {
    "collapsed": false
   },
   "outputs": [],
   "source": [
    "# unit test our map\n",
    "test1 = CLEANED[MAP_T_CLUSTER_INDEX[\"2315554\"]][0]\n",
    "test2 = 7.54562452199732\n",
    "\n",
    "# No longer true after readjustments\n",
    "#assert(abs(test1 - test2) <= pow(10, -10))\n",
    "\n",
    "# compute Disease Specific effects\n",
    "\n",
    "def computeDSE(CLEANED, RESIDUALS, genesA, genesB):\n",
    "    DSE = [0] * CLEANED.shape[1]\n",
    "    relevantGenesAIndex = [MAP_T_CLUSTER_INDEX[t_cluster_id] for _, t_cluster_id in genesA]\n",
    "    relevantGenesBIndex = [MAP_T_CLUSTER_INDEX[t_cluster_id] for _, t_cluster_id in genesB]\n",
    "\n",
    "    for i in range(CLEANED.shape[1]):\n",
    "        relevantResiduals = [RESIDUALS[j,i] for j in relevantGenesAIndex]\n",
    "        DSE[i] = sum(relevantResiduals)/len(relevantResiduals)\n",
    "\n",
    "    # copy CLEANED into another array\n",
    "    DSE_ADJUSTED = np.copy(CLEANED)\n",
    "\n",
    "    # adjust genes in set B with DSEs computed from genes in set A\n",
    "    for i in relevantGenesBIndex:\n",
    "        for j in range(CLEANED.shape[1]):\n",
    "            DSE_ADJUSTED[i][j] -= DSE[j]\n",
    "    return DSE_ADJUSTED, relevantGenesBIndex\n",
    "\n",
    "def computeReverseDSE(CLEANED, RESIDUALS, genesA, genesB):\n",
    "    DSE = [0] * CLEANED.shape[1]\n",
    "    relevantGenesAIndex = [MAP_T_CLUSTER_INDEX[t_cluster_id] for _, t_cluster_id in genesA]\n",
    "    relevantGenesBIndex = [MAP_T_CLUSTER_INDEX[t_cluster_id] for _, t_cluster_id in genesB]\n",
    "\n",
    "    for i in range(CLEANED.shape[1]):\n",
    "        relevantResiduals = [RESIDUALS[j,i] for j in relevantGenesAIndex]\n",
    "        DSE[i] = sum(relevantResiduals)/len(relevantResiduals)\n",
    "\n",
    "    # copy CLEANED into another array\n",
    "    DSE_ADJUSTED = np.copy(CLEANED)\n",
    "\n",
    "    # adjust genes in set B with DSEs computed from genes in set A\n",
    "    for i in relevantGenesBIndex:\n",
    "        for j in range(CLEANED.shape[1]):\n",
    "            DSE_ADJUSTED[i][j] += DSE[j]\n",
    "    return DSE_ADJUSTED, relevantGenesBIndex\n",
    "\n",
    "\n",
    "DSE_ADJUSTED, relevantGenesBIndex = computeDSE(CLEANED, RESIDUALS, genesA, genesB)"
   ]
  },
  {
   "cell_type": "markdown",
   "metadata": {},
   "source": [
    "## Now, let's repeat the numpy analysis using `DSE_ADJUSTED`"
   ]
  },
  {
   "cell_type": "code",
   "execution_count": null,
   "metadata": {
    "collapsed": false
   },
   "outputs": [],
   "source": [
    "CLEANED_B, RESIDUALS_B, RESIDUALS_PVALUES_B, MODAL_ALLELE_B, ISEs_B, GENE_PVALUES_B = numpyAnalysis(DSE_ADJUSTED)"
   ]
  },
  {
   "cell_type": "markdown",
   "metadata": {},
   "source": [
    "## Now, let's count in how many cases the p-values have improved"
   ]
  },
  {
   "cell_type": "code",
   "execution_count": null,
   "metadata": {
    "collapsed": false
   },
   "outputs": [],
   "source": [
    "#print(relevantGenesBIndex)\n",
    "\n",
    "def fractionImprovedPValues(GENE_PVALUES, GENE_PVALUES_B, relevantGenesBIndex):\n",
    "    previousPValues = [GENE_PVALUES[i] for i in relevantGenesBIndex]\n",
    "    currentPValues = [GENE_PVALUES_B[i] for i in relevantGenesBIndex]\n",
    "    countSmaller = 0\n",
    "    for i, _ in enumerate(relevantGenesBIndex):\n",
    "        if (currentPValues[i] < previousPValues[i]):\n",
    "            countSmaller += 1\n",
    "    return countSmaller/len(currentPValues)\n",
    "\n",
    "fractionImproved = fractionImprovedPValues(GENE_PVALUES, GENE_PVALUES_B, relevantGenesBIndex)\n",
    "\n",
    "print(\"P-values have improved in\", fractionImproved, \"fraction of cases\")\n",
    "print(\"P-values have worsened in\", 1 - fractionImproved, \"fraction of cases\")"
   ]
  },
  {
   "cell_type": "markdown",
   "metadata": {},
   "source": [
    "The values printed in the previous cells are random and determined by a particular random seed, but from running it a couple of times I've seen both fractions to be rather similar."
   ]
  },
  {
   "cell_type": "markdown",
   "metadata": {
    "collapsed": true
   },
   "source": [
    "# Progress Report 08/12/2016\n",
    "\n",
    "## Biopython\n",
    "\n",
    "I have written a parser, which allows one to access raw probe data from the Affymetrix CEL files version 4 (which is what we're working with). My work gained interest of a large open-source bioinformatics package called Biopython. I discussed contributing this parser to Biopython with the maintainer of this package, Peter Cock.\n",
    "\n",
    "After very scrupulous code review, writing a lot of unit testing, clearing out all of Peter's doubts about the code, and fixing multiple issues in the code, primarly to do with error handling, my contribution has been accepted into the project, and will be available as of the next release (whenever that happens). This is the link to the contribution:\n",
    "\n",
    "https://github.com/biopython/biopython/commit/6c14a26dda32ad6d3147036a01f3d0c4d306c647\n",
    "\n",
    "And the dicussion, which I and Peter Cock had about it:\n",
    "\n",
    "issue tracker:\n",
    "\n",
    "https://github.com/biopython/biopython/issues/1008\n",
    "\n",
    "pull request:\n",
    "\n",
    "https://github.com/biopython/biopython/pull/1011\n",
    "\n",
    "There are a number benefits to this contribution of both political and scientific value.\n",
    "\n",
    "Political:\n",
    "\n",
    "- If we discover any new interesting pipeline we will find it much easier to distribute it as part of biopython (as opposed to distributing it ourselves).\n",
    "- We're doing a good service to the community.\n",
    "\n",
    "Scientific:\n",
    "\n",
    "1. We can now easily detect/fix some of the issue with our data:\n",
    "\n",
    " - Aren't all of our probes oversaturated/ undersaturated?\n",
    " - How do we know if a probe is broken (or there is a scratch on the microarray)?\n",
    " - RMA doesn't normalise means, can we write our own better-RMA?\n",
    "\n",
    "2. We get an extra pair of eyeballs on the code, which should make it less buggy.\n",
    "\n",
    "What the parser gives us is ~5.5 million of triplets of\n",
    "the form:\n",
    "\n",
    "(double, double, integer)\n",
    "\n",
    "The last number is the number of pixels per probe from which an\n",
    "intensity measurement was taken. This is always 9.\n",
    "\n",
    "The first number is the average intensity of these pixels.\n",
    "\n",
    "The middle number is the standard deviation.\n",
    "\n",
    "The following are the first few triplets:\n",
    "\n",
    "    (7326.0, 875.0999755859375,  9)\n",
    "    (162.0,  34.099998474121094, 9)\n",
    "    (6933.0, 1001.0,             9)\n",
    "    (224.0,  36.400001525878906, 9)\n",
    "    (54.0,   6.0,                9)\n",
    "    (247.0,  23.5,               9)\n",
    "    (210.0,  18.299999237060547, 9)\n",
    "\n",
    "## Literature Review\n",
    "\n",
    "I've started writing the literature review (the deadline is 16th of January). That's also attached. \n",
    "\n",
    "## Comparing my list of genes with John's.\n",
    "\n",
    "There are 3 approaches to this analysis:\n",
    "\n",
    "Mine:\n",
    "1. Use RMA + standard linear regression (Adam1)\n",
    "2. Use RMA + Limma (Adam2)\n",
    "\n",
    "John's:\n",
    "1. Use DChip + Limma (John1)\n",
    "\n",
    "I make a pair-wise comparison of them looking at top 10 results:\n",
    "1. (Adam1 vs John1)\n",
    "2. (Adam1 vs Adam2)\n",
    "3. (Adam2 vs John1)\n",
    "\n",
    "## Wilf's results\n",
    "\n",
    "I've re-read Wilf's report and tried to compare his analysis to mine, and which bits are missing.\n",
    "\n",
    "As Darren pointed out, Wilf considered a few measures of DSEs, in both blood and muscle:\n",
    "\n",
    "- Bl-GSE -- Genome-Wide Specific effect.\n",
    "- Bl-DSE-100 -- Disease Specific effect for the top 100 genes.\n",
    "- Bl-DSE-800 -- Disease Specific effect for the top 800 genes.\n",
    "- Bl-DSE-101-800 -- Disease Specific effect for the top 800 genes excluding top 100 genes.\n",
    "- Bl-GSE-DSE-800 -- I don't get that one. maybe average of the two?\n",
    "\n",
    "For muscle, replace \"Bl\" with \"M\".\n",
    "\n",
    "He then produced a graph like this:\n",
    "\n",
    "![Wilf DSEs](WilfISEs.jpg)\n",
    "\n",
    "I'm trying to reproduce this result using my approach."
   ]
  },
  {
   "cell_type": "markdown",
   "metadata": {},
   "source": [
    "# Comparing my list of genes with John's."
   ]
  },
  {
   "cell_type": "markdown",
   "metadata": {
    "collapsed": true
   },
   "source": [
    "## (Adam1, John1)"
   ]
  },
  {
   "cell_type": "code",
   "execution_count": null,
   "metadata": {
    "collapsed": false,
    "scrolled": true
   },
   "outputs": [],
   "source": [
    "# The following genes are the 10 most significant genes in blood I have identified using regular regression:\n",
    "sortedGenes[:10]"
   ]
  },
  {
   "cell_type": "code",
   "execution_count": null,
   "metadata": {
    "collapsed": false,
    "scrolled": false
   },
   "outputs": [],
   "source": [
    "# Let us load in the genes, which John identified as significant in his\n",
    "# analysis using Limma.\n",
    "def loadLimma(filename):\n",
    "    JohnsGenes = []\n",
    "    with open(filename) as f:\n",
    "        lines = f.readlines()\n",
    "        for lineI, line in enumerate(lines):\n",
    "            line = line.rstrip().split(\" \")\n",
    "            line = [i.strip('\"') for i in line]\n",
    "            if lineI == 0:\n",
    "                if \"ID\" not in line:\n",
    "                    line = [\"ID\"] + line\n",
    "                IDIndex = line.index(\"ID\")\n",
    "                PValue = line.index(\"adj.P.Val\")\n",
    "            else:\n",
    "                gene = (line[IDIndex], float(line[PValue]))\n",
    "                JohnsGenes.append(gene)\n",
    "    return JohnsGenes\n",
    "\n",
    "def loadLimmaPValue(filename):\n",
    "    JohnsGenes = []\n",
    "    with open(filename) as f:\n",
    "        lines = f.readlines()\n",
    "        for lineI, line in enumerate(lines):\n",
    "            line = line.rstrip().split(\" \")\n",
    "            line = [i.strip('\"') for i in line]\n",
    "            if lineI == 0:\n",
    "                if \"ID\" not in line:\n",
    "                    line = [\"ID\"] + line\n",
    "                IDIndex = line.index(\"ID\")\n",
    "                PValue = line.index(\"P.Value\")\n",
    "            else:\n",
    "                gene = (line[IDIndex], float(line[PValue]))\n",
    "                JohnsGenes.append(gene)\n",
    "    return JohnsGenes\n",
    "\n",
    "# Interestingly, Limma reports John's genes to be more significant than mine\n",
    "# (although arguably the comparison isn't apples-to-apples, because John is\n",
    "# choosing his genes from ~40k as opposed to from ~20k, so values should be\n",
    "# adjusted using a different, ~2 times larger constant).\n",
    "JohnsGenes = loadLimma(\"JohnsGenes.csv\")\n",
    "JohnsGenes"
   ]
  },
  {
   "cell_type": "markdown",
   "metadata": {},
   "source": [
    "### Let us load into memory a (1:many) mapping from u133 IDs to HuEx transcription cluster IDs (I took the file from Ralf Krahe)."
   ]
  },
  {
   "cell_type": "code",
   "execution_count": null,
   "metadata": {
    "collapsed": false
   },
   "outputs": [],
   "source": [
    "with open(CEL_MAPPING) as f:\n",
    "    result = 10\n",
    "    lines = f.readlines()\n",
    "    u133Map = {}\n",
    "    for line in lines:\n",
    "        line = line.strip().split(\"\\t\")\n",
    "        u133Map[line[0]] = line[1].split()"
   ]
  },
  {
   "cell_type": "code",
   "execution_count": null,
   "metadata": {
    "collapsed": false
   },
   "outputs": [],
   "source": [
    "# Check to how many HuEx IDs John's IDs actually map\n",
    "\n",
    "from itertools import chain\n",
    "\n",
    "JohnsGenesIDs = [geneTuple[0] for geneTuple in JohnsGenes]\n",
    "\n",
    "#for geneID in JohnsGenesIDs:\n",
    "#    print(geneID)\n",
    "\n",
    "unflattenedIDs = [u133Map[geneID] for geneID in JohnsGenesIDs]\n",
    "IDs = chain.from_iterable(unflattenedIDs)\n",
    "IDs = [i for i in IDs]"
   ]
  },
  {
   "cell_type": "code",
   "execution_count": null,
   "metadata": {
    "collapsed": false
   },
   "outputs": [],
   "source": [
    "print(\"This is how many John's IDs we have:\")\n",
    "print(len(JohnsGenesIDs))\n",
    "print(\"This is how many HuEx IDs we get from John's IDs:\")\n",
    "print(len(IDs))"
   ]
  },
  {
   "cell_type": "markdown",
   "metadata": {},
   "source": [
    "### As can be seen in the previous cell, we have 55 HuEx IDs from 10 U133 IDs."
   ]
  },
  {
   "cell_type": "code",
   "execution_count": null,
   "metadata": {
    "collapsed": false
   },
   "outputs": [],
   "source": [
    "myGenes = set(i[1] for i in sortedGenes[:10])\n",
    "johnsGenes = set(IDs)\n",
    "print(myGenes)\n",
    "print(johnsGenes)\n",
    "\n",
    "# unit test semantics\n",
    "setA = set([\"123\"])\n",
    "setB = set([\"234\", \"123\"])\n",
    "assert([i for i in setA.intersection(setB)][0] == \"123\")"
   ]
  },
  {
   "cell_type": "code",
   "execution_count": null,
   "metadata": {
    "collapsed": false
   },
   "outputs": [],
   "source": [
    "myGenes.intersection(johnsGenes)"
   ]
  },
  {
   "cell_type": "markdown",
   "metadata": {},
   "source": [
    "### Unfortunately, my analysis and John's analysis entirely disagree on the top 10 genes (transcription clusters).\n",
    "\n",
    "There are various possibilities as to why that is:\n",
    "1. We normalised in a different way.\n",
    "2. The mapping from U133 probesets to HuEx transcription clusters is inaccurate.\n",
    "2. Limma is significantly different from standard linear regression. We can check that by keeping normalisation the same and changing the linear model, i.e. (Adam1, Adam2)."
   ]
  },
  {
   "cell_type": "markdown",
   "metadata": {},
   "source": [
    "## (Adam1, Adam2)"
   ]
  },
  {
   "cell_type": "code",
   "execution_count": null,
   "metadata": {
    "collapsed": true
   },
   "outputs": [],
   "source": [
    "# let us first run Limma on RMA-normalised `cleaned`.\n",
    "utils.executeNotebook(\"analyseLimma.ipynb\", \".\")"
   ]
  },
  {
   "cell_type": "code",
   "execution_count": null,
   "metadata": {
    "collapsed": false
   },
   "outputs": [],
   "source": [
    "Adam2Genes = loadLimma(\"cleanedLimma\")\n",
    "Adam2GenesPValue = loadLimmaPValue(\"cleanedLimma\")"
   ]
  },
  {
   "cell_type": "code",
   "execution_count": null,
   "metadata": {
    "collapsed": false
   },
   "outputs": [],
   "source": [
    "print(\"The most significant 10 genes\")\n",
    "print(Adam2Genes[:10])\n",
    "print(JohnsGenes[:10])\n",
    "[adam[1]/john[1] for adam, john in zip(Adam2Genes[:10], JohnsGenes[:10])]"
   ]
  },
  {
   "cell_type": "code",
   "execution_count": null,
   "metadata": {
    "collapsed": false
   },
   "outputs": [],
   "source": [
    "print(\"The least significant 10 genes\")\n",
    "Adam2Genes[-10:]"
   ]
  },
  {
   "cell_type": "markdown",
   "metadata": {},
   "source": [
    "### This is as expected.\n",
    "\n",
    "On a separate note, the author of limma, Gordon Smyth, argues that p-values are not suitable measure of significance in genomic analysis. He prefers \"fold changes\", but I haven't yet understood his argumentation:\n",
    "http://www.slideshare.net/AustralianBioinformatics/the-value-of-p-values-gordon-smyth"
   ]
  },
  {
   "cell_type": "code",
   "execution_count": null,
   "metadata": {
    "collapsed": true
   },
   "outputs": [],
   "source": [
    "# Let us now check how many of these genes actually agree.\n",
    "\n",
    "removeX = [geneID[1:] for geneID, pValue in Adam2Genes[:10]]"
   ]
  },
  {
   "cell_type": "code",
   "execution_count": null,
   "metadata": {
    "collapsed": false
   },
   "outputs": [],
   "source": [
    "myGenes2 = set(removeX)\n",
    "len(myGenes2.intersection(myGenes))"
   ]
  },
  {
   "cell_type": "markdown",
   "metadata": {},
   "source": [
    "### As expected, we see 8/10 genes in common."
   ]
  },
  {
   "cell_type": "markdown",
   "metadata": {},
   "source": [
    "## Finally, we can compute (Adam2, John1)"
   ]
  },
  {
   "cell_type": "code",
   "execution_count": null,
   "metadata": {
    "collapsed": false
   },
   "outputs": [],
   "source": [
    "print(myGenes2)"
   ]
  },
  {
   "cell_type": "code",
   "execution_count": null,
   "metadata": {
    "collapsed": false
   },
   "outputs": [],
   "source": [
    "print(johnsGenes)"
   ]
  },
  {
   "cell_type": "code",
   "execution_count": null,
   "metadata": {
    "collapsed": false
   },
   "outputs": [],
   "source": [
    "myGenes2.intersection(johnsGenes)"
   ]
  },
  {
   "cell_type": "markdown",
   "metadata": {},
   "source": [
    "## To sum up, pair-wise intersection of the sets of top 10 genes in the analyses, is of the following sizes:\n",
    "- (Adam1, John1) - 0 \n",
    "- (Adam1, Adam2) - 8\n",
    "- (Adam2, John1) - 0\n",
    "\n",
    "Where:\n",
    "- Adam1 is RMA + linear regression\n",
    "- Adam2 is RMA + limma\n",
    "- John is DChip + limma"
   ]
  },
  {
   "cell_type": "markdown",
   "metadata": {},
   "source": [
    "# Reproducing Wilf's results"
   ]
  },
  {
   "cell_type": "code",
   "execution_count": null,
   "metadata": {
    "collapsed": false
   },
   "outputs": [],
   "source": [
    "# We need to compute the following results\n",
    "\n",
    "# Bl_GSE\n",
    "# Bl_DSE_100\n",
    "# Bl_DSE_800\n",
    "# Bl_DSE_101_800\n",
    "\n",
    "import random\n",
    "random.shuffle(sigGenes)\n",
    "allGenes = [gene for pValue, gene in sortedGenes]\n",
    "\n",
    "top100Genes = allGenes[:100]\n",
    "top800Genes = allGenes[:800]\n",
    "top101to800Genes = allGenes[100:800]\n",
    "\n",
    "test1 = CLEANED[MAP_T_CLUSTER_INDEX[\"2315554\"]][0]\n",
    "test2 = 7.54562452199732\n",
    "#assert(abs(test1 - test2) <= pow(10, -10))\n",
    "DSE_DATA = None\n",
    "def dataForWilfsGraph(DSEGenes):\n",
    "    global DSE_DATA\n",
    "    # compute Disease Specific effects\n",
    "    DSE = [0] * CLEANED.shape[1]\n",
    "    relevantGenes = [MAP_T_CLUSTER_INDEX[t_cluster_id] for t_cluster_id in DSEGenes]\n",
    "    otherGenes = [MAP_T_CLUSTER_INDEX[t_cluster_id] for t_cluster_id in allGenes]\n",
    "    \n",
    "    for i in range(CLEANED.shape[1]):\n",
    "        relevantResiduals = [RESIDUALS[j,i] for j in relevantGenes]\n",
    "        DSE[i] = sum(relevantResiduals) / len(relevantResiduals)\n",
    "    DSE_DATA = DSE\n",
    "    # copy CLEANED into another array\n",
    "    DSE_ADJUSTED = np.copy(CLEANED)\n",
    "    \n",
    "    # adjust *all* genes\n",
    "    for i in otherGenes:\n",
    "        for j in range(CLEANED.shape[1]):\n",
    "            DSE_ADJUSTED[i][j] -= DSE[j]\n",
    "    \n",
    "    # now, let's repeat the previous analysis\n",
    "    CLEANED_B, RESIDUALS_B, RESIDUALS_PVALUES_B, MODAL_ALLELE_B, ISEs_B, GENE_PVALUES_B = numpyAnalysis(DSE_ADJUSTED)\n",
    "    return sorted(GENE_PVALUES_B)\n",
    "\n",
    "#judge = [0.2, 0.3,  0.5,  0.6, 0.65, 0.68]\n",
    "#victim = [0.1, 0.15, 0.25, 0.5, 0.55, 0.7]\n",
    "\n",
    "def nplot(judgeStream, victimStream):\n",
    "    judgeIter = 0\n",
    "    victimIter = 0\n",
    "    \n",
    "    assert(len(judgeStream) == len(victimStream))\n",
    "    \n",
    "    end = len(judgeStream)\n",
    "    nextJudge  = judgeStream[judgeIter]\n",
    "    nextVictim = victimStream[victimIter]\n",
    "    \n",
    "    output = []\n",
    "    while True:\n",
    "        currentJudge = nextJudge\n",
    "        currentVictim = nextVictim\n",
    "        if currentVictim <= currentJudge:\n",
    "            victimIter += 1\n",
    "        else:\n",
    "            output.append(victimIter)\n",
    "            judgeIter += 1\n",
    "        try:\n",
    "            nextJudge = judgeStream[judgeIter]\n",
    "            nextVictim = victimStream[victimIter]\n",
    "        except IndexError:\n",
    "            break\n",
    "    return output\n",
    "\n",
    "sortedPValues = sorted(GENE_PVALUES)\n",
    "def showResult(genesForDSE):\n",
    "    return nplot(sortedPValues, dataForWilfsGraph(genesForDSE))"
   ]
  },
  {
   "cell_type": "code",
   "execution_count": null,
   "metadata": {
    "collapsed": false
   },
   "outputs": [],
   "source": [
    "Bl_DSE_100 = showResult(top100Genes)"
   ]
  },
  {
   "cell_type": "code",
   "execution_count": null,
   "metadata": {
    "collapsed": true
   },
   "outputs": [],
   "source": [
    "Bl_DSE_800 = showResult(top800Genes)"
   ]
  },
  {
   "cell_type": "code",
   "execution_count": null,
   "metadata": {
    "collapsed": true
   },
   "outputs": [],
   "source": [
    "Bl_DSE_101_800 = showResult(top101to800Genes)"
   ]
  },
  {
   "cell_type": "code",
   "execution_count": null,
   "metadata": {
    "collapsed": false
   },
   "outputs": [],
   "source": [
    "NEW_PVALUES = dataForWilfsGraph(top100Genes)"
   ]
  },
  {
   "cell_type": "markdown",
   "metadata": {},
   "source": [
    "## Finally, we can simulate Wilf's plots -- we zoom into the region of 25000, 100 and 100 genes."
   ]
  },
  {
   "cell_type": "code",
   "execution_count": null,
   "metadata": {
    "collapsed": false
   },
   "outputs": [],
   "source": [
    "%matplotlib inline\n",
    "plt.rcParams['figure.figsize'] = (12, 8)\n",
    "\n",
    "def makeWilfsPlot(ran):\n",
    "    plt.plot(Bl_DSE_100, label=\"Bl_DSE_100\")\n",
    "    plt.plot(Bl_DSE_800, label=\"Bl_DSE_800\")\n",
    "    plt.plot(Bl_DSE_101_800, label=\"Bl_DSE_101_800\")\n",
    "    plt.plot(range(len(Bl_DSE_100)), label=\"unchanged\")\n",
    "    plt.legend(bbox_to_anchor=(1.05, 1), loc=2, borderaxespad=0)\n",
    "    plt.xlim(0, ran)\n",
    "    plt.ylim(0, ran)\n",
    "    plt.show()\n"
   ]
  },
  {
   "cell_type": "markdown",
   "metadata": {},
   "source": [
    "## First, let's have a look at a whole"
   ]
  },
  {
   "cell_type": "code",
   "execution_count": null,
   "metadata": {
    "collapsed": false
   },
   "outputs": [],
   "source": [
    "makeWilfsPlot(25000)"
   ]
  },
  {
   "cell_type": "markdown",
   "metadata": {},
   "source": [
    "## Then, let's zoom in really close"
   ]
  },
  {
   "cell_type": "code",
   "execution_count": null,
   "metadata": {
    "collapsed": false
   },
   "outputs": [],
   "source": [
    "makeWilfsPlot(200)"
   ]
  },
  {
   "cell_type": "markdown",
   "metadata": {},
   "source": [
    "## Then, let's zoom in at the level Wilf zoomed in"
   ]
  },
  {
   "cell_type": "code",
   "execution_count": null,
   "metadata": {
    "collapsed": false
   },
   "outputs": [],
   "source": [
    "makeWilfsPlot(3000)"
   ]
  },
  {
   "cell_type": "markdown",
   "metadata": {},
   "source": [
    "## For easy reference, here's Wilf's plot repeated:\n",
    "\n",
    "![Wilf DSEs](WilfISEs.jpg)"
   ]
  },
  {
   "cell_type": "markdown",
   "metadata": {},
   "source": [
    "# Progress Report 17/01/2017\n",
    "\n",
    "## Analysis in Limma is fixed\n",
    "\n",
    "Before the winter break, John and I have managed to fix the broken analysis in Limma. We are now getting comparable results using Limma and least-square linear regression.\n",
    "\n",
    "## Literature review\n",
    "\n",
    "After the winter break I've finished off the literature review, which I attach as a separate file.\n",
    "\n",
    "## Raw individual probe data of probes in probe sets\n",
    "\n",
    "I've now got 2 programs:\n",
    " - AlternativeSplicingMD, which can pull out individual probe data about a gene or a group of genes (e.g. Cardiac Troponin 2, TNNT2)\n",
    " - AlternativeSplicingMDVisualisation, which can plot that individual probe data against modal allele length.\n",
    "\n",
    "This enables the following manual process:\n",
    " 1. Identify list of interesting alternative splicing events from literature and write down the corresponding gene IDs (i.e. TNNT2).\n",
    " 2. Go to http://grch37.ensembl.org/ and set it up so that it shows data about our chip (HuEx_st2) and mRNA transcripts.\n",
    " 3. Identify interesting exon and a corresponding probeset.\n",
    " 4. Plot intensities of all probes against modal allele length.\n",
    " 5. Verify the sensibility of probe choices with the help of Blast (I and John had some problems with it, but I managed to sort them out).\n",
    "\n",
    "Going through this manual process, I've made a few realizations:\n",
    "\n",
    "1. Probe intesity data across probesets varies wildly. But it's very consistent across probes belonging to a single probest. \n",
    "2. The transcription clusters, which were reported to us by limma and LSR do not look at all significant at the probe level. What they do look like, is as if they belonged to a group of transcription clusters with very few probesets -> very few probes. This could be expected, because there is heuristic argument to be made, that transcription clusters with fewer probes are more likely to be found significant by random chance. It doesn't look like RMA + Limma or RMA + LSR take this into account.\n",
    "3. In Human Exon Array, the type of microarray we're working with, each probeset contains between 1 - 4 probes targeting a sliver of a transcription cluster. This sliver may correspond to an exon, but not all exons are covered. For example the fifth mini-exon of Cardiac Troponin 2, which is of interest in MD due to reported alternative splicing is not covered.\n",
    "\n",
    "I attach 2 notebooks as separate files:\n",
    "\n",
    "1. AlternativeSplicingMD.ipynb\n",
    "2. AlternativeSplicingMDVisualisation.ipynb\n",
    "\n",
    "But I think reading them is not going to be as valuable as seeing the demo of the manual process.\n",
    "\n",
    "## Checking if $DSE_{100}$ exists\n",
    "\n",
    "I take 200 most significant genes and compute $DSE_{100}$ for 100 random genes and apply it as a correction to the rest of the genes.\n"
   ]
  },
  {
   "cell_type": "markdown",
   "metadata": {},
   "source": [
    "# Comparing P-values between Limma (now fixed and working) and regular regression"
   ]
  },
  {
   "cell_type": "markdown",
   "metadata": {},
   "source": [
    "## False Discovery rates (adjusted p-values) in Limma (x-axis) vs linear regression (y-axis).\n",
    "\n",
    "Why is there a vertical line around 0.4?"
   ]
  },
  {
   "cell_type": "code",
   "execution_count": null,
   "metadata": {
    "collapsed": false
   },
   "outputs": [],
   "source": [
    "idsToPairs = {}\n",
    "\n",
    "for id, gene in Adam2Genes:\n",
    "    idsToPairs[id[1:]] = [gene]\n",
    "\n",
    "for gene, id in sortedGenes:\n",
    "    idsToPairs[id].append(gene)\n",
    "\n",
    "pValuesLimma = [pValues[0] for key, pValues in idsToPairs.items()]\n",
    "pValuesLSR = [pValues[1] for key, pValues in idsToPairs.items()]\n",
    "\n",
    "f = plt.figure()\n",
    "ax = f.add_subplot(111)\n",
    "plt.scatter(pValuesLimma, pValuesLSR)\n",
    "plt.plot([0,1], [0,1], 'r-')\n",
    "ax.set_xlabel(\"Limma\")\n",
    "ax.set_ylabel(\"Least Squares\")\n",
    "\n",
    "#sortedGenes[:10]"
   ]
  },
  {
   "cell_type": "markdown",
   "metadata": {},
   "source": [
    "## P-values (non-adjusted) in Limma (x-axis) vs linear regression (y-axis). Full range."
   ]
  },
  {
   "cell_type": "code",
   "execution_count": null,
   "metadata": {
    "collapsed": false
   },
   "outputs": [],
   "source": [
    "for id, gene in Adam2GenesPValue:\n",
    "    idsToPairs[id[1:]] = [gene]\n",
    "\n",
    "for gene, id in benjhoch:\n",
    "    idsToPairs[id].append(gene)\n",
    "\n",
    "idsToPairs\n",
    "\n",
    "unadjustedPValuesLimma = [pValues[0] for key, pValues in idsToPairs.items()]\n",
    "unadjustedPValuesLCS = [pValues[1] for key, pValues in idsToPairs.items()]\n",
    "\n",
    "f = plt.figure()\n",
    "ax = f.add_subplot(111)\n",
    "\n",
    "plt.scatter(unadjustedPValuesLimma, unadjustedPValuesLCS)\n",
    "plt.plot([0,1], [0,1], 'r-')\n",
    "\n",
    "ax.set_xlabel(\"Limma\")\n",
    "ax.set_ylabel(\"Least Squares\")\n",
    "\n",
    "#sortedGenes[:10]"
   ]
  },
  {
   "cell_type": "markdown",
   "metadata": {},
   "source": [
    "## P-values (non-adjusted) in Limma (x-axis) vs linear regression (y-axis). Zoom level at 0.01"
   ]
  },
  {
   "cell_type": "code",
   "execution_count": null,
   "metadata": {
    "collapsed": false
   },
   "outputs": [],
   "source": [
    "f = plt.figure()\n",
    "ax = f.add_subplot(111)\n",
    "\n",
    "plt.scatter(unadjustedPValuesLimma, unadjustedPValuesLCS)\n",
    "\n",
    "plt.plot([0,1], [0,1], 'ro-')\n",
    "plt.plot([0,1], [0,2], 'go-')\n",
    "limits = [0, 0.0002]\n",
    "\n",
    "plt.xlim(limits)\n",
    "plt.ylim(limits)\n",
    "\n",
    "ax.set_xlabel(\"Limma\")\n",
    "ax.set_ylabel(\"Least Squares\")"
   ]
  },
  {
   "cell_type": "markdown",
   "metadata": {},
   "source": [
    "Red line is the identity. Green line grows 2 times faster than the identity (red line). Blue points between the red line and the green line have p-values up to 2x smaller with limma than with least square regression."
   ]
  },
  {
   "cell_type": "markdown",
   "metadata": {},
   "source": [
    "# Progress Report 29.01.2017\n",
    "\n",
    "## ISEs\n",
    "\n",
    "I've followed up on the work I did a few weeks ago, and I renormalised our data using \"mean-adjusted RMA\". This normalisation procedure works as follows:\n",
    "\n",
    "- Do the RMA.\n",
    "- Compute individual's average expression level $MEAN\\_GEL_{i}$ and average expression level of all individuals $MEAN\\_MEAN\\_GEL$.\n",
    "- For each individual modify each gene by removing a correction factor $MEAN\\_MEAN\\_GEL - MEAN\\_GEL_{i}$\n",
    "\n",
    "This gives data, where each individual has equal value of mean gene expression.\n",
    "\n",
    "Under this normalisation ISEs dissapear, i.e. are no longer significant, nor have a big numeric value (only about $10^{-14}$), many orders of magnitude less than the measurement error.\n",
    "\n",
    "However, DSEs still exist, although the more genes we take, the closer to 0 the DSE will be.\n",
    "\n",
    "## Other improvements of \"mean adjusted RMA\"\n",
    "\n",
    "I have re-run all experiments/analyses up to date (fixing any issues, which arised) and I've noticed two interesting things:\n",
    "\n",
    "- Our new normalisation method seems to help very much (by a factor of 2) with gene significance. Although previous methods gave p-values of 20% earlier on, now we get 10%.\n",
    "- Our new normalisation method seems to remove many genes from the \"mildly significant\" region of p-values < 0.5, 284 genes vs 803.\n",
    "\n",
    "## More expriments\n",
    "\n",
    "I've written a small framework for running expriments. The framework caches all experiments on hard drive, with meaningful filenames, so that I can switch off my computer without loosing 2+ hours of CPU time, and import the results into other programs.\n",
    "\n",
    "I test for biological significance of DSEs by taking 2n of the most significant genes and then splitting them into lower n for computing DSEs and higher n for computing the p-values. The results are again negative.\n"
   ]
  },
  {
   "cell_type": "markdown",
   "metadata": {},
   "source": [
    "# Checking if $DSE_{200}$ exists"
   ]
  },
  {
   "cell_type": "markdown",
   "metadata": {},
   "source": [
    "## First, let us build a little framework to run experiments in."
   ]
  },
  {
   "cell_type": "code",
   "execution_count": null,
   "metadata": {
    "collapsed": true
   },
   "outputs": [],
   "source": [
    "EXPERIMENTS = \"cache\""
   ]
  },
  {
   "cell_type": "code",
   "execution_count": null,
   "metadata": {
    "collapsed": false
   },
   "outputs": [],
   "source": [
    "import time, pickle\n",
    "import os, os.path\n",
    "from contextlib import *\n",
    "\n",
    "experimentsDir = \"experiments\"\n",
    "\n",
    "if not os.path.exists(experimentsDir):\n",
    "    os.makedirs(experimentsDir)\n",
    "\n",
    "\n",
    "@contextmanager\n",
    "def errorOpener(filename, mode=\"r\"):\n",
    "    try:\n",
    "        f = open(filename, mode)\n",
    "    except FileNotFoundError as err:\n",
    "        yield None, err\n",
    "    else:\n",
    "        try:\n",
    "            yield f, None\n",
    "        finally:\n",
    "            f.close()\n",
    "\n",
    "def canonicalForm(function, kwargs):\n",
    "    kwargsToSort = list((a, b) for a, b in kwargs.items())\n",
    "    kwargsToSort.sort()\n",
    "    kwargsCanonical = \",\".join(str(a) + \":\" + str(b) for a, b in kwargsToSort)\n",
    "    filePath = \"=\".join([function.__name__, kwargsCanonical])\n",
    "    return os.path.join(experimentsDir, filePath)\n",
    "\n",
    "def exampleExperiment(name=\"Adam\", surname=\"Kurkiewicz\"):\n",
    "    return \"happy days\"\n",
    "\n",
    "def runExperiment(function, **kwargs):\n",
    "    took = 0\n",
    "    canonicalPath = canonicalForm(function, kwargs)\n",
    "    emptyResult = {\"result\" : None, \"took\" : 0}\n",
    "    if EXPERIMENTS == \"full\":\n",
    "        print(\"Running experiment\", function.__name__, \"with parameters: kwargs=\", kwargs, \". It may take some time. The result will be cached in\", canonicalPath)\n",
    "        start = time.time()\n",
    "        call_result = function(**kwargs)\n",
    "        stop = time.time()\n",
    "        took = stop - start\n",
    "        #print(\"The experiment took\", took, \"seconds\")\n",
    "        result = {\"result\": call_result, \"took\": took}\n",
    "        with open(canonicalPath, \"wb\") as f:\n",
    "            print(result)\n",
    "            pickle.dump(result, f)\n",
    "        return result\n",
    "    elif EXPERIMENTS == \"cache\":\n",
    "        with errorOpener(canonicalPath, \"rb\") as (f, err):\n",
    "            if err:\n",
    "                print(FileNotFoundError(\"Can't find the experiment \" +  canonicalPath + \" consider passing EXPERIMENTS=\\\"full\\\"\"))\n",
    "                return emptyResult\n",
    "            else:\n",
    "                return pickle.load(f)\n",
    "    else:\n",
    "        print(\"In order to run this experiment, please pass either EXPERIMENTS=\\\"cache\\\" or EXPERIMENTS=\\\"full\\\" to the kernel, and rerun relevant cells.\")\n",
    "        return emptyResult\n",
    "\n",
    "runExperiment(exampleExperiment, name=\"Iva\", surname=\"Babukova\")"
   ]
  },
  {
   "cell_type": "code",
   "execution_count": null,
   "metadata": {
    "collapsed": false
   },
   "outputs": [],
   "source": [
    "def DSE_check(noGenes = 200, numberOfAnalyses = 100, randomise=True):\n",
    "    improved = []\n",
    "    for i in range(numberOfAnalyses):\n",
    "        sigGenes = benjhoch[:noGenes]\n",
    "        if randomise:\n",
    "            random.shuffle(sigGenes)\n",
    "        genesA = sigGenes[:noGenes//2]\n",
    "        genesB = sigGenes[noGenes//2:]\n",
    "        DSE_ADJUSTED, relevantGenesBIndex = computeDSE(CLEANED, RESIDUALS, genesA, genesB)\n",
    "        CLEANED_B, RESIDUALS_B, RESIDUALS_PVALUES_B, MODAL_ALLELE_B, ISEs_B, GENE_PVALUES_B = numpyAnalysis(DSE_ADJUSTED)\n",
    "        fractionImproved = fractionImprovedPValues(GENE_PVALUES, GENE_PVALUES_B, relevantGenesBIndex)\n",
    "        improved.append(fractionImproved)\n",
    "    return improved"
   ]
  },
  {
   "cell_type": "code",
   "execution_count": null,
   "metadata": {
    "collapsed": false
   },
   "outputs": [],
   "source": [
    "r = runExperiment(DSE_check, noGenes=200, numberOfAnalyses=100)\n",
    "IMPROVED = r['result']\n",
    "TOOK = r['took']"
   ]
  },
  {
   "cell_type": "code",
   "execution_count": null,
   "metadata": {
    "collapsed": false
   },
   "outputs": [],
   "source": [
    "if IMPROVED:\n",
    "    f = plt.figure()\n",
    "    ax = f.add_subplot(111)\n",
    "    fig = ax.scatter(range(len(IMPROVED)), sorted(IMPROVED))\n",
    "    ax.set_ylabel(\"fraction of improved p-values\")\n",
    "    ax.set_xlabel(\"experiment index. All experiments were ordered\")"
   ]
  },
  {
   "cell_type": "markdown",
   "metadata": {},
   "source": [
    "# Run Experiments in a more similar manner to Wilf, i.e. take first n and adjust the next n. Take n between 0 and 100."
   ]
  },
  {
   "cell_type": "code",
   "execution_count": null,
   "metadata": {
    "collapsed": false
   },
   "outputs": [],
   "source": [
    "results = []\n",
    "genes = []\n",
    "\n",
    "n = 100\n",
    "\n",
    "for geneNo in range(2, 2 * n + 2, 2):\n",
    "    r = runExperiment(DSE_check, noGenes=geneNo, numberOfAnalyses=1, randomise=False)\n",
    "    results.append(r[\"result\"][0])\n",
    "    genes.append(geneNo)"
   ]
  },
  {
   "cell_type": "code",
   "execution_count": null,
   "metadata": {
    "collapsed": false
   },
   "outputs": [],
   "source": [
    "if results:\n",
    "    f = plt.figure()\n",
    "    ax = f.add_subplot(111)\n",
    "    fig = ax.scatter(genes, results)\n",
    "    ax.set_ylabel(\"fraction of improved p-values\")\n",
    "    ax.set_xlabel(\"gene no\")"
   ]
  },
  {
   "cell_type": "code",
   "execution_count": null,
   "metadata": {
    "collapsed": false
   },
   "outputs": [],
   "source": [
    "EXPERIMENTS = \"cache\""
   ]
  },
  {
   "cell_type": "code",
   "execution_count": null,
   "metadata": {
    "collapsed": true
   },
   "outputs": [],
   "source": [
    "EXPERIMENTS = \"full\""
   ]
  },
  {
   "cell_type": "markdown",
   "metadata": {
    "collapsed": true
   },
   "source": [
    "1. run for up to 500 \"Wilf's style\"\n",
    "2. GSEs + correction."
   ]
  }
 ],
 "metadata": {
  "anaconda-cloud": {},
  "kernelspec": {
   "display_name": "Python 3",
   "language": "python",
   "name": "python3"
  },
  "language_info": {
   "codemirror_mode": {
    "name": "ipython",
    "version": 3
   },
   "file_extension": ".py",
   "mimetype": "text/x-python",
   "name": "python",
   "nbconvert_exporter": "python",
   "pygments_lexer": "ipython3",
   "version": "3.6.0"
  }
 },
 "nbformat": 4,
 "nbformat_minor": 0
}
