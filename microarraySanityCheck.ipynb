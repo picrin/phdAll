{
 "cells": [
  {
   "cell_type": "markdown",
   "metadata": {},
   "source": [
    "# Parsing Raw Affymetrix CEL files\n",
    "\n",
    "We define a function, which can be used to rip out probe intensity data from Affymetrix CEL files. Only CEL file version 4 is supported (the binary version). This is suitable for the Human Exon chip. Probe intensity data is written into numpy arrays, to enable easy analysis.\n",
    "\n",
    "Each CEL file contains 3 data points for each probe:\n",
    "\n",
    "`(average pixel intensity, standard deviation of pixel intensity, number of pixels)`\n",
    "\n",
    "This means that the data for the first 10 probes looks similar to:\n",
    "\n",
    "    (7326.0, 875.0999755859375,  9)\n",
    "    (162.0,  34.099998474121094, 9)\n",
    "    (6933.0, 1001.0,             9)\n",
    "    (224.0,  36.400001525878906, 9)\n",
    "    (54.0,   6.0,                9)\n",
    "    (247.0,  23.5,               9)\n",
    "    (210.0,  18.299999237060547, 9)\n",
    "    (207.0,  28.200000762939453, 9)\n",
    "    (1147.0, 188.1999969482422,  9)\n",
    "    (221.0,  24.200000762939453, 9)\n",
    "\n",
    "the function returns a tuple of numpy arrays: `(intensities, deviations, pixels)`"
   ]
  },
  {
   "cell_type": "code",
   "execution_count": 1,
   "metadata": {
    "collapsed": true
   },
   "outputs": [],
   "source": [
    "import sys\n",
    "import struct\n",
    "import numpy\n",
    "\n",
    "def readCEL4(celfile):\n",
    "    numbers = [\"magic\", \"version\", \"columns\", \"rows\", \"cellNo\", \"headerLen\"]\n",
    "    numbersMap = {}\n",
    "    headerMap = {}\n",
    "    with open(celfile, \"rb\") as f:\n",
    "\n",
    "        for name in numbers:\n",
    "            numbersMap[name] = struct.unpack('<i', f.read(4))[0]\n",
    "        char = f.read(numbersMap[\"headerLen\"])\n",
    "        header = char.decode(\"ascii\", \"ignore\")\n",
    "        for header in header.split(\"\\n\"):\n",
    "            if \"=\" in header:\n",
    "                header = header.split(\"=\")\n",
    "                headerMap[header[0]] = header[1]\n",
    "\n",
    "        char = b'\\x00'\n",
    "        safetyValve = 10**4\n",
    "        for i in range(10**4):\n",
    "            char = f.read(1)\n",
    "            if char == b'\\x04':\n",
    "                break\n",
    "            if i == safetyValve:\n",
    "                raise(ValueError(\"Parse Error\"))\n",
    "\n",
    "        padding = f.read(15)\n",
    "\n",
    "        structa = struct.Struct(\"< f f h\")\n",
    "\n",
    "        structSize = 10\n",
    "\n",
    "        length = numbersMap[\"cellNo\"]\n",
    "\n",
    "        intensities = numpy.empty(length, dtype=float)\n",
    "        deviations = numpy.empty(length, dtype=float)\n",
    "        pixels = numpy.empty(length, dtype=int)\n",
    "\n",
    "        b = f.read(structSize * length)\n",
    "        for i in range(length):\n",
    "            binaryFragment = b[i * structSize : (i + 1) * structSize]\n",
    "            intensity, deviation, pixelcount = structa.unpack(binaryFragment)\n",
    "            intensities[i] = intensity\n",
    "            deviations[i] = deviation\n",
    "            pixels[i] = pixelcount\n",
    "\n",
    "    return intensities, deviations, pixels"
   ]
  },
  {
   "cell_type": "code",
   "execution_count": 2,
   "metadata": {
    "collapsed": false
   },
   "outputs": [],
   "source": [
    "import os, os.path\n",
    "p = os.path.join\n",
    "CELDir = p(\"CELfiles\", \"blood\")\n",
    "CELfiles = os.listdir(CELDir)\n",
    "\n",
    "intensities, stdevs, pixels = readCEL4(p(CELDir, CELfiles[0]))"
   ]
  },
  {
   "cell_type": "code",
   "execution_count": 6,
   "metadata": {
    "collapsed": false
   },
   "outputs": [
    {
     "name": "stdout",
     "output_type": "stream",
     "text": [
      "6553600\n",
      "30152.0\n"
     ]
    },
    {
     "data": {
      "image/png": "[encoded data removed]",
      "text/plain": [
       "<matplotlib.figure.Figure at 0x7f789ab11ba8>"
      ]
     },
     "metadata": {},
     "output_type": "display_data"
    }
   ],
   "source": [
    "import matplotlib.pyplot as plt\n",
    "%matplotlib inline\n",
    "\n",
    "print(len(intensities))\n",
    "\n",
    "print(max(intensities))\n",
    "\n",
    "plt.hist(intensities, bins=100, log=1)\n",
    "\n",
    "plt.show()"
   ]
  },
  {
   "cell_type": "code",
   "execution_count": 4,
   "metadata": {
    "collapsed": false
   },
   "outputs": [
    {
     "data": {
      "image/png": "[encoded data removed]",
      "text/plain": [
       "<matplotlib.figure.Figure at 0x7f789a8529e8>"
      ]
     },
     "metadata": {},
     "output_type": "display_data"
    }
   ],
   "source": [
    "import matplotlib.pyplot as plt\n",
    "%matplotlib inline\n",
    "\n",
    "plt.hist(stdevs, bins=100, log=1)\n",
    "\n",
    "plt.show()"
   ]
  },
  {
   "cell_type": "code",
   "execution_count": 5,
   "metadata": {
    "collapsed": false
   },
   "outputs": [
    {
     "ename": "SyntaxError",
     "evalue": "invalid syntax (<ipython-input-5-54613eddcce8>, line 1)",
     "output_type": "error",
     "traceback": [
      "\u001b[1;36m  File \u001b[1;32m\"<ipython-input-5-54613eddcce8>\"\u001b[1;36m, line \u001b[1;32m1\u001b[0m\n\u001b[1;33m    plt.scatter(intensities, stdevs) ``\u001b[0m\n\u001b[1;37m                                     ^\u001b[0m\n\u001b[1;31mSyntaxError\u001b[0m\u001b[1;31m:\u001b[0m invalid syntax\n"
     ]
    }
   ],
   "source": [
    "plt.scatter(intensities, stdevs) ``\n",
    "\n",
    "plt.show()"
   ]
  },
  {
   "cell_type": "code",
   "execution_count": null,
   "metadata": {
    "collapsed": true
   },
   "outputs": [],
   "source": [
    "zip(intensities, stdevs)"
   ]
  },
  {
   "cell_type": "code",
   "execution_count": null,
   "metadata": {
    "collapsed": true
   },
   "outputs": [],
   "source": []
  }
 ],
 "metadata": {
  "anaconda-cloud": {},
  "kernelspec": {
   "display_name": "Python [Root]",
   "language": "python",
   "name": "Python [Root]"
  },
  "language_info": {
   "codemirror_mode": {
    "name": "ipython",
    "version": 3
   },
   "file_extension": ".py",
   "mimetype": "text/x-python",
   "name": "python",
   "nbconvert_exporter": "python",
   "pygments_lexer": "ipython3",
   "version": "3.5.2"
  }
 },
 "nbformat": 4,
 "nbformat_minor": 0
}
